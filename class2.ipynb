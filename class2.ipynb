{
 "cells": [
  {
   "cell_type": "code",
   "execution_count": 13,
   "metadata": {},
   "outputs": [
    {
     "name": "stdout",
     "output_type": "stream",
     "text": [
      "1\n"
     ]
    }
   ],
   "source": [
    "a={1:1,2:2,3:3}\n",
    "v=iter(a)\n",
    "print(next(v))"
   ]
  },
  {
   "cell_type": "code",
   "execution_count": 29,
   "metadata": {},
   "outputs": [
    {
     "name": "stdout",
     "output_type": "stream",
     "text": [
      "0 \n",
      "1\n",
      "1\n",
      "2\n",
      "3\n",
      "5\n",
      "8\n",
      "13\n",
      "21\n",
      "34\n",
      "55\n",
      "89\n"
     ]
    }
   ],
   "source": [
    "ft=0\n",
    "st=1\n",
    "tt=0\n",
    "print (\"0 \\n1\")\n",
    "#def fibon(x):\n",
    "for i in range(10):\n",
    "    tt=ft+st\n",
    "    print(tt)\n",
    "    temp=st\n",
    "    ft=temp\n",
    "    st=tt\n",
    "    \n",
    "#for num in fibon(10):\n",
    "#    print(x)"
   ]
  },
  {
   "cell_type": "code",
   "execution_count": 8,
   "metadata": {},
   "outputs": [
    {
     "name": "stdout",
     "output_type": "stream",
     "text": [
      "h\n",
      "e\n",
      "l\n",
      "l\n",
      "o\n"
     ]
    }
   ],
   "source": [
    "s=\"hello\"\n",
    "for x in s:\n",
    "    print(x)"
   ]
  },
  {
   "cell_type": "code",
   "execution_count": 9,
   "metadata": {},
   "outputs": [
    {
     "name": "stdout",
     "output_type": "stream",
     "text": [
      "<str_iterator object at 0x000001E25506C400>\n"
     ]
    }
   ],
   "source": [
    "k=iter(s)\n",
    "print(k)"
   ]
  },
  {
   "cell_type": "code",
   "execution_count": 10,
   "metadata": {},
   "outputs": [
    {
     "data": {
      "text/plain": [
       "'h'"
      ]
     },
     "execution_count": 10,
     "metadata": {},
     "output_type": "execute_result"
    }
   ],
   "source": [
    "next(k)"
   ]
  },
  {
   "cell_type": "code",
   "execution_count": 11,
   "metadata": {},
   "outputs": [
    {
     "data": {
      "text/plain": [
       "'e'"
      ]
     },
     "execution_count": 11,
     "metadata": {},
     "output_type": "execute_result"
    }
   ],
   "source": [
    "next(k)"
   ]
  },
  {
   "cell_type": "code",
   "execution_count": 38,
   "metadata": {},
   "outputs": [
    {
     "name": "stdout",
     "output_type": "stream",
     "text": [
      "Enters\n",
      "There is an error\n",
      "Always executed\n"
     ]
    }
   ],
   "source": [
    "#exception Handling\n",
    "try:\n",
    "    2 + 4\n",
    "    a=int(input(\"Enter\"))\n",
    "except:\n",
    "    print(\"There is an error\")\n",
    "finally:\n",
    "    print(\"Always executed\")"
   ]
  },
  {
   "cell_type": "code",
   "execution_count": 35,
   "metadata": {},
   "outputs": [
    {
     "name": "stdout",
     "output_type": "stream",
     "text": [
      "Error in the file\n"
     ]
    }
   ],
   "source": [
    "try:\n",
    "    f=open(\"test.txt\",\"r\")\n",
    "    f.write(\"Test file is running ebvhwbviqwrchkbckbwdkshbwabcwuubwekb\")\n",
    "except:\n",
    "    print(\"Error in the file\")\n",
    "else:\n",
    "    print(\"File written successful\")"
   ]
  },
  {
   "cell_type": "code",
   "execution_count": null,
   "metadata": {},
   "outputs": [
    {
     "name": "stdout",
     "output_type": "stream",
     "text": [
      "Enter a Integers\n",
      "You did'nt Enterd a Integer try again:\n",
      "Enter a Integer1\n",
      "Correct !!\n",
      "Enter a Integer*\n",
      "You did'nt Enterd a Integer try again:\n"
     ]
    }
   ],
   "source": [
    "#write a function to ask an integer\n",
    "while True:\n",
    "    try:\n",
    "         a=int(input(\"Enter a Integer\"))\n",
    "    except:\n",
    "        print(\"You did'nt Enterd a Integer try again:\")\n",
    "        continue\n",
    "    else:\n",
    "        print(\"Correct !!\")\n",
    "        break()\n",
    "func()"
   ]
  },
  {
   "cell_type": "code",
   "execution_count": 4,
   "metadata": {},
   "outputs": [],
   "source": [
    "#write a function thats ask for an integer and print a square of it use a while loop with a try except else block for incorrect\n",
    "#input\n",
    "def func():\n",
    "    while 1:\n",
    "        try:\n",
    "            a=int(input(\"Enter an integer :\"))\n",
    "            print(a**2)\n",
    "        except:\n",
    "            print(\"You did'nt Enterd a Integer try again:\")\n",
    "            continue\n",
    "        else:\n",
    "            print(\"You got your Answer\")\n",
    "            break"
   ]
  },
  {
   "cell_type": "code",
   "execution_count": 5,
   "metadata": {},
   "outputs": [
    {
     "name": "stdout",
     "output_type": "stream",
     "text": [
      "Enter an integer :g\n",
      "You did'nt Enterd a Integer try again:\n",
      "Enter an integer :5.77\n",
      "You did'nt Enterd a Integer try again:\n",
      "Enter an integer :4\n",
      "16\n",
      "You got your Answer\n"
     ]
    }
   ],
   "source": [
    "func()"
   ]
  },
  {
   "cell_type": "code",
   "execution_count": 6,
   "metadata": {},
   "outputs": [],
   "source": [
    "#web stock after a particular interval using time module"
   ]
  },
  {
   "cell_type": "code",
   "execution_count": null,
   "metadata": {},
   "outputs": [],
   "source": []
  },
  {
   "cell_type": "code",
   "execution_count": null,
   "metadata": {},
   "outputs": [],
   "source": []
  },
  {
   "cell_type": "code",
   "execution_count": 8,
   "metadata": {},
   "outputs": [],
   "source": [
    "#Matplotlib\n",
    "import matplotlib as mp\n",
    "import matplotlib.pyplot as plt"
   ]
  },
  {
   "cell_type": "code",
   "execution_count": 16,
   "metadata": {},
   "outputs": [
    {
     "data": {
      "image/png": "[encoded data removed]",
      "text/plain": [
       "<Figure size 432x288 with 1 Axes>"
      ]
     },
     "metadata": {},
     "output_type": "display_data"
    }
   ],
   "source": [
    "a=plt.plot([1,3,5,6],[34,56,10,67])"
   ]
  },
  {
   "cell_type": "code",
   "execution_count": null,
   "metadata": {},
   "outputs": [],
   "source": []
  },
  {
   "cell_type": "code",
   "execution_count": 73,
   "metadata": {},
   "outputs": [],
   "source": [
    "#text file containing coordinates\n",
    "f=open(\"coo.txt\",\"w+\")"
   ]
  },
  {
   "cell_type": "code",
   "execution_count": 75,
   "metadata": {},
   "outputs": [
    {
     "data": {
      "text/plain": [
       "25"
      ]
     },
     "execution_count": 75,
     "metadata": {},
     "output_type": "execute_result"
    }
   ],
   "source": [
    "f.write('''5,18\n",
    "1,5\n",
    "2,34\n",
    "5,20\n",
    "10,52\n",
    "''')"
   ]
  },
  {
   "cell_type": "code",
   "execution_count": 76,
   "metadata": {},
   "outputs": [],
   "source": [
    "f.seek(0,0)\n",
    "str=f.read()"
   ]
  },
  {
   "cell_type": "code",
   "execution_count": 70,
   "metadata": {},
   "outputs": [
    {
     "data": {
      "text/plain": [
       "'5,18,1,5,2,34,5,20,10,52,'"
      ]
     },
     "execution_count": 70,
     "metadata": {},
     "output_type": "execute_result"
    }
   ],
   "source": [
    "import re\n",
    "x=re.compile(\"\\n\")\n",
    "y=x.sub(\",\",str)\n",
    "#print(y)\n",
    "y=y[1:]\n",
    "y"
   ]
  },
  {
   "cell_type": "code",
   "execution_count": 38,
   "metadata": {},
   "outputs": [
    {
     "data": {
      "text/plain": [
       "26"
      ]
     },
     "execution_count": 38,
     "metadata": {},
     "output_type": "execute_result"
    }
   ],
   "source": [
    "len(y)"
   ]
  },
  {
   "cell_type": "code",
   "execution_count": 43,
   "metadata": {},
   "outputs": [],
   "source": [
    "l1=[]\n",
    "i=0\n",
    "for i in range(len(y)-1):\n",
    "    l1.append(y[i])\n",
    "    "
   ]
  },
  {
   "cell_type": "code",
   "execution_count": 44,
   "metadata": {},
   "outputs": [
    {
     "data": {
      "text/plain": [
       "[' ',\n",
       " '5',\n",
       " ',',\n",
       " '1',\n",
       " '8',\n",
       " ' ',\n",
       " '1',\n",
       " ',',\n",
       " '5',\n",
       " ' ',\n",
       " '2',\n",
       " ',',\n",
       " '3',\n",
       " '4',\n",
       " ' ',\n",
       " '5',\n",
       " ',',\n",
       " '2',\n",
       " '0',\n",
       " ' ',\n",
       " '1',\n",
       " '0',\n",
       " ',',\n",
       " '5',\n",
       " '2']"
      ]
     },
     "execution_count": 44,
     "metadata": {},
     "output_type": "execute_result"
    }
   ],
   "source": [
    "l1"
   ]
  },
  {
   "cell_type": "code",
   "execution_count": 51,
   "metadata": {},
   "outputs": [
    {
     "name": "stdout",
     "output_type": "stream",
     "text": [
      "['5', '1', '8', '1', '5', '2', '3', '4', '5', '2', '0', '1', '0', '5', '2']\n"
     ]
    }
   ],
   "source": [
    "allstr=re.findall(\"[0-9]\",y)\n",
    "print(allstr)"
   ]
  },
  {
   "cell_type": "code",
   "execution_count": 69,
   "metadata": {},
   "outputs": [],
   "source": [
    "x=[]\n",
    "z=[]\n",
    "val=[]\n",
    "i=0\n",
    "j=2\n",
    "for i in y:\n",
    "    val=i.split(',')\n",
    "    x.append(val[0])\n",
    "   # z.append(val[1])\n",
    "    "
   ]
  },
  {
   "cell_type": "code",
   "execution_count": 78,
   "metadata": {},
   "outputs": [
    {
     "name": "stdout",
     "output_type": "stream",
     "text": [
      "['\\n']\n",
      "['5']\n",
      "['', '']\n",
      "['1']\n",
      "['8']\n",
      "['\\n']\n",
      "['1']\n",
      "['', '']\n",
      "['5']\n",
      "['\\n']\n",
      "['2']\n",
      "['', '']\n",
      "['3']\n",
      "['4']\n",
      "['\\n']\n",
      "['5']\n",
      "['', '']\n",
      "['2']\n",
      "['0']\n",
      "['\\n']\n",
      "['1']\n",
      "['0']\n",
      "['', '']\n",
      "['5']\n",
      "['2']\n",
      "['\\n']\n",
      "['5']\n",
      "['', '']\n",
      "['1']\n",
      "['8']\n",
      "['\\n']\n",
      "['1']\n",
      "['', '']\n",
      "['5']\n",
      "['\\n']\n",
      "['2']\n",
      "['', '']\n",
      "['3']\n",
      "['4']\n",
      "['\\n']\n",
      "['5']\n",
      "['', '']\n",
      "['2']\n",
      "['0']\n",
      "['\\n']\n",
      "['1']\n",
      "['0']\n",
      "['', '']\n",
      "['5']\n",
      "['2']\n",
      "['\\n']\n"
     ]
    }
   ],
   "source": [
    "for i in str:\n",
    "    val=i.split(',')\n",
    "    print(val)"
   ]
  },
  {
   "cell_type": "code",
   "execution_count": 77,
   "metadata": {},
   "outputs": [
    {
     "data": {
      "text/plain": [
       "'\\n5,18\\n1,5\\n2,34\\n5,20\\n10,52\\n5,18\\n1,5\\n2,34\\n5,20\\n10,52\\n'"
      ]
     },
     "execution_count": 77,
     "metadata": {},
     "output_type": "execute_result"
    }
   ],
   "source": [
    "str"
   ]
  },
  {
   "cell_type": "code",
   "execution_count": 107,
   "metadata": {},
   "outputs": [],
   "source": [
    "f=open(\"coo.txt\",\"w+\")\n",
    "f.write('''5,18\n",
    "1,5\n",
    "2,34\n",
    "5,20\n",
    "10,52\n",
    "''')\n",
    "f.seek(0.0)\n",
    "data=f.read().split('\\n')"
   ]
  },
  {
   "cell_type": "code",
   "execution_count": 108,
   "metadata": {},
   "outputs": [
    {
     "data": {
      "text/plain": [
       "['5,18', '1,5', '2,34', '5,20', '10,52', '']"
      ]
     },
     "execution_count": 108,
     "metadata": {},
     "output_type": "execute_result"
    }
   ],
   "source": [
    "data"
   ]
  },
  {
   "cell_type": "code",
   "execution_count": 158,
   "metadata": {},
   "outputs": [
    {
     "ename": "IndexError",
     "evalue": "list index out of range",
     "output_type": "error",
     "traceback": [
      "\u001b[1;31m---------------------------------------------------------------------------\u001b[0m",
      "\u001b[1;31mIndexError\u001b[0m                                Traceback (most recent call last)",
      "\u001b[1;32m<ipython-input-158-7dcf7d55540a>\u001b[0m in \u001b[0;36m<module>\u001b[1;34m()\u001b[0m\n\u001b[0;32m      7\u001b[0m     \u001b[1;31m#k=iter(i)\u001b[0m\u001b[1;33m\u001b[0m\u001b[1;33m\u001b[0m\u001b[0m\n\u001b[0;32m      8\u001b[0m     \u001b[1;31m#val=(next(k)).split(',')\u001b[0m\u001b[1;33m\u001b[0m\u001b[1;33m\u001b[0m\u001b[0m\n\u001b[1;32m----> 9\u001b[1;33m     \u001b[0my\u001b[0m\u001b[1;33m.\u001b[0m\u001b[0mappend\u001b[0m\u001b[1;33m(\u001b[0m\u001b[0mval\u001b[0m\u001b[1;33m[\u001b[0m\u001b[1;36m1\u001b[0m\u001b[1;33m]\u001b[0m\u001b[1;33m)\u001b[0m\u001b[1;33m\u001b[0m\u001b[0m\n\u001b[0m\u001b[0;32m     10\u001b[0m \u001b[1;33m\u001b[0m\u001b[0m\n",
      "\u001b[1;31mIndexError\u001b[0m: list index out of range"
     ]
    }
   ],
   "source": [
    "val=[]\n",
    "x=[]\n",
    "y=[]\n",
    "for i in data:\n",
    "    val=i.split(',')\n",
    "    x.append(val[0])\n",
    "    #k=iter(i)\n",
    "    #val=(next(k)).split(',')\n",
    "    y.append(val[1])\n",
    "    "
   ]
  },
  {
   "cell_type": "code",
   "execution_count": 156,
   "metadata": {},
   "outputs": [
    {
     "data": {
      "text/plain": [
       "['5', '1', '2', '5', '10', '']"
      ]
     },
     "execution_count": 156,
     "metadata": {},
     "output_type": "execute_result"
    }
   ],
   "source": [
    "x"
   ]
  },
  {
   "cell_type": "code",
   "execution_count": 157,
   "metadata": {},
   "outputs": [
    {
     "data": {
      "text/plain": [
       "['5', '1', '2', '5', '10', '']"
      ]
     },
     "execution_count": 157,
     "metadata": {},
     "output_type": "execute_result"
    }
   ],
   "source": [
    "y"
   ]
  },
  {
   "cell_type": "code",
   "execution_count": 130,
   "metadata": {},
   "outputs": [
    {
     "data": {
      "text/plain": [
       "<function matplotlib.pyplot.show(*args, **kw)>"
      ]
     },
     "execution_count": 130,
     "metadata": {},
     "output_type": "execute_result"
    },
    {
     "data": {
      "image/png": "[encoded data removed]",
      "text/plain": [
       "<Figure size 432x288 with 4 Axes>"
      ]
     },
     "metadata": {},
     "output_type": "display_data"
    }
   ],
   "source": [
    "import matplotlib.pyplot as plt\n",
    "\n",
    "fig=plt.figure()\n",
    "\n",
    "rect=fig.patch\n",
    "\n",
    "rect.set_facecolor('green')\n",
    "\n",
    "x=[1,2,3,4,5]\n",
    "y=[20,30,60,80,100]\n",
    "\n",
    "\n",
    "x1=[6,7,8,9]\n",
    "y1=[10,15,30,40]\n",
    "\n",
    "graph1=fig.add_subplot(1,1,1)\n",
    "graph2=fig.add_subplot(1,2,2)\n",
    "\n",
    "graph3=fig.add_subplot(2,1,1)\n",
    "graph4=fig.add_subplot(2,2,2)\n",
    "\n",
    "graph1.plot(x,y,'red',linewidth=3.0)\n",
    "graph2.plot(x1,y1,'yellow',linewidth=3.0)\n",
    "graph3.plot(x,y,'grey',linewidth=3.0)\n",
    "graph4.plot(x1,y1,'black',linewidth=3.0)\n",
    "\n",
    "\n",
    "graph1.tick_params(axis='x',color='white')\n",
    "graph1.tick_params(axis='y',color='red')\n",
    "graph1.spines['top'].set_color('w')\n",
    "graph1.spines['bottom'].set_color('w')\n",
    "graph1.spines['left'].set_color('w')\n",
    "graph1.spines['right'].set_color('w')\n",
    "\n",
    "graph1.set_title('title of graph')\n",
    "graph1.set_xlabel('x-axis------------------------>')\n",
    "graph1.set_ylabel('y-axis------------------------>')\n",
    "\n",
    "plt.show"
   ]
  },
  {
   "cell_type": "code",
   "execution_count": 144,
   "metadata": {},
   "outputs": [
    {
     "data": {
      "image/png": "[encoded data removed]",
      "text/plain": [
       "<Figure size 432x288 with 1 Axes>"
      ]
     },
     "metadata": {},
     "output_type": "display_data"
    }
   ],
   "source": [
    "import matplotlib.pyplot as plt\n",
    "sizes=[25,30,21,15,9]\n",
    "colors=['Yellow', 'red', 'green','magenta','Grey']\n",
    "labels=['Android','B','C','D','E']\n",
    "plt.pie(sizes, colors=colors,startangle=90,labels=labels)\n",
    "plt.axis('equal')\n",
    "plt.legend(title ='legend',loc='lower left')\n",
    "plt.show()"
   ]
  },
  {
   "cell_type": "code",
   "execution_count": 149,
   "metadata": {},
   "outputs": [],
   "source": [
    "import matplotlib.pyplot as plt\n",
    "from mpl_toolkits.mplot3d import axes3d"
   ]
  },
  {
   "cell_type": "code",
   "execution_count": 153,
   "metadata": {},
   "outputs": [
    {
     "data": {
      "image/png": "[encoded data removed]",
      "text/plain": [
       "<Figure size 432x288 with 1 Axes>"
      ]
     },
     "metadata": {},
     "output_type": "display_data"
    }
   ],
   "source": [
    "fig = plt.figure()\n",
    "chart = fig.add_subplot(1,1,1, projection = '3d')\n",
    "x, y, z = [1,2,3,4,5,6,7,8],[3,5,7,9,1,3,4,5],[9,8,7,4,3,2,1,5]\n",
    "chart.plot(x,y,z)\n",
    "plt.show()"
   ]
  },
  {
   "cell_type": "code",
   "execution_count": 165,
   "metadata": {},
   "outputs": [
    {
     "name": "stdout",
     "output_type": "stream",
     "text": [
      "enter :2\n"
     ]
    },
    {
     "data": {
      "text/plain": [
       "12.566370614359172"
      ]
     },
     "execution_count": 165,
     "metadata": {},
     "output_type": "execute_result"
    }
   ],
   "source": [
    "import math\n",
    "r=float(input(\"enter :\"))\n",
    "area= math.pi * r**2\n",
    "area"
   ]
  },
  {
   "cell_type": "code",
   "execution_count": 169,
   "metadata": {},
   "outputs": [
    {
     "name": "stdout",
     "output_type": "stream",
     "text": [
      "The 5X5 random integer array is : \n",
      "[[352  97 254  33 315]\n",
      " [493 211 313 272 105]\n",
      " [308 249 479  56 241]\n",
      " [267 344 259  37 354]\n",
      " [394 479 288 249 351]]\n"
     ]
    }
   ],
   "source": [
    "import numpy as np\n",
    "x= np.random.randint(low=1,high=500,size=(5,5))\n",
    "#x=np.random.random((5,5))\n",
    "print(\"The 5X5 random integer array is : \")\n",
    "print(x)"
   ]
  },
  {
   "cell_type": "code",
   "execution_count": 171,
   "metadata": {},
   "outputs": [
    {
     "ename": "TypeError",
     "evalue": "'str' object is not callable",
     "output_type": "error",
     "traceback": [
      "\u001b[1;31m---------------------------------------------------------------------------\u001b[0m",
      "\u001b[1;31mTypeError\u001b[0m                                 Traceback (most recent call last)",
      "\u001b[1;32m<ipython-input-171-27316b652f11>\u001b[0m in \u001b[0;36m<module>\u001b[1;34m()\u001b[0m\n\u001b[0;32m      1\u001b[0m \u001b[0mxmin\u001b[0m\u001b[1;33m,\u001b[0m \u001b[0mxmax\u001b[0m\u001b[1;33m=\u001b[0m \u001b[0mx\u001b[0m\u001b[1;33m.\u001b[0m\u001b[0mmin\u001b[0m\u001b[1;33m(\u001b[0m\u001b[1;33m)\u001b[0m\u001b[1;33m,\u001b[0m \u001b[0mx\u001b[0m\u001b[1;33m.\u001b[0m\u001b[0mmax\u001b[0m\u001b[1;33m(\u001b[0m\u001b[1;33m)\u001b[0m\u001b[1;33m\u001b[0m\u001b[0m\n\u001b[1;32m----> 2\u001b[1;33m \u001b[0mprint\u001b[0m\u001b[1;33m(\u001b[0m\u001b[1;34m\"The max is: \"\u001b[0m\u001b[1;33m+\u001b[0m \u001b[0mstr\u001b[0m\u001b[1;33m(\u001b[0m\u001b[0mxmax\u001b[0m\u001b[1;33m)\u001b[0m\u001b[1;33m)\u001b[0m\u001b[1;33m\u001b[0m\u001b[0m\n\u001b[0m\u001b[0;32m      3\u001b[0m \u001b[0mprint\u001b[0m\u001b[1;33m(\u001b[0m\u001b[1;34m\"The max is: \"\u001b[0m\u001b[1;33m+\u001b[0m \u001b[0mstr\u001b[0m\u001b[1;33m(\u001b[0m\u001b[0mxmin\u001b[0m\u001b[1;33m)\u001b[0m\u001b[1;33m)\u001b[0m\u001b[1;33m\u001b[0m\u001b[0m\n",
      "\u001b[1;31mTypeError\u001b[0m: 'str' object is not callable"
     ]
    }
   ],
   "source": [
    "xmin, xmax= x.min(), x.max()\n",
    "print(\"The max is: \"+ str(xmax))\n",
    "print(\"The max is: \"+ str(xmin))"
   ]
  },
  {
   "cell_type": "code",
   "execution_count": 173,
   "metadata": {},
   "outputs": [
    {
     "data": {
      "text/plain": [
       "array([[352,  97, 254,  33, 315],\n",
       "       [493, 211, 313, 272, 105],\n",
       "       [308, 249, 479,  56, 241]])"
      ]
     },
     "execution_count": 173,
     "metadata": {},
     "output_type": "execute_result"
    }
   ],
   "source": [
    "#first  3 rows of the above array\n",
    "y=x[:3,:]\n",
    "y"
   ]
  },
  {
   "cell_type": "code",
   "execution_count": 174,
   "metadata": {},
   "outputs": [
    {
     "data": {
      "text/plain": [
       "array([[0.69347826, 0.13913043, 0.48043478, 0.        , 0.61304348],\n",
       "       [1.        , 0.38695652, 0.60869565, 0.51956522, 0.15652174],\n",
       "       [0.59782609, 0.46956522, 0.96956522, 0.05      , 0.45217391],\n",
       "       [0.50869565, 0.67608696, 0.49130435, 0.00869565, 0.69782609],\n",
       "       [0.78478261, 0.96956522, 0.55434783, 0.46956522, 0.69130435]])"
      ]
     },
     "execution_count": 174,
     "metadata": {},
     "output_type": "execute_result"
    }
   ],
   "source": [
    "z= (x-xmin)/(xmax -xmin) #normalization\n",
    "z"
   ]
  },
  {
   "cell_type": "code",
   "execution_count": 182,
   "metadata": {},
   "outputs": [
    {
     "data": {
      "text/plain": [
       "array([[ 33,  97, 254, 315, 352]])"
      ]
     },
     "execution_count": 182,
     "metadata": {},
     "output_type": "execute_result"
    }
   ],
   "source": [
    "a= x[:1,:]\n",
    "a\n"
   ]
  },
  {
   "cell_type": "code",
   "execution_count": 183,
   "metadata": {},
   "outputs": [
    {
     "data": {
      "text/plain": [
       "array([[ 33,  97, 254, 315, 352]])"
      ]
     },
     "execution_count": 183,
     "metadata": {},
     "output_type": "execute_result"
    }
   ],
   "source": [
    "a.sort()\n",
    "a"
   ]
  },
  {
   "cell_type": "code",
   "execution_count": 184,
   "metadata": {},
   "outputs": [
    {
     "data": {
      "text/plain": [
       "[1, 2, 1, 2, 1, 2, 1, 2]"
      ]
     },
     "execution_count": 184,
     "metadata": {},
     "output_type": "execute_result"
    }
   ],
   "source": [
    "l=[1,2]\n",
    "l*4"
   ]
  },
  {
   "cell_type": "code",
   "execution_count": 185,
   "metadata": {},
   "outputs": [
    {
     "data": {
      "text/plain": [
       "'HELLO'"
      ]
     },
     "execution_count": 185,
     "metadata": {},
     "output_type": "execute_result"
    }
   ],
   "source": [
    "str=\"hello\"\n",
    "str.upper()"
   ]
  },
  {
   "cell_type": "code",
   "execution_count": null,
   "metadata": {},
   "outputs": [],
   "source": []
  }
 ],
 "metadata": {
  "kernelspec": {
   "display_name": "Python 3",
   "language": "python",
   "name": "python3"
  },
  "language_info": {
   "codemirror_mode": {
    "name": "ipython",
    "version": 3
   },
   "file_extension": ".py",
   "mimetype": "text/x-python",
   "name": "python",
   "nbconvert_exporter": "python",
   "pygments_lexer": "ipython3",
   "version": "3.6.5"
  }
 },
 "nbformat": 4,
 "nbformat_minor": 2
}
