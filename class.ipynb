{
 "cells": [
  {
   "cell_type": "code",
   "execution_count": 41,
   "metadata": {},
   "outputs": [],
   "source": [
    "class stud:\n",
    "    def __init__(self,name,age,grade):\n",
    "        self.name=name\n",
    "        self.age=age\n",
    "        self.grade=grade\n",
    "    def display(self):\n",
    "        print(\"The name is: \"+ self.name + \" and his age :\" + str(self.age) + \" He is in \" + self.grade + \" grade\")\n",
    "        "
   ]
  },
  {
   "cell_type": "code",
   "execution_count": 42,
   "metadata": {},
   "outputs": [],
   "source": [
    "a = stud(\"roshan\",2,\"8th\")\n",
    "b = stud(\"Gupta\",2,\"9th\")"
   ]
  },
  {
   "cell_type": "code",
   "execution_count": 43,
   "metadata": {},
   "outputs": [
    {
     "name": "stdout",
     "output_type": "stream",
     "text": [
      "student name 2\n"
     ]
    }
   ],
   "source": [
    "print(\"student name \"+ str(a.age))"
   ]
  },
  {
   "cell_type": "code",
   "execution_count": 44,
   "metadata": {},
   "outputs": [
    {
     "data": {
      "text/plain": [
       "str"
      ]
     },
     "execution_count": 44,
     "metadata": {},
     "output_type": "execute_result"
    }
   ],
   "source": [
    "type(str(a.age))"
   ]
  },
  {
   "cell_type": "code",
   "execution_count": 45,
   "metadata": {},
   "outputs": [
    {
     "name": "stdout",
     "output_type": "stream",
     "text": [
      "The name is: roshan and his age :2 He is in 8th grade\n",
      "None\n"
     ]
    }
   ],
   "source": [
    "print(a.display())"
   ]
  },
  {
   "cell_type": "code",
   "execution_count": 46,
   "metadata": {},
   "outputs": [
    {
     "name": "stdout",
     "output_type": "stream",
     "text": [
      "The name is: Gupta and his age :2 He is in 9th grade\n"
     ]
    }
   ],
   "source": [
    "b.display()"
   ]
  },
  {
   "cell_type": "code",
   "execution_count": 51,
   "metadata": {},
   "outputs": [
    {
     "data": {
      "text/plain": [
       "False"
      ]
     },
     "execution_count": 51,
     "metadata": {},
     "output_type": "execute_result"
    }
   ],
   "source": [
    "hasattr(a,\"na na na\")"
   ]
  },
  {
   "cell_type": "code",
   "execution_count": 53,
   "metadata": {},
   "outputs": [],
   "source": [
    "setattr(a,\"rollid\",\"12\")"
   ]
  },
  {
   "cell_type": "code",
   "execution_count": 55,
   "metadata": {},
   "outputs": [
    {
     "name": "stdout",
     "output_type": "stream",
     "text": [
      "The name is: roshan and his age :2 He is in 8th grade\n"
     ]
    }
   ],
   "source": [
    "a.display()"
   ]
  },
  {
   "cell_type": "code",
   "execution_count": 56,
   "metadata": {},
   "outputs": [
    {
     "data": {
      "text/plain": [
       "'roshan'"
      ]
     },
     "execution_count": 56,
     "metadata": {},
     "output_type": "execute_result"
    }
   ],
   "source": [
    "getattr(a,\"name\")"
   ]
  },
  {
   "cell_type": "code",
   "execution_count": 57,
   "metadata": {},
   "outputs": [],
   "source": [
    "delattr(a,\"grade\")"
   ]
  },
  {
   "cell_type": "code",
   "execution_count": 58,
   "metadata": {},
   "outputs": [
    {
     "data": {
      "text/plain": [
       "False"
      ]
     },
     "execution_count": 58,
     "metadata": {},
     "output_type": "execute_result"
    }
   ],
   "source": [
    "hasattr(a,\"grade\")"
   ]
  },
  {
   "cell_type": "code",
   "execution_count": 59,
   "metadata": {},
   "outputs": [
    {
     "data": {
      "text/plain": [
       "'12'"
      ]
     },
     "execution_count": 59,
     "metadata": {},
     "output_type": "execute_result"
    }
   ],
   "source": [
    "a.rollid"
   ]
  },
  {
   "cell_type": "code",
   "execution_count": 74,
   "metadata": {},
   "outputs": [],
   "source": [
    "class Parent:\n",
    "    c=10\n",
    "    def __init__(self):\n",
    "        print(\"parent\")\n",
    "    def childfunc(self):\n",
    "        print(\"Parent being called\")\n",
    "    def setc(self, num):\n",
    "        Parent.c=num\n",
    "    def show(self):\n",
    "        print(str(Parent.c))"
   ]
  },
  {
   "cell_type": "code",
   "execution_count": 75,
   "metadata": {},
   "outputs": [],
   "source": [
    "class Child(Parent):\n",
    "    def __init__(self):\n",
    "        print(\"Child function initialized..\")\n",
    "    def childfunc(self):\n",
    "        print(\"child func called\")"
   ]
  },
  {
   "cell_type": "code",
   "execution_count": 76,
   "metadata": {},
   "outputs": [
    {
     "name": "stdout",
     "output_type": "stream",
     "text": [
      "Child function initialized..\n",
      "child func called\n",
      "10\n"
     ]
    }
   ],
   "source": [
    "c=Child()\n",
    "c.childfunc()\n",
    "c.show()\n",
    "c.setc(20)"
   ]
  },
  {
   "cell_type": "code",
   "execution_count": 77,
   "metadata": {},
   "outputs": [
    {
     "name": "stdout",
     "output_type": "stream",
     "text": [
      "20\n"
     ]
    }
   ],
   "source": [
    "c.show()"
   ]
  },
  {
   "cell_type": "code",
   "execution_count": 79,
   "metadata": {},
   "outputs": [
    {
     "name": "stdout",
     "output_type": "stream",
     "text": [
      "Child function initialized..\n",
      "child func called\n"
     ]
    }
   ],
   "source": [
    "d=Child()\n",
    "d.childfunc()"
   ]
  },
  {
   "cell_type": "code",
   "execution_count": null,
   "metadata": {},
   "outputs": [],
   "source": []
  },
  {
   "cell_type": "code",
   "execution_count": null,
   "metadata": {},
   "outputs": [],
   "source": []
  },
  {
   "cell_type": "code",
   "execution_count": 108,
   "metadata": {},
   "outputs": [],
   "source": [
    "file=open(\"a.txt\",\"r\") #file handling"
   ]
  },
  {
   "cell_type": "code",
   "execution_count": 109,
   "metadata": {},
   "outputs": [
    {
     "data": {
      "text/plain": [
       "0"
      ]
     },
     "execution_count": 109,
     "metadata": {},
     "output_type": "execute_result"
    }
   ],
   "source": [
    "file.tell()"
   ]
  },
  {
   "cell_type": "code",
   "execution_count": 101,
   "metadata": {},
   "outputs": [
    {
     "data": {
      "text/plain": [
       "'hello bhai\\nkakakaka'"
      ]
     },
     "execution_count": 101,
     "metadata": {},
     "output_type": "execute_result"
    }
   ],
   "source": [
    "file.read()"
   ]
  },
  {
   "cell_type": "code",
   "execution_count": 102,
   "metadata": {},
   "outputs": [
    {
     "data": {
      "text/plain": [
       "20"
      ]
     },
     "execution_count": 102,
     "metadata": {},
     "output_type": "execute_result"
    }
   ],
   "source": [
    "file.tell()"
   ]
  },
  {
   "cell_type": "code",
   "execution_count": 103,
   "metadata": {},
   "outputs": [
    {
     "data": {
      "text/plain": [
       "0"
      ]
     },
     "execution_count": 103,
     "metadata": {},
     "output_type": "execute_result"
    }
   ],
   "source": [
    "file.seek(0,0)"
   ]
  },
  {
   "cell_type": "code",
   "execution_count": 104,
   "metadata": {},
   "outputs": [
    {
     "data": {
      "text/plain": [
       "0"
      ]
     },
     "execution_count": 104,
     "metadata": {},
     "output_type": "execute_result"
    }
   ],
   "source": [
    "file.tell()"
   ]
  },
  {
   "cell_type": "code",
   "execution_count": null,
   "metadata": {},
   "outputs": [],
   "source": []
  },
  {
   "cell_type": "code",
   "execution_count": 110,
   "metadata": {},
   "outputs": [
    {
     "data": {
      "text/plain": [
       "'hello'"
      ]
     },
     "execution_count": 110,
     "metadata": {},
     "output_type": "execute_result"
    }
   ],
   "source": [
    "file.read(5) # reads first 5 chars"
   ]
  },
  {
   "cell_type": "code",
   "execution_count": 111,
   "metadata": {},
   "outputs": [],
   "source": [
    "wfil=open(\"b.txt\",\"\")"
   ]
  },
  {
   "cell_type": "code",
   "execution_count": 112,
   "metadata": {},
   "outputs": [
    {
     "data": {
      "text/plain": [
       "22"
      ]
     },
     "execution_count": 112,
     "metadata": {},
     "output_type": "execute_result"
    }
   ],
   "source": [
    "wfil.write(\"We hav jhbfehbvjhbervr\")"
   ]
  },
  {
   "cell_type": "code",
   "execution_count": 114,
   "metadata": {},
   "outputs": [],
   "source": [
    "wfil.close()"
   ]
  },
  {
   "cell_type": "code",
   "execution_count": 115,
   "metadata": {},
   "outputs": [],
   "source": [
    "wfil=open(\"b.txt\",\"r\")"
   ]
  },
  {
   "cell_type": "code",
   "execution_count": 117,
   "metadata": {},
   "outputs": [],
   "source": [
    "wfil.read()\n",
    "wfil.close()"
   ]
  },
  {
   "cell_type": "code",
   "execution_count": 123,
   "metadata": {},
   "outputs": [],
   "source": [
    "afil=open(\"b.txt\",\"a+\")"
   ]
  },
  {
   "cell_type": "code",
   "execution_count": 124,
   "metadata": {},
   "outputs": [
    {
     "data": {
      "text/plain": [
       "6"
      ]
     },
     "execution_count": 124,
     "metadata": {},
     "output_type": "execute_result"
    }
   ],
   "source": [
    "afil.write(\"Roshan\")"
   ]
  },
  {
   "cell_type": "code",
   "execution_count": 120,
   "metadata": {},
   "outputs": [],
   "source": [
    "afil.close()"
   ]
  },
  {
   "cell_type": "code",
   "execution_count": 125,
   "metadata": {},
   "outputs": [],
   "source": [
    "afil=open(\"b.txt\",\"r\")"
   ]
  },
  {
   "cell_type": "code",
   "execution_count": 128,
   "metadata": {},
   "outputs": [],
   "source": [
    "afil.read()\n",
    "afil.close()"
   ]
  },
  {
   "cell_type": "code",
   "execution_count": 130,
   "metadata": {},
   "outputs": [],
   "source": [
    "wfil=open(\"b.txt\",\"r+\")"
   ]
  },
  {
   "cell_type": "code",
   "execution_count": 131,
   "metadata": {},
   "outputs": [
    {
     "data": {
      "text/plain": [
       "6"
      ]
     },
     "execution_count": 131,
     "metadata": {},
     "output_type": "execute_result"
    }
   ],
   "source": [
    "wfil.write(\" hello\")"
   ]
  },
  {
   "cell_type": "code",
   "execution_count": 132,
   "metadata": {},
   "outputs": [
    {
     "data": {
      "text/plain": [
       "' jhbfehbvjhbervrRoshanRoshan'"
      ]
     },
     "execution_count": 132,
     "metadata": {},
     "output_type": "execute_result"
    }
   ],
   "source": [
    "wfil.read()"
   ]
  },
  {
   "cell_type": "code",
   "execution_count": 133,
   "metadata": {},
   "outputs": [],
   "source": [
    "wfil.close()"
   ]
  },
  {
   "cell_type": "code",
   "execution_count": 134,
   "metadata": {},
   "outputs": [],
   "source": [
    "a=open(\"a.txt\",\"r\")\n",
    "b=open(\"c.txt\",\"w+\")"
   ]
  },
  {
   "cell_type": "code",
   "execution_count": 145,
   "metadata": {},
   "outputs": [],
   "source": [
    "c=a.read()"
   ]
  },
  {
   "cell_type": "code",
   "execution_count": 146,
   "metadata": {},
   "outputs": [
    {
     "data": {
      "text/plain": [
       "19"
      ]
     },
     "execution_count": 146,
     "metadata": {},
     "output_type": "execute_result"
    }
   ],
   "source": [
    "b.write(c)"
   ]
  },
  {
   "cell_type": "code",
   "execution_count": 148,
   "metadata": {},
   "outputs": [
    {
     "data": {
      "text/plain": [
       "0"
      ]
     },
     "execution_count": 148,
     "metadata": {},
     "output_type": "execute_result"
    }
   ],
   "source": [
    "b.seek(0,0)"
   ]
  },
  {
   "cell_type": "code",
   "execution_count": 144,
   "metadata": {},
   "outputs": [
    {
     "data": {
      "text/plain": [
       "0"
      ]
     },
     "execution_count": 144,
     "metadata": {},
     "output_type": "execute_result"
    }
   ],
   "source": [
    "a.read()\n",
    "a.seek(0,0)"
   ]
  },
  {
   "cell_type": "code",
   "execution_count": 143,
   "metadata": {},
   "outputs": [
    {
     "data": {
      "text/plain": [
       "'hello bhai\\nkakakaka'"
      ]
     },
     "execution_count": 143,
     "metadata": {},
     "output_type": "execute_result"
    }
   ],
   "source": [
    "a.read()"
   ]
  },
  {
   "cell_type": "code",
   "execution_count": 149,
   "metadata": {},
   "outputs": [
    {
     "data": {
      "text/plain": [
       "'hello bhai\\nkakakakahello bhai\\nkakakaka'"
      ]
     },
     "execution_count": 149,
     "metadata": {},
     "output_type": "execute_result"
    }
   ],
   "source": [
    "b.read()"
   ]
  },
  {
   "cell_type": "code",
   "execution_count": 150,
   "metadata": {},
   "outputs": [
    {
     "data": {
      "text/plain": [
       "16"
      ]
     },
     "execution_count": 150,
     "metadata": {},
     "output_type": "execute_result"
    }
   ],
   "source": [
    "b.write(\" concat New text\")"
   ]
  },
  {
   "cell_type": "code",
   "execution_count": 151,
   "metadata": {},
   "outputs": [],
   "source": [
    "d=open(\"d.txt\",\"w+\")"
   ]
  },
  {
   "cell_type": "code",
   "execution_count": 153,
   "metadata": {},
   "outputs": [
    {
     "data": {
      "text/plain": [
       "0"
      ]
     },
     "execution_count": 153,
     "metadata": {},
     "output_type": "execute_result"
    }
   ],
   "source": [
    "a.seek(0,0)\n",
    "b.seek(0,0)\n"
   ]
  },
  {
   "cell_type": "code",
   "execution_count": 154,
   "metadata": {},
   "outputs": [
    {
     "data": {
      "text/plain": [
       "73"
      ]
     },
     "execution_count": 154,
     "metadata": {},
     "output_type": "execute_result"
    }
   ],
   "source": [
    "d.write(a.read() + b.read())"
   ]
  },
  {
   "cell_type": "code",
   "execution_count": 156,
   "metadata": {},
   "outputs": [
    {
     "data": {
      "text/plain": [
       "0"
      ]
     },
     "execution_count": 156,
     "metadata": {},
     "output_type": "execute_result"
    }
   ],
   "source": [
    "d.seek(0,0)"
   ]
  },
  {
   "cell_type": "code",
   "execution_count": 157,
   "metadata": {},
   "outputs": [
    {
     "data": {
      "text/plain": [
       "'hello bhai\\nkakakakahello bhai\\nkakakakahello bhai\\nkakakaka concat New text'"
      ]
     },
     "execution_count": 157,
     "metadata": {},
     "output_type": "execute_result"
    }
   ],
   "source": [
    "d.read()"
   ]
  },
  {
   "cell_type": "code",
   "execution_count": 158,
   "metadata": {},
   "outputs": [],
   "source": [
    "d.close()\n",
    "a.close()\n",
    "b.close()"
   ]
  },
  {
   "cell_type": "code",
   "execution_count": null,
   "metadata": {},
   "outputs": [],
   "source": []
  },
  {
   "cell_type": "code",
   "execution_count": null,
   "metadata": {},
   "outputs": [],
   "source": []
  },
  {
   "cell_type": "code",
   "execution_count": 40,
   "metadata": {},
   "outputs": [],
   "source": [
    "#Modules an packages"
   ]
  },
  {
   "cell_type": "code",
   "execution_count": 2,
   "metadata": {},
   "outputs": [],
   "source": [
    "import random as rd"
   ]
  },
  {
   "cell_type": "code",
   "execution_count": 21,
   "metadata": {},
   "outputs": [
    {
     "name": "stdout",
     "output_type": "stream",
     "text": [
      "65\n",
      "Enter a number between 1 to 100 =999\n"
     ]
    }
   ],
   "source": [
    "a=rd.randint(0,100)\n",
    "print (a)\n",
    "while 1 :\n",
    "    usr=int (input(\"Enter a number between 1 to 100 =\"))\n",
    "    if (usr > a and usr < 100):\n",
    "        print(\"No. is Less\")\n",
    "    elif (usr < a < 100):\n",
    "        print(\"No. is Greater\")\n",
    "    elif (usr == a):\n",
    "        print(\"Congrats You Win!!\")\n",
    "        break\n",
    "    elif (usr == 999):\n",
    "        break\n",
    "    else:\n",
    "        print(\"Enter valid no. \")"
   ]
  },
  {
   "cell_type": "code",
   "execution_count": 24,
   "metadata": {},
   "outputs": [
    {
     "data": {
      "text/plain": [
       "'him'"
      ]
     },
     "execution_count": 24,
     "metadata": {},
     "output_type": "execute_result"
    }
   ],
   "source": [
    "name=[\"him\",\"ros\",\"soo\"]\n",
    "rd.choice(name)"
   ]
  },
  {
   "cell_type": "code",
   "execution_count": 28,
   "metadata": {},
   "outputs": [
    {
     "data": {
      "text/plain": [
       "['soo', 'ros', 'him']"
      ]
     },
     "execution_count": 28,
     "metadata": {},
     "output_type": "execute_result"
    }
   ],
   "source": [
    "rd.shuffle(name)\n",
    "name"
   ]
  },
  {
   "cell_type": "code",
   "execution_count": 31,
   "metadata": {},
   "outputs": [],
   "source": [
    "import pandas as pd"
   ]
  },
  {
   "cell_type": "code",
   "execution_count": 35,
   "metadata": {},
   "outputs": [
    {
     "data": {
      "text/plain": [
       "0    10\n",
       "1    20\n",
       "2    30\n",
       "3    40\n",
       "dtype: int64"
      ]
     },
     "execution_count": 35,
     "metadata": {},
     "output_type": "execute_result"
    }
   ],
   "source": [
    "data=[10,20,30,40]\n",
    "s=pd.Series(data)\n",
    "s"
   ]
  },
  {
   "cell_type": "code",
   "execution_count": 38,
   "metadata": {},
   "outputs": [],
   "source": [
    "import numpy as np\n",
    "data=np.array([10,2,7,4,3])\n",
    "s=pd.Series(data,index=[100,200,300,400,500])"
   ]
  },
  {
   "cell_type": "code",
   "execution_count": 39,
   "metadata": {},
   "outputs": [
    {
     "data": {
      "text/plain": [
       "100    10\n",
       "200     2\n",
       "300     7\n",
       "400     4\n",
       "500     3\n",
       "dtype: int32"
      ]
     },
     "execution_count": 39,
     "metadata": {},
     "output_type": "execute_result"
    }
   ],
   "source": [
    "s"
   ]
  },
  {
   "cell_type": "code",
   "execution_count": 45,
   "metadata": {},
   "outputs": [
    {
     "data": {
      "text/plain": [
       "a    0\n",
       "b    1\n",
       "c    2\n",
       "dtype: int64"
      ]
     },
     "execution_count": 45,
     "metadata": {},
     "output_type": "execute_result"
    }
   ],
   "source": [
    "data={'a':0,'b':1,'c':2}\n",
    "s=pd.Series(data)\n",
    "s"
   ]
  },
  {
   "cell_type": "code",
   "execution_count": 46,
   "metadata": {},
   "outputs": [
    {
     "data": {
      "text/plain": [
       "1   NaN\n",
       "2   NaN\n",
       "3   NaN\n",
       "4   NaN\n",
       "5   NaN\n",
       "6   NaN\n",
       "dtype: float64"
      ]
     },
     "execution_count": 46,
     "metadata": {},
     "output_type": "execute_result"
    }
   ],
   "source": [
    "s=pd.Series(data, index=[1,2,3,4,5,6])\n",
    "s"
   ]
  },
  {
   "cell_type": "code",
   "execution_count": 47,
   "metadata": {},
   "outputs": [
    {
     "data": {
      "text/plain": [
       "1    5\n",
       "2    5\n",
       "3    5\n",
       "4    5\n",
       "dtype: int64"
      ]
     },
     "execution_count": 47,
     "metadata": {},
     "output_type": "execute_result"
    }
   ],
   "source": [
    "s=pd.Series(5,index=[1,2,3,4])\n",
    "s"
   ]
  },
  {
   "cell_type": "code",
   "execution_count": 58,
   "metadata": {},
   "outputs": [
    {
     "data": {
      "text/plain": [
       "a    0.0\n",
       "2    NaN\n",
       "dtype: float64"
      ]
     },
     "execution_count": 58,
     "metadata": {},
     "output_type": "execute_result"
    }
   ],
   "source": [
    "data={'a':0,'b':1,'c':2}\n",
    "s=pd.Series(data,index=['a',2,3,'c'],dtype=int)\n",
    "s\n",
    "s[:2]"
   ]
  },
  {
   "cell_type": "code",
   "execution_count": 59,
   "metadata": {},
   "outputs": [
    {
     "data": {
      "text/plain": [
       "3    NaN\n",
       "c    2.0\n",
       "dtype: float64"
      ]
     },
     "execution_count": 59,
     "metadata": {},
     "output_type": "execute_result"
    }
   ],
   "source": [
    "s[-2:]"
   ]
  },
  {
   "cell_type": "code",
   "execution_count": 60,
   "metadata": {},
   "outputs": [
    {
     "data": {
      "text/html": [
       "<div>\n",
       "<style scoped>\n",
       "    .dataframe tbody tr th:only-of-type {\n",
       "        vertical-align: middle;\n",
       "    }\n",
       "\n",
       "    .dataframe tbody tr th {\n",
       "        vertical-align: top;\n",
       "    }\n",
       "\n",
       "    .dataframe thead th {\n",
       "        text-align: right;\n",
       "    }\n",
       "</style>\n",
       "<table border=\"1\" class=\"dataframe\">\n",
       "  <thead>\n",
       "    <tr style=\"text-align: right;\">\n",
       "      <th></th>\n",
       "      <th>0</th>\n",
       "      <th>1</th>\n",
       "    </tr>\n",
       "  </thead>\n",
       "  <tbody>\n",
       "    <tr>\n",
       "      <th>0</th>\n",
       "      <td>a</td>\n",
       "      <td>10</td>\n",
       "    </tr>\n",
       "    <tr>\n",
       "      <th>1</th>\n",
       "      <td>b</td>\n",
       "      <td>12</td>\n",
       "    </tr>\n",
       "    <tr>\n",
       "      <th>2</th>\n",
       "      <td>c</td>\n",
       "      <td>122</td>\n",
       "    </tr>\n",
       "  </tbody>\n",
       "</table>\n",
       "</div>"
      ],
      "text/plain": [
       "   0    1\n",
       "0  a   10\n",
       "1  b   12\n",
       "2  c  122"
      ]
     },
     "execution_count": 60,
     "metadata": {},
     "output_type": "execute_result"
    }
   ],
   "source": [
    "data=[['a',10],['b',12],['c',122]] #2d data use od dataframe\n",
    "df=pd.DataFrame(data)\n",
    "df"
   ]
  },
  {
   "cell_type": "code",
   "execution_count": 61,
   "metadata": {},
   "outputs": [
    {
     "data": {
      "text/html": [
       "<div>\n",
       "<style scoped>\n",
       "    .dataframe tbody tr th:only-of-type {\n",
       "        vertical-align: middle;\n",
       "    }\n",
       "\n",
       "    .dataframe tbody tr th {\n",
       "        vertical-align: top;\n",
       "    }\n",
       "\n",
       "    .dataframe thead th {\n",
       "        text-align: right;\n",
       "    }\n",
       "</style>\n",
       "<table border=\"1\" class=\"dataframe\">\n",
       "  <thead>\n",
       "    <tr style=\"text-align: right;\">\n",
       "      <th></th>\n",
       "      <th>Letter</th>\n",
       "      <th>Values</th>\n",
       "    </tr>\n",
       "  </thead>\n",
       "  <tbody>\n",
       "    <tr>\n",
       "      <th>111</th>\n",
       "      <td>a</td>\n",
       "      <td>10</td>\n",
       "    </tr>\n",
       "    <tr>\n",
       "      <th>112</th>\n",
       "      <td>b</td>\n",
       "      <td>12</td>\n",
       "    </tr>\n",
       "    <tr>\n",
       "      <th>113</th>\n",
       "      <td>c</td>\n",
       "      <td>122</td>\n",
       "    </tr>\n",
       "  </tbody>\n",
       "</table>\n",
       "</div>"
      ],
      "text/plain": [
       "    Letter  Values\n",
       "111      a      10\n",
       "112      b      12\n",
       "113      c     122"
      ]
     },
     "execution_count": 61,
     "metadata": {},
     "output_type": "execute_result"
    }
   ],
   "source": [
    "data=[['a',10],['b',12],['c',122]]\n",
    "df=pd.DataFrame(data,columns=['Letter','Values'],index=[111,112,113])\n",
    "df"
   ]
  },
  {
   "cell_type": "code",
   "execution_count": 67,
   "metadata": {},
   "outputs": [
    {
     "data": {
      "text/html": [
       "<div>\n",
       "<style scoped>\n",
       "    .dataframe tbody tr th:only-of-type {\n",
       "        vertical-align: middle;\n",
       "    }\n",
       "\n",
       "    .dataframe tbody tr th {\n",
       "        vertical-align: top;\n",
       "    }\n",
       "\n",
       "    .dataframe thead th {\n",
       "        text-align: right;\n",
       "    }\n",
       "</style>\n",
       "<table border=\"1\" class=\"dataframe\">\n",
       "  <thead>\n",
       "    <tr style=\"text-align: right;\">\n",
       "      <th></th>\n",
       "      <th>Name</th>\n",
       "      <th>Age</th>\n",
       "      <th>Roll</th>\n",
       "    </tr>\n",
       "  </thead>\n",
       "  <tbody>\n",
       "    <tr>\n",
       "      <th>1</th>\n",
       "      <td>Roshan</td>\n",
       "      <td>22</td>\n",
       "      <td>3026</td>\n",
       "    </tr>\n",
       "    <tr>\n",
       "      <th>2</th>\n",
       "      <td>Roshan</td>\n",
       "      <td>22</td>\n",
       "      <td>3026</td>\n",
       "    </tr>\n",
       "    <tr>\n",
       "      <th>3</th>\n",
       "      <td>Roshan</td>\n",
       "      <td>22</td>\n",
       "      <td>3026</td>\n",
       "    </tr>\n",
       "  </tbody>\n",
       "</table>\n",
       "</div>"
      ],
      "text/plain": [
       "     Name  Age  Roll\n",
       "1  Roshan   22  3026\n",
       "2  Roshan   22  3026\n",
       "3  Roshan   22  3026"
      ]
     },
     "execution_count": 67,
     "metadata": {},
     "output_type": "execute_result"
    }
   ],
   "source": [
    "dic={'Name':\"Roshan\",'Age':22,'Roll':3026}\n",
    "dfd=pd.DataFrame(dic,columns=['Name',\"Age\",\"Roll\"],index=[1,2,3])\n",
    "dfd"
   ]
  },
  {
   "cell_type": "code",
   "execution_count": 71,
   "metadata": {},
   "outputs": [
    {
     "data": {
      "text/html": [
       "<div>\n",
       "<style scoped>\n",
       "    .dataframe tbody tr th:only-of-type {\n",
       "        vertical-align: middle;\n",
       "    }\n",
       "\n",
       "    .dataframe tbody tr th {\n",
       "        vertical-align: top;\n",
       "    }\n",
       "\n",
       "    .dataframe thead th {\n",
       "        text-align: right;\n",
       "    }\n",
       "</style>\n",
       "<table border=\"1\" class=\"dataframe\">\n",
       "  <thead>\n",
       "    <tr style=\"text-align: right;\">\n",
       "      <th></th>\n",
       "      <th>Age</th>\n",
       "      <th>Name</th>\n",
       "      <th>Roll</th>\n",
       "      <th>a</th>\n",
       "      <th>b</th>\n",
       "      <th>c</th>\n",
       "    </tr>\n",
       "  </thead>\n",
       "  <tbody>\n",
       "    <tr>\n",
       "      <th>0</th>\n",
       "      <td>22.0</td>\n",
       "      <td>Roshan</td>\n",
       "      <td>3026.0</td>\n",
       "      <td>NaN</td>\n",
       "      <td>NaN</td>\n",
       "      <td>NaN</td>\n",
       "    </tr>\n",
       "    <tr>\n",
       "      <th>1</th>\n",
       "      <td>NaN</td>\n",
       "      <td>NaN</td>\n",
       "      <td>NaN</td>\n",
       "      <td>1.0</td>\n",
       "      <td>2.0</td>\n",
       "      <td>4.0</td>\n",
       "    </tr>\n",
       "  </tbody>\n",
       "</table>\n",
       "</div>"
      ],
      "text/plain": [
       "    Age    Name    Roll    a    b    c\n",
       "0  22.0  Roshan  3026.0  NaN  NaN  NaN\n",
       "1   NaN     NaN     NaN  1.0  2.0  4.0"
      ]
     },
     "execution_count": 71,
     "metadata": {},
     "output_type": "execute_result"
    }
   ],
   "source": [
    "dic=[{'Name':\"Roshan\",'Age':22,'Roll':3026},{'a':1,'b':2,'c':4}]\n",
    "dfd=pd.DataFrame(dic)\n",
    "dfd"
   ]
  },
  {
   "cell_type": "code",
   "execution_count": 76,
   "metadata": {},
   "outputs": [
    {
     "data": {
      "text/html": [
       "<div>\n",
       "<style scoped>\n",
       "    .dataframe tbody tr th:only-of-type {\n",
       "        vertical-align: middle;\n",
       "    }\n",
       "\n",
       "    .dataframe tbody tr th {\n",
       "        vertical-align: top;\n",
       "    }\n",
       "\n",
       "    .dataframe thead th {\n",
       "        text-align: right;\n",
       "    }\n",
       "</style>\n",
       "<table border=\"1\" class=\"dataframe\">\n",
       "  <thead>\n",
       "    <tr style=\"text-align: right;\">\n",
       "      <th></th>\n",
       "      <th>one</th>\n",
       "      <th>two</th>\n",
       "    </tr>\n",
       "  </thead>\n",
       "  <tbody>\n",
       "    <tr>\n",
       "      <th>0</th>\n",
       "      <td>1</td>\n",
       "      <td>4</td>\n",
       "    </tr>\n",
       "    <tr>\n",
       "      <th>1</th>\n",
       "      <td>2</td>\n",
       "      <td>5</td>\n",
       "    </tr>\n",
       "    <tr>\n",
       "      <th>2</th>\n",
       "      <td>3</td>\n",
       "      <td>6</td>\n",
       "    </tr>\n",
       "    <tr>\n",
       "      <th>3</th>\n",
       "      <td>4</td>\n",
       "      <td>7</td>\n",
       "    </tr>\n",
       "  </tbody>\n",
       "</table>\n",
       "</div>"
      ],
      "text/plain": [
       "   one  two\n",
       "0    1    4\n",
       "1    2    5\n",
       "2    3    6\n",
       "3    4    7"
      ]
     },
     "execution_count": 76,
     "metadata": {},
     "output_type": "execute_result"
    }
   ],
   "source": [
    "dicti={'one':pd.Series([1,2,3,4]),'two':pd.Series([4,5,6,7])}\n",
    "df=pd.DataFrame(dicti)\n",
    "df"
   ]
  },
  {
   "cell_type": "code",
   "execution_count": 77,
   "metadata": {},
   "outputs": [
    {
     "data": {
      "text/plain": [
       "0    1\n",
       "1    2\n",
       "2    3\n",
       "3    4\n",
       "Name: one, dtype: int64"
      ]
     },
     "execution_count": 77,
     "metadata": {},
     "output_type": "execute_result"
    }
   ],
   "source": [
    "df['one']"
   ]
  },
  {
   "cell_type": "code",
   "execution_count": 79,
   "metadata": {},
   "outputs": [
    {
     "data": {
      "text/plain": [
       "0     5\n",
       "1     7\n",
       "2     9\n",
       "3    11\n",
       "dtype: int64"
      ]
     },
     "execution_count": 79,
     "metadata": {},
     "output_type": "execute_result"
    }
   ],
   "source": [
    "df2=df['one']+df['two']\n",
    "df2"
   ]
  },
  {
   "cell_type": "code",
   "execution_count": 80,
   "metadata": {},
   "outputs": [
    {
     "data": {
      "text/plain": [
       "one    3\n",
       "two    6\n",
       "Name: 2, dtype: int64"
      ]
     },
     "execution_count": 80,
     "metadata": {},
     "output_type": "execute_result"
    }
   ],
   "source": [
    "df.loc[2]"
   ]
  },
  {
   "cell_type": "code",
   "execution_count": 81,
   "metadata": {},
   "outputs": [
    {
     "data": {
      "text/plain": [
       "one    2\n",
       "two    5\n",
       "Name: 1, dtype: int64"
      ]
     },
     "execution_count": 81,
     "metadata": {},
     "output_type": "execute_result"
    }
   ],
   "source": [
    "df.iloc[1]"
   ]
  },
  {
   "cell_type": "code",
   "execution_count": 82,
   "metadata": {},
   "outputs": [],
   "source": [
    "# use of Panel:- dataframe into a datafame"
   ]
  },
  {
   "cell_type": "code",
   "execution_count": 83,
   "metadata": {},
   "outputs": [],
   "source": [
    "import sys"
   ]
  },
  {
   "cell_type": "code",
   "execution_count": 84,
   "metadata": {},
   "outputs": [
    {
     "data": {
      "text/plain": [
       "'3.6.5 |Anaconda, Inc.| (default, Mar 29 2018, 13:32:41) [MSC v.1900 64 bit (AMD64)]'"
      ]
     },
     "execution_count": 84,
     "metadata": {},
     "output_type": "execute_result"
    }
   ],
   "source": [
    "sys.version"
   ]
  },
  {
   "cell_type": "code",
   "execution_count": 91,
   "metadata": {},
   "outputs": [],
   "source": [
    "inputStatement=sys.stdin.readline(1)"
   ]
  },
  {
   "cell_type": "code",
   "execution_count": 92,
   "metadata": {},
   "outputs": [
    {
     "data": {
      "text/plain": [
       "''"
      ]
     },
     "execution_count": 92,
     "metadata": {},
     "output_type": "execute_result"
    }
   ],
   "source": [
    "inputStatement"
   ]
  },
  {
   "cell_type": "code",
   "execution_count": 104,
   "metadata": {},
   "outputs": [
    {
     "data": {
      "text/plain": [
       "0.046852827072143555"
      ]
     },
     "execution_count": 104,
     "metadata": {},
     "output_type": "execute_result"
    }
   ],
   "source": [
    "import time\n",
    "a=time.time()\n",
    "a\n",
    "for i in range(1,500000):\n",
    "    c=i\n",
    "b=time.time()\n",
    "b\n",
    "t=b-a\n",
    "t"
   ]
  },
  {
   "cell_type": "code",
   "execution_count": 105,
   "metadata": {},
   "outputs": [
    {
     "name": "stdout",
     "output_type": "stream",
     "text": [
      "0\n",
      "1\n",
      "2\n",
      "3\n",
      "4\n"
     ]
    }
   ],
   "source": [
    "for i in range(0,5):\n",
    "    print(i)\n",
    "    time.sleep(1)"
   ]
  },
  {
   "cell_type": "code",
   "execution_count": 106,
   "metadata": {},
   "outputs": [
    {
     "data": {
      "text/plain": [
       "'Mon Jan  7 14:41:53 2019'"
      ]
     },
     "execution_count": 106,
     "metadata": {},
     "output_type": "execute_result"
    }
   ],
   "source": [
    "time.asctime()"
   ]
  },
  {
   "cell_type": "code",
   "execution_count": 108,
   "metadata": {},
   "outputs": [
    {
     "data": {
      "text/plain": [
       "'Sun Oct 15 08:45:56 2000'"
      ]
     },
     "execution_count": 108,
     "metadata": {},
     "output_type": "execute_result"
    }
   ],
   "source": [
    "tup=(2000,10,15,8,45,56,6,0,0)\n",
    "time.asctime(tup)"
   ]
  },
  {
   "cell_type": "code",
   "execution_count": 110,
   "metadata": {},
   "outputs": [],
   "source": [
    "t=time.localtime()"
   ]
  },
  {
   "cell_type": "code",
   "execution_count": 112,
   "metadata": {},
   "outputs": [
    {
     "data": {
      "text/plain": [
       "2019"
      ]
     },
     "execution_count": 112,
     "metadata": {},
     "output_type": "execute_result"
    }
   ],
   "source": [
    "t[0]"
   ]
  },
  {
   "cell_type": "code",
   "execution_count": 118,
   "metadata": {},
   "outputs": [
    {
     "data": {
      "text/plain": [
       "5.3125"
      ]
     },
     "execution_count": 118,
     "metadata": {},
     "output_type": "execute_result"
    }
   ],
   "source": [
    "time.process_time()"
   ]
  },
  {
   "cell_type": "code",
   "execution_count": 1,
   "metadata": {},
   "outputs": [],
   "source": [
    "import turtle"
   ]
  },
  {
   "cell_type": "code",
   "execution_count": 2,
   "metadata": {},
   "outputs": [],
   "source": [
    "tpp=turtle.Pen()"
   ]
  },
  {
   "cell_type": "code",
   "execution_count": 3,
   "metadata": {},
   "outputs": [],
   "source": [
    "tpp.forward(50)"
   ]
  },
  {
   "cell_type": "code",
   "execution_count": 5,
   "metadata": {},
   "outputs": [],
   "source": [
    "for i in range(1,38):\n",
    "    tpp.forward(110)\n",
    "    tpp.left(175)"
   ]
  },
  {
   "cell_type": "code",
   "execution_count": 27,
   "metadata": {},
   "outputs": [],
   "source": [
    "tpp.reset()"
   ]
  },
  {
   "cell_type": "code",
   "execution_count": 26,
   "metadata": {},
   "outputs": [],
   "source": [
    "for i in range(1,38):\n",
    "    tpp.forward(100)\n",
    "    tpp.left(95)"
   ]
  },
  {
   "cell_type": "code",
   "execution_count": 3,
   "metadata": {},
   "outputs": [],
   "source": [
    "tpp.left(90)\n",
    "tpp.forward(100)"
   ]
  },
  {
   "cell_type": "code",
   "execution_count": 4,
   "metadata": {},
   "outputs": [],
   "source": [
    "tpp.right(90)\n",
    "tpp.forward(50)\n",
    "tpp.right(90)\n",
    "tpp.forward(50)\n",
    "tpp.right(90)\n",
    "tpp.forward(50)\n",
    "tpp.left(135)\n",
    "tpp.forward(90)"
   ]
  },
  {
   "cell_type": "code",
   "execution_count": 30,
   "metadata": {},
   "outputs": [],
   "source": [
    "tpp.left(45)"
   ]
  },
  {
   "cell_type": "code",
   "execution_count": 31,
   "metadata": {},
   "outputs": [],
   "source": [
    "tpp.forward(20)\n",
    "tpp.left(90)\n",
    "tpp.forward(90)\n",
    "tpp.right(90)\n",
    "tpp.forward(50)\n",
    "tpp.right(90)\n",
    "tpp.forward(50)\n",
    "tpp.right(90)\n",
    "tpp.forward(50)"
   ]
  },
  {
   "cell_type": "code",
   "execution_count": null,
   "metadata": {},
   "outputs": [],
   "source": []
  },
  {
   "cell_type": "code",
   "execution_count": null,
   "metadata": {},
   "outputs": [],
   "source": []
  },
  {
   "cell_type": "code",
   "execution_count": null,
   "metadata": {},
   "outputs": [],
   "source": []
  },
  {
   "cell_type": "code",
   "execution_count": 2,
   "metadata": {},
   "outputs": [
    {
     "data": {
      "text/plain": [
       "<_sre.SRE_Match object; span=(3, 9), match='inform'>"
      ]
     },
     "execution_count": 2,
     "metadata": {},
     "output_type": "execute_result"
    }
   ],
   "source": [
    "#find a word in a string\n",
    "import re\n",
    "str=re.search(\"inform\",\"we inform you inform\")\n",
    "str"
   ]
  },
  {
   "cell_type": "code",
   "execution_count": 4,
   "metadata": {},
   "outputs": [
    {
     "data": {
      "text/plain": [
       "list"
      ]
     },
     "execution_count": 4,
     "metadata": {},
     "output_type": "execute_result"
    }
   ],
   "source": [
    "str=re.findall(\"inform\",\"we inform you inform\")\n",
    "str\n",
    "type(str)"
   ]
  },
  {
   "cell_type": "code",
   "execution_count": 5,
   "metadata": {},
   "outputs": [
    {
     "name": "stdout",
     "output_type": "stream",
     "text": [
      "['sat', 'mat', 'pat', 'hat']\n"
     ]
    }
   ],
   "source": [
    "#match words with a particular pattern\n",
    "str=\"sat,mat,pat,hat\"\n",
    "allstr=re.findall(\"[shmp]at\",str)\n",
    "print(allstr)"
   ]
  },
  {
   "cell_type": "code",
   "execution_count": 15,
   "metadata": {},
   "outputs": [
    {
     "name": "stdout",
     "output_type": "stream",
     "text": [
      "['mat', 'pat']\n"
     ]
    }
   ],
   "source": [
    "str=\"shhhhat,mat,pat,hat,rajghat\"\n",
    "allstr=re.findall(\"[rsmap]at\",str)\n",
    "print(allstr)"
   ]
  },
  {
   "cell_type": "code",
   "execution_count": 18,
   "metadata": {},
   "outputs": [
    {
     "data": {
      "text/plain": [
       "'sat mat pat Himangshu hat him'"
      ]
     },
     "execution_count": 18,
     "metadata": {},
     "output_type": "execute_result"
    }
   ],
   "source": [
    "st=\"sat mat pat rat hat him\"\n",
    "x= re.compile(\"[r]at\")\n",
    "y= x.sub(\"Himangshu\",st)\n",
    "y"
   ]
  },
  {
   "cell_type": "code",
   "execution_count": 21,
   "metadata": {},
   "outputs": [
    {
     "data": {
      "text/plain": [
       "'My  Name  is  Roshan '"
      ]
     },
     "execution_count": 21,
     "metadata": {},
     "output_type": "execute_result"
    }
   ],
   "source": [
    "str='''My \n",
    "Name \n",
    "is \n",
    "Roshan\n",
    "'''\n",
    "x=re.compile(\"\\n\")\n",
    "y=x.sub(\" \",str)\n",
    "y"
   ]
  },
  {
   "cell_type": "code",
   "execution_count": 26,
   "metadata": {},
   "outputs": [
    {
     "name": "stdout",
     "output_type": "stream",
     "text": [
      "Matches: 3\n"
     ]
    }
   ],
   "source": [
    "#match a single character\n",
    "randstr=\"123,1234,12345,1,123456,12345678\"\n",
    "print(\"Matches:\",len(re.findall(\"\\d{5,8}\",randstr)))   # \\d -digits 0-9\n",
    "#\\w- A-Z a-z 0-9"
   ]
  },
  {
   "cell_type": "code",
   "execution_count": 41,
   "metadata": {},
   "outputs": [
    {
     "name": "stdout",
     "output_type": "stream",
     "text": [
      "Valid\n"
     ]
    }
   ],
   "source": [
    "#phone num verification\n",
    "import re\n",
    "phone=\"1234-433-5676\"\n",
    "if re.search(\"\\w{3}-\\w{3}-\\w{4}\", phone):\n",
    "    print(\"Valid\")\n",
    "else:\n",
    "    print(\"Not Valid\")\n"
   ]
  },
  {
   "cell_type": "code",
   "execution_count": 18,
   "metadata": {},
   "outputs": [
    {
     "name": "stdout",
     "output_type": "stream",
     "text": [
      "Enter the no. for validation :7896545632\n"
     ]
    },
    {
     "data": {
      "text/plain": [
       "0"
      ]
     },
     "execution_count": 18,
     "metadata": {},
     "output_type": "execute_result"
    }
   ],
   "source": [
    "import re\n",
    "phn=input(\"Enter the no. for validation :\")\n",
    "alls=len(re.findall(\"^[9][1]\"+\"\\d{10}\",phn))\n",
    "alls"
   ]
  },
  {
   "cell_type": "code",
   "execution_count": 17,
   "metadata": {},
   "outputs": [
    {
     "name": "stdout",
     "output_type": "stream",
     "text": [
      "Enter the no. for validation :9874563212\n"
     ]
    },
    {
     "data": {
      "text/plain": [
       "1"
      ]
     },
     "execution_count": 17,
     "metadata": {},
     "output_type": "execute_result"
    }
   ],
   "source": [
    "phn=input(\"Enter the no. for validation :\")\n",
    "alls=len(re.findall(\"\\d{10}\",phn))\n",
    "alls"
   ]
  },
  {
   "cell_type": "code",
   "execution_count": 43,
   "metadata": {},
   "outputs": [
    {
     "data": {
      "text/plain": [
       "{'22': 'Roshan', '25': 'Himanxu'}"
      ]
     },
     "execution_count": 43,
     "metadata": {},
     "output_type": "execute_result"
    }
   ],
   "source": [
    "Na=\"Roshan is 22, Himanxu is 25\"\n",
    "ages=re.findall('\\d{1,3}',Na)\n",
    "names=re.findall('[A-Z][a-z]*',Na)\n",
    "agedict={}\n",
    "x=0\n",
    "for each in ages :\n",
    "    agedict[each]=names[x]\n",
    "    x +=1\n",
    "agedict"
   ]
  },
  {
   "cell_type": "code",
   "execution_count": 1,
   "metadata": {},
   "outputs": [
    {
     "name": "stdout",
     "output_type": "stream",
     "text": [
      "Enter CityGuwahati\n"
     ]
    }
   ],
   "source": [
    "import re\n",
    "import urllib.request as urlopen\n",
    "city=input(\"Enter City\")\n",
    "url='https://www.weather-forecast.com/locations/' + city + '/forecasts/latest'"
   ]
  },
  {
   "cell_type": "code",
   "execution_count": 2,
   "metadata": {},
   "outputs": [
    {
     "data": {
      "text/plain": [
       "'https://www.weather-forecast.com/locations/Guwahati/forecasts/latest'"
      ]
     },
     "execution_count": 2,
     "metadata": {},
     "output_type": "execute_result"
    }
   ],
   "source": [
    "url"
   ]
  },
  {
   "cell_type": "code",
   "execution_count": 3,
   "metadata": {},
   "outputs": [],
   "source": [
    "import urllib\n",
    "data = urllib.request.urlopen(url).read()"
   ]
  },
  {
   "cell_type": "code",
   "execution_count": 4,
   "metadata": {},
   "outputs": [
    {
     "data": {
      "text/plain": [
       "b'<!DOCTYPE html><html lang=\"en\"><head><meta charset=\"utf-8\" /><meta content=\"width=device-width\" name=\"viewport\" /><title>Guwahati Weather Forecast</title><meta name=\"description\" content=\"10 day Guwahati Weather Forecast. Live Weather Warnings, hourly weather updates. Accurate Guwahati weather today, forecast for sun, rain, wind and temperature.\" /><meta name=\"keywords\" content=\"Guwahati weather forecast,10 day weather forecast,Guwahati weather,weather today,hourly weather,Guwahati climate,weather warning,rain,snow,wind,humidity,UV index,temperature,www.weather-forecast.com\" /><meta content=\"460425463983282\" property=\"fb:app_id\" /><link href=\"https://www.weather-forecast.com/assets/application-febe826b2fad63b0a17ca28710dfdcaa.css\" media=\"all\" rel=\"stylesheet\" type=\"text/css\" /><link href=\"https://www.weather-forecast.com/assets/print-0e8e8ca83cf6f7b0934b7e3250cc1b2f.css\" media=\"print\" rel=\"stylesheet\" type=\"text/css\" /><script>(function(w,d,s,l,i){w[l]=w[l]||[];w[l].push({\\'gtm.start\\':\\nnew Date().getTime(),event:\\'gtm.js\\'});var f=d.getElementsByTagName(s)[0],\\nj=d.createElement(s),dl=l!=\\'dataLayer\\'?\\'&l=\\'+l:\\'\\';j.async=true;j.src=\\n\\'https://www.googletagmanager.com/gtm.js?id=\\'+i+dl;f.parentNode.insertBefore(j,f);\\n})(window,document,\\'script\\',\\'dataLayer\\',\\'GTM-KMND7ZB\\');</script>\\n<script src=\"https://www.weather-forecast.com/assets/vendor/modernizr-7b1a54ed8ea52430183b841d219f4140.js\" type=\"text/javascript\"></script><link href=\"/favicon.ico\" rel=\"shortcut icon\" /><link rel=\"alternate\" hreflang=\"de\" href=\"https://de.weather-forecast.com/locations/Guwahati/forecasts/latest\" />\\n<link rel=\"alternate\" hreflang=\"en\" href=\"https://www.weather-forecast.com/locations/Guwahati/forecasts/latest\" />\\n<link rel=\"alternate\" hreflang=\"es\" href=\"https://es.weather-forecast.com/locations/Guwahati/forecasts/latest\" />\\n<link rel=\"alternate\" hreflang=\"fr\" href=\"https://fr.weather-forecast.com/locations/Guwahati/forecasts/latest\" />\\n<link rel=\"alternate\" hreflang=\"ja\" href=\"https://ja.weather-forecast.com/locations/Guwahati/forecasts/latest\" />\\n<link rel=\"alternate\" hreflang=\"nl\" href=\"https://nl.weather-forecast.com/locations/Guwahati/forecasts/latest\" />\\n<link rel=\"alternate\" hreflang=\"zh\" href=\"https://zh.weather-forecast.com/locations/Guwahati/forecasts/latest\" /><link rel=\"canonical\" href=\"https://www.weather-forecast.com/locations/Guwahati/forecasts/latest\" /><script async=\"\" data-mode=\"scan\" data-site-id=\"5b9a8c8046e0fb00013737f1\" src=\"https://hb.vntsm.com/v3/live/ad-manager.min.js\" type=\"text/javascript\"></script><script>\\n  var uj_funcs = [];\\n  (function() {\\n    window.FCLAYOUT = {};\\n    var fclayout = (window.FCLAYOUT || (window.FCLAYOUT = {}));\\n    if (window.matchMedia) {\\n      fclayout.hidingSidebar = !window.matchMedia(\\'(min-width: 1024px)\\').matches;\\n\\n      fclayout.small = !window.matchMedia(\\'(min-width: 640px)\\').matches;\\n      fclayout.portrait = window.matchMedia(\"(orientation: portrait)\").matches;\\n    } else {\\n      fclayout.hidingSidebar = (window.innerWidth <= 1025);\\n      fclayout.small = (window.innerWidth <= 640);\\n    }\\n  }).call(this);\\n</script><script type=\"text/javascript\">var googletag = googletag || {};\\ngoogletag.cmd = googletag.cmd || [];</script><script type=\"text/javascript\">(function() {\\n  var fclayout = (window.FCLAYOUT || (window.FCLAYOUT = {}));\\n  if (window.matchMedia) {\\n    fclayout.largeUp = window.matchMedia(\\'(min-width: 1024px)\\').matches;\\n    fclayout.xLargeUp = window.matchMedia(\\'(min-width: 1310px)\\').matches;\\n  }\\n}).call(this);</script><script async=\"async\" src=\"https://www.googletagservices.com/tag/js/gpt.js\"></script><script type=\"text/javascript\">var googletag = googletag || {};\\ngoogletag.cmd = googletag.cmd || [];</script><style type=\"text/css\">.img_over_cont {\\n  cursor: pointer;\\n}</style><script type=\"text/javascript\">var my = (window.FCLOCATIONS || (window.FCLOCATIONS = {}));\\nmy.locationFilename = \"Guwahati\";\\nmy.forecastMode = \"normal\";\\n\\nvar fclayout = (window.FCLAYOUT || (window.FCLAYOUT = {}));\\nfclayout.userAgentIpad = false;</script><script type=\"text/javascript\">\\n  var FCMAPS = (window.FCMAPS || (window.FCMAPS = {}));\\n  FCMAPS.anim_frames = 40;\\n  FCMAPS.hr_step = 6;\\n</script><link rel=\"stylesheet\" href=\"https://unpkg.com/leaflet@1.1.0/dist/leaflet.css\"\\n  integrity=\"sha512-wcw6ts8Anuw10Mzh9Ytw4pylW8+NAD4ch3lqm9lzAsTxg0GFeJgoAtxuCLREZSC5lUXdVyo/7yfsqFjQ4S+aKw==\"\\n  crossorigin=\"\"/>\\n<script src=\"https://unpkg.com/leaflet@1.1.0/dist/leaflet.js\"\\n  integrity=\"sha512-mNqn2Wg7tSToJhvHcqfzLMU6J4mkOImSPTxVZAdo+lcPlk+GhZmYgACEe0x35K7YzW1zJ7XyJV/TT1MrdXvMcA==\"\\n  crossorigin=\"\"></script>\\n<script>\\n\\nL.GestureHandler = L.Handler.extend({\\n\\n  addHooks: function () {\\n\\n        this._disableInteractions();\\n    this._checkIfMacAddClass();\\n\\n    //Uses native event listeners instead of L.DomEvent due to issues with Android touch events\\n    //turning into pointer events\\n    this._map._container.addEventListener(\"touchstart\", this._handleTouch);\\n    this._map._container.addEventListener(\"touchend\", this._handleTouch);\\n    L.DomEvent.on(this._map._container, \\'click\\', this._handleTouch, this);\\n    L.DomEvent.on(this._map._container, \\'mousewheel\\', this._handleScroll, this);\\n  },\\n\\n  removeHooks: function () {\\n\\n        this._enableInteractions();\\n        this._removeMacClass();\\n\\n    this._map._container.removeEventListener(\"touchstart\", this._handleTouch);\\n    this._map._container.removeEventListener(\"touchend\", this._handleTouch);\\n    L.DomEvent.off(this._map._container, \\'click\\', this._handleTouch, this);\\n    L.DomEvent.off(this._map._container, \\'mousewheel\\', this._handleScroll, this);\\n    },\\n\\n    _disableInteractions: function() {\\n        this._map.dragging.disable();\\n        this._map.scrollWheelZoom.disable();\\n        if (this._map.tap) {\\n            this._map.tap.disable();\\n    }\\n    },\\n\\n    _enableInteractions: function() {\\n        this._map.dragging.enable();\\n        this._map.scrollWheelZoom.enable();\\n        if (this._map.tap) {\\n            this._map.tap.enable();\\n        }\\n    },\\n\\n    _checkIfMacAddClass: function() {\\n        if (navigator.platform.toUpperCase().indexOf(\\'MAC\\') >= 0) {\\n            this._map._container.classList.add(\\'mac\\');\\n        }\\n    },\\n\\n    _removeMacClass: function() {\\n        this._map._container.classList.remove(\\'mac\\');\\n    },\\n\\n  _handleTouch: function (e) {\\n\\n    //Disregard touch events on the minimap if present\\n    if (e.target.classList.contains(\\'leaflet-control-minimap\\') || e.target.classList.contains(\\'leaflet-interactive\\')) {\\n      return;\\n    }\\n\\n    if ( (e.type === \\'touchmove\\' || e.type === \\'touchstart\\') && e.touches.length === 1) {\\n      e.currentTarget.classList.add(\\'leaflet-gesture-handling-touch-warning\\');\\n      this._map.dragging.disable();\\n    } else {\\n      e.currentTarget.classList.remove(\\'leaflet-gesture-handling-touch-warning\\');\\n      this._map.dragging.enable();\\n    }\\n  },\\n\\n  _isScrolling: false,\\n\\n  _handleScroll: function (e) {\\n    if (e.metaKey || e.ctrlKey) {\\n      this._map._container.classList.remove(\\'leaflet-gesture-handling-scroll-warning\\');\\n      this._map.scrollWheelZoom.enable();\\n    } else {\\n      this._map._container.classList.add(\\'leaflet-gesture-handling-scroll-warning\\');\\n      this._map.scrollWheelZoom.disable();\\n\\n      clearTimeout(this._isScrolling);\\n\\n      // Set a timeout to run after scrolling ends\\n      this._isScrolling = setTimeout(function () {\\n        // Run the callback\\n        var warnings = document.getElementsByClassName(\"leaflet-gesture-handling-scroll-warning\");\\n        for (var i = 0; i < warnings.length; i++) {\\n          warnings[i].classList.remove(\\'leaflet-gesture-handling-scroll-warning\\');\\n        }\\n\\n      }, 1000);\\n    }\\n  }\\n\\n});\\n\\nL.Map.addInitHook(\\'addHandler\\', \\'gestureHandling\\', L.GestureHandler);\\n\\n\\n</script><style type=\"text/css\">#leaflet-map-cont {\\n  width: 250px;\\n  height: 250px;\\n}</style><!-- Begin comScore Tag -->\\n<script>\\n  var _comscore = _comscore || [];\\n  _comscore.push({ c1: \"2\", c2: \"28221962\" });\\n  (function() {\\n    var s = document.createElement(\"script\"), el = document.getElementsByTagName(\"script\")[0]; s.async = true;\\n    s.src = (document.location.protocol == \"https:\" ? \"https://sb\" : \"http://b\") + \".scorecardresearch.com/beacon.js\";\\n    el.parentNode.insertBefore(s, el);\\n  })();\\n</script>\\n<noscript>\\n  <img src=\"https://sb.scorecardresearch.com/p?c1=2&c2=28221962&cv=2.0&cj=1\" />\\n</noscript>\\n<!-- End comScore Tag --><script>\\n(function(i,s,o,g,r,a,m){i[\\'GoogleAnalyticsObject\\']=r;i[r]=i[r]||function(){\\n(i[r].q=i[r].q||[]).push(arguments)},i[r].l=1*new Date();a=s.createElement(o),\\nm=s.getElementsByTagName(o)[0];a.async=1;a.src=g;m.parentNode.insertBefore(a,m)\\n})(window,document,\\'script\\',\\'//www.google-analytics.com/analytics.js\\',\\'ga\\');\\n\\nga(\\'create\\', \\'UA-226744-12\\', \\'auto\\');  // Replace with your property ID.\\nga(\\'require\\', \\'displayfeatures\\');\\nga(\\'send\\', \\'pageview\\');\\n\\ndocument.addEventListener(\"ForecastExpanded\", function() {\\n  ga(\\'send\\', \\'event\\', \\'forecast\\', \\'expanded\\');\\n});\\n</script><script type=\"text/javascript\">var gptCustomAdSlots = [];\\ngoogletag.cmd.push(function() {\\n    var mapping = googletag.sizeMapping().\\n  addSize([0, 0], []).\\n  addSize([1000, 200], [[120, 600], [160, 600]]).\\n  build();\\n\\n  googletag.defineSlot(\\'/1013347/Venatus_WeatherForecast/UnitF\\', [[160, 600], [120, 600]], \\'UnitF\\').defineSizeMapping(mapping).addService(googletag.pubads());\\n  var mapping = googletag.sizeMapping().\\n  addSize([0, 0], [[300, 250], [320, 100], [320, 50]]).\\n  addSize([641, 200], [468, 60]).\\n  addSize([758, 200], [[728, 90], [468, 60]]).\\n  addSize([1000, 200], [[728, 90], [970, 90]]).\\n  build();\\n\\n  googletag.defineSlot(\\'/1013347/Venatus_WeatherForecast/UnitG\\', [[468, 60], [970, 90], [728, 90], [300, 250], [320, 100], [320, 50]], \\'div-gpt-ad-1541506951016-0\\').defineSizeMapping(mapping).addService(googletag.pubads());\\n  var mapping = googletag.sizeMapping().\\n  addSize([0, 0], [[300, 250], [320, 100], [320, 50]]).\\n  addSize([641, 200], [468, 60]).\\n  addSize([758, 200], [[728, 90], [468, 60]]).\\n  addSize([1000, 200], [[728, 90], [970, 90], [970, 250]]).\\n  build();\\n\\n  googletag.defineSlot(\\'/1013347/Venatus_WeatherForecast/UnitH\\', [[970, 90], [970, 250], [300, 250], [728, 90], [320, 100], [320, 50], [468, 60]], \\'div-gpt-ad-1541507545961-0\\').defineSizeMapping(mapping).addService(googletag.pubads());\\n    var mapping = googletag.sizeMapping().\\n    addSize([0, 0], [[300, 250], [320, 100], [320, 50]]).\\n    addSize([641, 200], [468, 60]).\\n    addSize([758, 200], [[728, 90], [468, 60]]).\\n    addSize([1000, 200], [[728, 90], [970, 90], [970, 250]]).\\n    build();\\n\\n    googletag.defineSlot(\\'/1013347/Venatus_WeatherForecast/UnitK\\', [[320, 100], [728, 90], [300, 250], [970, 250], [320, 50], [468, 60], [970, 90]], \\'UnitK\\').defineSizeMapping(mapping).addService(googletag.pubads());\\n  var mapping = googletag.sizeMapping().\\n  addSize([0, 0], [[320, 50], [468, 60]]).\\n  addSize([641, 0], []).\\n  build();\\n\\n  googletag.defineSlot(\\'/1013347/Venatus_WeatherForecast/UnitO\\', [[320, 50], [468, 60]], \\'div-gpt-ad-1541509279503-0\\').defineSizeMapping(mapping).addService(googletag.pubads());\\n\\n  googletag.pubads().enableSingleRequest();\\n  googletag.enableServices();\\n});</script>\\n<script id=\"oil-configuration\" type=\"application/configuration\">\\n{\\n  \"config_version\": 3,\\n  \"timeout\": -1,\\n  \"locale\": {\\n    \"localeId\": \"enEN_01\",\\n    \"version\": 1,\\n    \"texts\": {\\n      \"label_intro_heading\": \"We use cookies and other technologies\",\\n      \"label_intro\": \"I agree that Weather-Forecast.com, Surf-Forecast.com, Mountain-Forecast.com, Tide-Forecast.com and their trusted partners do it for adapting the website to the user, for market research and for advertising. Cookies can be <a class=\\\\\"fc-oil-manage as-js-advanced-settings\\\\\" href=\\\\\"\\\\\" data-context=\\\\\"ADVANCEDSETTINGS\\\\\" data-qa=\\\\\"oil-AdvancedSettingsButton\\\\\" onclick=\\\\\"return false;\\\\\">managed</a> at any time.\",\\n      \"label_cpc_purpose_desc\": \"Purposes\",\\n      \"label_cpc_heading\": \"Privacy settings\",\\n      \"label_cpc_text\": \"Please select a privacy setting:\",\\n      \"label_cpc_activate_all\": \"Activate all\",\\n      \"label_cpc_deactivate_all\": \"Deactivate all\",\\n      \"label_cpc_purpose_optout_confirm_heading\": \"Are you sure?\",\\n      \"label_cpc_purpose_optout_confirm_text\": \"This setting may significantly affect your experience on our website.\",\\n      \"label_cpc_purpose_optout_confirm_proceed\": \"Continue\",\\n      \"label_cpc_purpose_optout_confirm_cancel\": \"Cancel\",\\n      \"label_third_party\": \"Third Parties\",\\n      \"label_button_yes\": \"OK\"\\n    }\\n  },\\n  \"publicPath\": \"/oil/1.2.5/\",\\n  \"advanced_settings\": true,\\n  \"advanced_settings_purposes_default\": true,\\n  \"require_optout_confirm\": true,\\n  \"gdprAppliesGlobally\": false,\\n  \"cookie_expires_in_days\": 396,\\n  \"poi_activate_poi\": true,\\n  \"poi_hub_origin\": \"https://www.weather-forecast.com\",\\n  \"poi_hub_path\": \"/oil/hub.html\",\\n  \"poi_group_name\": \"Meteo365\"\\n}\\n</script>\\n<script>\\n!function(e){var n={};function t(o){if(n[o])return n[o].exports;var r=n[o]={i:o,l:!1,exports:{}};return e[o].call(r.exports,r,r.exports,t),r.l=!0,r.exports}t.m=e,t.c=n,t.d=function(e,n,o){t.o(e,n)||Object.defineProperty(e,n,{configurable:!1,enumerable:!0,get:o})},t.r=function(e){Object.defineProperty(e,\"__esModule\",{value:!0})},t.n=function(e){var n=e&&e.__esModule?function(){return e.default}:function(){return e};return t.d(n,\"a\",n),n},t.o=function(e,n){return Object.prototype.hasOwnProperty.call(e,n)},t.p=\"/\",t(t.s=115)}({115:function(e,n,t){\"use strict\";!function(e,n){e.__cmp||(e.__cmp=function(){function t(e){if(e){var t=!0,r=n.querySelector(\\'script[type=\"application/configuration\"]#oil-configuration\\');if(null!==r&&r.text)try{var a=JSON.parse(r.text);a&&a.hasOwnProperty(\"gdpr_applies_globally\")&&(t=a.gdpr_applies_globally)}catch(e){}e({gdprAppliesGlobally:t,cmpLoaded:o()},!0)}}function o(){return!(!e.AS_OIL||!e.AS_OIL.commandCollectionExecutor)}var r=[],a=function(n,a,c){if(\"ping\"===n)t(c);else{var i={command:n,parameter:a,callback:c};r.push(i),o()&&e.AS_OIL.commandCollectionExecutor(i)}};return a.commandCollection=r,a.receiveMessage=function(n){var a=n&&n.data&&n.data.__cmpCall;if(a)if(\"ping\"===a.command)t(function(e,t){var o={__cmpReturn:{returnValue:e,success:t,callId:a.callId}};n.source.postMessage(o,n.origin)});else{var c={callId:a.callId,command:a.command,parameter:a.parameter,event:n};r.push(c),o()&&e.AS_OIL.commandCollectionExecutor(c)}},function(n){(e.attachEvent||e.addEventListener)(\"message\",function(e){n.receiveMessage(e)},!1)}(a),function e(){if(!(n.getElementsByName(\"__cmpLocator\").length>0))if(n.body){var t=n.createElement(\"iframe\");t.style.display=\"none\",t.name=\"__cmpLocator\",n.body.appendChild(t)}else setTimeout(e,5)}(),a}())}(window,document)}});\\n</script>\\n<script type=\"text/javascript\" src=\"/oil/1.2.5/oil.1.2.5-RELEASE.min.js\"></script>\\n\\n  <script type=\"application/javascript\">\\n    // Cross browser event handler definition\\n    var eventMethod = window.addEventListener ? \\'addEventListener\\' : \\'attachEvent\\';\\n    var messageEvent = eventMethod === \\'attachEvent\\' ? \\'onmessage\\' : \\'message\\';\\n    var eventer = window[eventMethod];\\n\\n    // Callback to be executed when event is fired\\n    function receiveMessage(event) {\\n      // Propagate event to Google Analytics\\n      var eventData = JSON.stringify(event.data);\\n      if (typeof eventData === \\'string\\' && eventData.indexOf(\"oil_\") === 1) {\\n        ga(\\'send\\', \\'event\\', {\\n          eventCategory: \\'OIL\\',\\n          eventAction: eventData\\n        });\\n      }\\n    }\\n\\n    // Register event handler\\n    eventer(messageEvent, receiveMessage, false);\\n  </script>\\n\\n  <style type=\"text/css\">\\n    a.as-oil__btn-cpc.as-js-advanced-settings {\\n      float: none;\\n      border-bottom: 0;\\n      margin: 0;\\n      padding: 0;\\n      text-decoration: underline;\\n      font-weight: bold;\\n    }\\n\\n    button.as-oil__btn-cpc.as-js-advanced-settings {\\n      display: none;\\n    }\\n  </style>\\n</head><body class=\"wider\" data-c-domain=\".weather-forecast.com\"><noscript><iframe src=\"https://www.googletagmanager.com/ns.html?id=GTM-KMND7ZB\"\\nheight=\"0\" width=\"0\" style=\"display:none;visibility:hidden\"></iframe></noscript>\\n<div class=\"not_in_print\" id=\"header_cont\"><div id=\"head_bg\"><div id=\"bg_right\"></div></div><div id=\"tcont_head\"><div id=\"logo_cont\"><a href=\"/\"><img alt=\"Weather Forecast\" height=\"104\" src=\"https://www.weather-forecast.com/img/logo_n.jpg\" width=\"244\" /></a></div><div id=\"header_sky\"><div id=\"flags\"><div class=\"show-for-medium-up\"><div class=\"flag-sprites\">\\n    <a href=\"https://www.weather-forecast.com/locations/Guwahati/forecasts/latest\"><img src=\"https://www.weather-forecast.com/images/blank.gif\" class=\"flag flag-gb\" alt=\"gb\"/></a>\\n    <a href=\"https://fr.weather-forecast.com/locations/Guwahati/forecasts/latest\"><img src=\"https://www.weather-forecast.com/images/blank.gif\" class=\"flag flag-fr\" alt=\"fr\"/></a>\\n    <a href=\"https://de.weather-forecast.com/locations/Guwahati/forecasts/latest\"><img src=\"https://www.weather-forecast.com/images/blank.gif\" class=\"flag flag-de\" alt=\"de\"/></a>\\n    <a href=\"https://es.weather-forecast.com/locations/Guwahati/forecasts/latest\"><img src=\"https://www.weather-forecast.com/images/blank.gif\" class=\"flag flag-es\" alt=\"es\"/></a>\\n    <a href=\"https://nl.weather-forecast.com/locations/Guwahati/forecasts/latest\"><img src=\"https://www.weather-forecast.com/images/blank.gif\" class=\"flag flag-nl\" alt=\"nl\"/></a>\\n    <a href=\"https://ja.weather-forecast.com/locations/Guwahati/forecasts/latest\"><img src=\"https://www.weather-forecast.com/images/blank.gif\" class=\"flag flag-jp\" alt=\"jp\"/></a>\\n    <a href=\"https://zh.weather-forecast.com/locations/Guwahati/forecasts/latest\"><img src=\"https://www.weather-forecast.com/images/blank.gif\" class=\"flag flag-cn\" alt=\"cn\"/></a>\\n</div>\\n</div><div class=\"show-for-small\"><a data-dropdown=\"flags-drop\" class=\"flags-drop-link flag-sprites\" aria-controls=\"flags-drop\" aria-expanded=\"false\"><img src=\"https://www.weather-forecast.com/images/blank.gif\" class=\"flag-large flag-gb\" alt=\"gb\"/></a>\\n<ul id=\"flags-drop\" class=\"flags-drop-list flag-sprites\" data-dropdown-content aria-hidden=\"true\" tabindex=\"-1\">\\n    <li><a href=\"https://www.weather-forecast.com/locations/Guwahati/forecasts/latest\"><div class=\"flag flag-gb\"></div> English</a></li>\\n    <li><a href=\"https://fr.weather-forecast.com/locations/Guwahati/forecasts/latest\"><div class=\"flag flag-fr\"></div> Fran\\xc3\\xa7ais</a></li>\\n    <li><a href=\"https://de.weather-forecast.com/locations/Guwahati/forecasts/latest\"><div class=\"flag flag-de\"></div> Deutch</a></li>\\n    <li><a href=\"https://es.weather-forecast.com/locations/Guwahati/forecasts/latest\"><div class=\"flag flag-es\"></div> Espa\\xc3\\xb1ol</a></li>\\n    <li><a href=\"https://nl.weather-forecast.com/locations/Guwahati/forecasts/latest\"><div class=\"flag flag-nl\"></div> Nederlands</a></li>\\n    <li><a href=\"https://ja.weather-forecast.com/locations/Guwahati/forecasts/latest\"><div class=\"flag flag-jp\"></div> \\xe6\\x97\\xa5\\xe6\\x9c\\xac\\xe8\\xaa\\x9e</a></li>\\n    <li><a href=\"https://zh.weather-forecast.com/locations/Guwahati/forecasts/latest\"><div class=\"flag flag-cn\"></div> \\xe4\\xb8\\xad\\xe6\\x96\\x87</a></li>\\n</ul>\\n</div></div><form method=\"post\" id=\"search-box\" class=\"top-search-box\" action=\"/locations/catch\"> \\n  \\n  \\n  <input class=\"textinput\" id=\"location\" tabindex=\"1\" type=\"text\" name=\"query\" size=\"26\" maxlength=\"255\" value=\"ENTER A CITY OR COUNTRY:\" autocomplete=\"off\" onfocus=\"this.value=\\'\\';\"/> \\n\\t<input id=\"location_loc_id\" name=\"loc_id\" type=\"hidden\" />\\n  <input id=\"searchbtn\" class=\"searchbtn\" type=\"submit\" value=\"Search\" /> <input type=\"hidden\" name=\"action\" value=\"save\"/> \\n</form>\\n</div></div></div><div style=\"clear:both;\"></div><div class=\"contain-to-grid cont-for-menu sticky\"><nav class=\"top-bar\" data-topbar=\"\" role=\"navigation\"><ul class=\"title-area\"><li class=\"toggle-topbar menu-icon\"><a href=\"#\"><span></span></a></li><li class=\"show-for-small\"><form action=\"/locations/catch\" id=\"menu-search-box\" method=\"post\"><input autocomplete=\"off\" class=\"search-small search-in-menu\" id=\"search-in-menu\" name=\"query\" placeholder=\"ENTER A CITY OR COUNTRY:\" /><input id=\"search-in-menu-loc-id\" name=\"loc_id\" type=\"hidden\" /></form></li></ul><section class=\"top-bar-section\"><ul class=\"left\"><li><a class=\"active\" href=\"/\">Home</a></li><li><a href=\"/countries\">Weather Forecasts</a></li><li><a href=\"/maps\">Weather maps</a></li><li><a href=\"/photos\">Photo Gallery</a></li></ul><ul class=\"right\"><li><a href=\"/sign_in\">Login</a></li><li><a href=\"/sign_up\">Sign up</a></li></ul></section></nav></div><div id=\"upper-content\"><div id=\"flash\">\\n</div></div><div style=\"text-align: center; padding: 10px 0 5px;\">\\n<!-- /1013347/Venatus_WeatherForecast/UnitH -->\\n<div id=\\'div-gpt-ad-1541507545961-0\\'>\\n<script>\\ngoogletag.cmd.push(function() { googletag.display(\\'div-gpt-ad-1541507545961-0\\'); });\\n</script>\\n</div>\\n</div><main class=\"combined-container\"><section class=\"main-title\"><div class=\"row\"><div class=\"main-title__container column\"><a href=\"/countries/India-1\" class=\"main-title__flag\"><img alt=\"India WEATHER\" class=\"header_flag\" src=\"https://www.weather-forecast.com/flags/IN.gif\" /></a><h1 class=\"main-title__header\"><div class=\"show-for-medium-up\">Guwahati Weather Forecast</div><div class=\"show-for-small-only\">Guwahati Weather&nbsp;Forecast</div></h1><div class=\"main-title__weather-icon show-for-medium-up\"><div class=\"weather-wrapper\"><img alt=\"Guwahati Weather Forecast\" src=\"https://www.weather-forecast.com/assets/wxvicons/nightclear-f42cfe07c6a21f708100f3c4679a3b8e.svg\" /></div></div></div></div><div class=\"row\"><div class=\"main-title__container column\"><div class=\"main-title__issued show-for-medium-up\">Guwahati (Assam, India) forecast issued: <time datetime=\"2019-01-10T11:00:00Z\">4&thinsp;pm Thu 10 Jan 2019</time> local time </div><div class=\"main-title__issued show-for-small-only\"><div>Issued: <time datetime=\"2019-01-10T11:00:00Z\">4 pm Thu 10 Jan 2019</time> local time </div></div></div></div></section><section class=\"description\"><div class=\"row\"><div class=\"description__container description__container--pd0 columns large-1 collapse\"><div class=\"description__map-thumb show-for-large-up\"><a href=\"\" onclick=\"$(&quot;html, body&quot;).animate({scrollTop: ($(&quot;#location-map-on-combined&quot;).offset().top)},500);return false;\"><img alt=\"Guwahati Local Map\" class=\"descr-topo-thumb\" src=\"https://www.weather-forecast.com/t_locationmaps/t_Guwahati.10.gif\" /></a></div></div><div class=\"description__container columns large-11\"><div class=\"description__breadcrumbs\"><ol class=\"breadcrumb-links show-for-medium-up\"><li><a href=\"/countries/India-1\"><span>India</span></a></li> <li class=\"current\"><a href=\"/locations/Guwahati/forecasts/latest\"><span>Guwahati</span></a></li> </ol></div><div class=\"description__text\"><div class=\"show-for-small-only\"><div class=\"description__weather-icon\"><div class=\"weather-wrapper\"><img alt=\"Guwahati Weather Forecast\" src=\"https://www.weather-forecast.com/assets/wxvicons/nightclear-f42cfe07c6a21f708100f3c4679a3b8e.svg\" /></div></div></div>Guwahati Weather Forecast. Providing a local 3 hourly Guwahati weather forecast of rain, sun, wind, humidity and temperature. <span class=\"read-more-small\"><span class=\"read-more-content\">The Long-range 10 day forecast also includes detail for Guwahati weather today. Live weather reports from Guwahati weather stations and weather warnings that include risk of thunder, high UV index and forecast gales. See the links below the 10-day Guwahati weather forecast table for other cities and towns nearby along with weather conditions for local outdoor activities.<p class=\"large-loc\"><b>Guwahati</b> is  <span class=\"height\">83</span>&thinsp;<span class=\"heightu\">m</span>  above sea level and located at <span class=\"geo\"><span class=\"latitude\" title=\"26.13\">26.13&deg; N</span> <span class=\"longitude\" title=\"91.75\">91.75&deg; E</span></span>. Guwahati has a population of 899094. Local time in Guwahati is <span class=\"current-local-time\"></span> IST.</p></span></span></div></div></div></section><section class=\"row expanded\"><div class=\"small-12 column without-right\"><div class=\"b-forecast interactive-forecast-cont\">\\n<!-- /1013347/Venatus_WeatherForecast/UnitF -->\\n<div class=\"bnr\">\\n  <div id=\\'UnitF\\'>\\n    <script type=\\'text/javascript\\'>\\n      googletag.cmd.push(function() {\\n        var timesBannerRefreshed = 0;\\n        var eventListened = false;\\n        googletag.pubads().addEventListener(\\'slotRenderEnded\\', function(event) {\\n          if (event.slot.getSlotElementId() == \\'UnitF\\') {\\n            console.log(\\'UnitF displayed\\');\\n            if (!eventListened) {\\n              eventListened = true;\\n              var now = new Date();\\n              var bannerFirstDisplayedAt = now.getTime();\\n              console.log(\"Setting event listener\");\\n              document.addEventListener(\"ForecastExpanded\", function() {\\n                console.log(\"Caught expanded event\");\\n                var now = new Date();\\n                if (timesBannerRefreshed > 0) {\\n                  console.log(\"Skipping - banner already refreshed\");\\n                } else if (now.getTime() - bannerFirstDisplayedAt < 3000) {\\n                  console.log(\"Skipping \\xe2\\x80\\x93 too early\");\\n                } else {\\n                  console.log(\"Refreshing\");\\n                  googletag.cmd.push(function() {\\n                    googletag.pubads().refresh([event.slot]);\\n                  });\\n                  timesBannerRefreshed++;\\n                }\\n              });\\n            }\\n          }\\n        });\\n        googletag.display(\\'UnitF\\');\\n      });\\n    </script>\\n  </div>\\n</div>\\n<div class=\"b-forecast__overflow\"><div class=\"b-forecast__wrapper b-forecast__wrapper--js\"><table class=\"b-forecast__table js-forecast-table\"><thead><tr class=\"b-forecast__table-description b-forecast__hide-for-small days-summaries\"><th></th><td class=\"b-forecast__table-description-cell--js\" colspan=\"9\"><span class=\"b-forecast__table-description-title\"><h2>Guwahati Weather Today </h2>(1&ndash;3 days)</span><p class=\"b-forecast__table-description-content\"><span class=\"phrase\">Mostly dry. Warm (max 23&deg;C on Sat afternoon, min 12&deg;C on Sat night). Wind will be generally light.</span></p></td><td class=\"b-forecast__table-description-cell--js\" colspan=\"9\"><span class=\"b-forecast__table-description-title\"><h2>Guwahati Weather (4&ndash;7 days)</h2></span><p class=\"b-forecast__table-description-content\"><span class=\"phrase\">Mostly dry. Warm (max 24&deg;C on Sun afternoon, min 12&deg;C on Tue night). Wind will be generally light.</span></p></td><td class=\"b-forecast__table-description-cell--js\" colspan=\"9\"><span class=\"b-forecast__table-description-title\"><h2>10 Day Guwahati Weather </h2>(7&ndash;10 days)</span><p class=\"b-forecast__table-description-content\"><span class=\"phrase\">Mostly dry. Warm (max 24&deg;C on Fri afternoon, min 12&deg;C on Wed night). Wind will be generally light.</span></p></td></tr><tr class=\"b-forecast__table-days js-forecast-header js-daynames\"><th class=\"b-forecast__table-units\"><div class=\"b-forecast__table-units-container\"><button class=\"b-forecast__table-units-button b-forecast__table-float b-forecast__table-units-button--active\" data-units=\"Metric\"><div class=\"b-forecast__table-units-button-wrapper\">&deg;C</div></button></div></th><td class=\"b-forecast__table-days-item b-forecast__table-day-end js-day-header\" colspan=\"2\" data-d-period=\"0\" data-first-p-period=\"0\" data-first-t-period=\"0\" data-last-p-period=\"1\" data-last-t-period=\"3\"><button class=\"b-forecast__table-days-toggle\" data-help=\"Click to detail\"><span class=\"b-forecast__table-days-name\">Thu</span><span class=\"b-forecast__table-days-date\">10</span><i aria-hidden=\"true\" class=\"fa fa-expand not_in_print\"></i></button></td><td class=\"b-forecast__table-days-item b-forecast__table-day-end b-forecast__table-day-odd js-day-header\" colspan=\"3\" data-d-period=\"1\" data-first-p-period=\"2\" data-first-t-period=\"4\" data-last-p-period=\"4\" data-last-t-period=\"11\"><button class=\"b-forecast__table-days-toggle\" data-help=\"Click to detail\"><span class=\"b-forecast__table-days-name\">Friday</span><span class=\"b-forecast__table-days-date\">11</span><i aria-hidden=\"true\" class=\"fa fa-expand not_in_print\"></i></button></td><td class=\"b-forecast__table-days-item b-forecast__table-day-end js-day-header\" colspan=\"3\" data-d-period=\"2\" data-first-p-period=\"5\" data-first-t-period=\"12\" data-last-p-period=\"7\" data-last-t-period=\"19\"><button class=\"b-forecast__table-days-toggle\" data-help=\"Click to detail\"><span class=\"b-forecast__table-days-name\">Saturday</span><span class=\"b-forecast__table-days-date\">12</span><i aria-hidden=\"true\" class=\"fa fa-expand not_in_print\"></i></button></td><td class=\"b-forecast__table-days-item b-forecast__table-day-end b-forecast__table-day-odd js-day-header\" colspan=\"3\" data-d-period=\"3\" data-first-p-period=\"8\" data-first-t-period=\"20\" data-last-p-period=\"10\" data-last-t-period=\"27\"><button class=\"b-forecast__table-days-toggle\" data-help=\"Click to detail\"><span class=\"b-forecast__table-days-name\">Sunday</span><span class=\"b-forecast__table-days-date\">13</span><i aria-hidden=\"true\" class=\"fa fa-expand not_in_print\"></i></button></td><td class=\"b-forecast__table-days-item b-forecast__table-day-end js-day-header\" colspan=\"3\" data-d-period=\"4\" data-first-p-period=\"11\" data-first-t-period=\"28\" data-last-p-period=\"13\" data-last-t-period=\"35\"><button class=\"b-forecast__table-days-toggle\" data-help=\"Click to detail\"><span class=\"b-forecast__table-days-name\">Monday</span><span class=\"b-forecast__table-days-date\">14</span><i aria-hidden=\"true\" class=\"fa fa-expand not_in_print\"></i></button></td><td class=\"b-forecast__table-days-item b-forecast__table-day-end b-forecast__table-day-odd js-day-header\" colspan=\"3\" data-d-period=\"5\" data-first-p-period=\"14\" data-first-t-period=\"36\" data-last-p-period=\"16\" data-last-t-period=\"43\"><button class=\"b-forecast__table-days-toggle\" data-help=\"Click to detail\"><span class=\"b-forecast__table-days-name\">Tuesday</span><span class=\"b-forecast__table-days-date\">15</span><i aria-hidden=\"true\" class=\"fa fa-expand not_in_print\"></i></button></td><td class=\"b-forecast__table-days-item b-forecast__table-day-end js-day-header\" colspan=\"3\" data-d-period=\"6\" data-first-p-period=\"17\" data-first-t-period=\"44\" data-last-p-period=\"19\" data-last-t-period=\"51\"><button class=\"b-forecast__table-days-toggle\" data-help=\"Click to detail\"><span class=\"b-forecast__table-days-name\">Wednesday</span><span class=\"b-forecast__table-days-date\">16</span><i aria-hidden=\"true\" class=\"fa fa-expand not_in_print\"></i></button></td><td class=\"b-forecast__table-days-item b-forecast__table-day-end b-forecast__table-day-odd\" colspan=\"3\" data-d-period=\"7\" data-first-p-period=\"20\" data-first-t-period=\"52\" data-last-p-period=\"22\" data-last-t-period=\"254\"><span class=\"b-forecast__table-days-name\">Thursday</span><span class=\"b-forecast__table-days-date\">17</span></td><td class=\"b-forecast__table-days-item b-forecast__table-day-end\" colspan=\"3\" data-d-period=\"8\" data-first-p-period=\"23\" data-first-t-period=\"255\" data-last-p-period=\"25\" data-last-t-period=\"554\"><span class=\"b-forecast__table-days-name\">Friday</span><span class=\"b-forecast__table-days-date\">18</span></td><td class=\"b-forecast__table-days-item b-forecast__table-day-end b-forecast__table-day-odd\" colspan=\"1\" data-d-period=\"9\" data-first-p-period=\"26\" data-first-t-period=\"555\" data-last-p-period=\"26\" data-last-t-period=\"654\"><span class=\"b-forecast__table-days-name\">Sat</span><span class=\"b-forecast__table-days-date\">19</span></td></tr><tr class=\"b-forecast__table-time js-daytimes\"><th class=\"b-forecast__table-units\"><div class=\"b-forecast__table-units-container\"><button class=\"b-forecast__table-units-button b-forecast__table-float\" data-units=\"Imperial\"><div class=\"b-forecast__table-units-button-wrapper\">&deg;F</div></button></div></th><td class=\"b-forecast__table-time-item\" data-t-periods=\"2\"><div class=\"b-forecast__text-limit\"><span class=\"b-forecast__table-value\">PM</span></div></td><td class=\"b-forecast__table-time-item b-forecast__table-day-end\" data-t-periods=\"2\"><div class=\"b-forecast__text-limit\"><span class=\"b-forecast__table-value\">Night</span></div></td><td class=\"b-forecast__table-time-item b-forecast__table-day-odd\" data-t-periods=\"4\"><div class=\"b-forecast__text-limit\"><span class=\"b-forecast__table-value\">AM</span></div></td><td class=\"b-forecast__table-time-item b-forecast__table-day-odd\" data-t-periods=\"2\"><div class=\"b-forecast__text-limit\"><span class=\"b-forecast__table-value\">PM</span></div></td><td class=\"b-forecast__table-time-item b-forecast__table-day-end b-forecast__table-day-odd\" data-t-periods=\"2\"><div class=\"b-forecast__text-limit\"><span class=\"b-forecast__table-value\">Night</span></div></td><td class=\"b-forecast__table-time-item\" data-t-periods=\"4\"><div class=\"b-forecast__text-limit\"><span class=\"b-forecast__table-value\">AM</span></div></td><td class=\"b-forecast__table-time-item\" data-t-periods=\"2\"><div class=\"b-forecast__text-limit\"><span class=\"b-forecast__table-value\">PM</span></div></td><td class=\"b-forecast__table-time-item b-forecast__table-day-end\" data-t-periods=\"2\"><div class=\"b-forecast__text-limit\"><span class=\"b-forecast__table-value\">Night</span></div></td><td class=\"b-forecast__table-time-item b-forecast__table-day-odd\" data-t-periods=\"4\"><div class=\"b-forecast__text-limit\"><span class=\"b-forecast__table-value\">AM</span></div></td><td class=\"b-forecast__table-time-item b-forecast__table-day-odd\" data-t-periods=\"2\"><div class=\"b-forecast__text-limit\"><span class=\"b-forecast__table-value\">PM</span></div></td><td class=\"b-forecast__table-time-item b-forecast__table-day-end b-forecast__table-day-odd\" data-t-periods=\"2\"><div class=\"b-forecast__text-limit\"><span class=\"b-forecast__table-value\">Night</span></div></td><td class=\"b-forecast__table-time-item\" data-t-periods=\"4\"><div class=\"b-forecast__text-limit\"><span class=\"b-forecast__table-value\">AM</span></div></td><td class=\"b-forecast__table-time-item\" data-t-periods=\"2\"><div class=\"b-forecast__text-limit\"><span class=\"b-forecast__table-value\">PM</span></div></td><td class=\"b-forecast__table-time-item b-forecast__table-day-end\" data-t-periods=\"2\"><div class=\"b-forecast__text-limit\"><span class=\"b-forecast__table-value\">Night</span></div></td><td class=\"b-forecast__table-time-item b-forecast__table-day-odd\" data-t-periods=\"4\"><div class=\"b-forecast__text-limit\"><span class=\"b-forecast__table-value\">AM</span></div></td><td class=\"b-forecast__table-time-item b-forecast__table-day-odd\" data-t-periods=\"2\"><div class=\"b-forecast__text-limit\"><span class=\"b-forecast__table-value\">PM</span></div></td><td class=\"b-forecast__table-time-item b-forecast__table-day-end b-forecast__table-day-odd\" data-t-periods=\"2\"><div class=\"b-forecast__text-limit\"><span class=\"b-forecast__table-value\">Night</span></div></td><td class=\"b-forecast__table-time-item\" data-t-periods=\"4\"><div class=\"b-forecast__text-limit\"><span class=\"b-forecast__table-value\">AM</span></div></td><td class=\"b-forecast__table-time-item\" data-t-periods=\"2\"><div class=\"b-forecast__text-limit\"><span class=\"b-forecast__table-value\">PM</span></div></td><td class=\"b-forecast__table-time-item b-forecast__table-day-end\" data-t-periods=\"2\"><div class=\"b-forecast__text-limit\"><span class=\"b-forecast__table-value\">Night</span></div></td><td class=\"b-forecast__table-time-item b-forecast__table-day-odd\" data-t-periods=\"3\"><div class=\"b-forecast__text-limit\"><span class=\"b-forecast__table-value\">AM</span></div></td><td class=\"b-forecast__table-time-item b-forecast__table-day-odd\"><div class=\"b-forecast__text-limit\"><span class=\"b-forecast__table-value\">PM</span></div></td><td class=\"b-forecast__table-time-item b-forecast__table-day-end b-forecast__table-day-odd\"><div class=\"b-forecast__text-limit\"><span class=\"b-forecast__table-value\">Night</span></div></td><td class=\"b-forecast__table-time-item\"><div class=\"b-forecast__text-limit\"><span class=\"b-forecast__table-value\">AM</span></div></td><td class=\"b-forecast__table-time-item\"><div class=\"b-forecast__text-limit\"><span class=\"b-forecast__table-value\">PM</span></div></td><td class=\"b-forecast__table-time-item b-forecast__table-day-end\"><div class=\"b-forecast__text-limit\"><span class=\"b-forecast__table-value\">Night</span></div></td><td class=\"b-forecast__table-time-item b-forecast__table-day-end b-forecast__table-day-odd\"><div class=\"b-forecast__text-limit\"><span class=\"b-forecast__table-value\">AM</span></div></td></tr></thead><tbody><tr class=\"b-forecast__table-weather\"><th class=\"b-forecast__table-header\"><div class=\"b-forecast__table-header-wrapper\"></div></th><td class=\"b-forecast__table-weather-cell\"><div class=\"weather-wrapper\"><img alt=\"clear\" src=\"https://www.weather-forecast.com/assets/wxvicons/dayclear-654ca22e48cf3743939c27a0201e6ffe.svg\" /></div></td><td class=\"b-forecast__table-weather-cell b-forecast__table-day-end\"><div class=\"weather-wrapper\"><img alt=\"clear\" src=\"https://www.weather-forecast.com/assets/wxvicons/nightclear-f42cfe07c6a21f708100f3c4679a3b8e.svg\" /></div></td><td class=\"b-forecast__table-weather-cell b-forecast__table-day-odd\"><div class=\"weather-wrapper\"><img alt=\"clear\" src=\"https://www.weather-forecast.com/assets/wxvicons/dayclear-654ca22e48cf3743939c27a0201e6ffe.svg\" /></div></td><td class=\"b-forecast__table-weather-cell b-forecast__table-day-odd\"><div class=\"weather-wrapper\"><img alt=\"clear\" src=\"https://www.weather-forecast.com/assets/wxvicons/dayclear-654ca22e48cf3743939c27a0201e6ffe.svg\" /></div></td><td class=\"b-forecast__table-weather-cell b-forecast__table-day-odd b-forecast__table-day-end\"><div class=\"weather-wrapper\"><img alt=\"clear\" src=\"https://www.weather-forecast.com/assets/wxvicons/nightclear-f42cfe07c6a21f708100f3c4679a3b8e.svg\" /></div></td><td class=\"b-forecast__table-weather-cell\"><div class=\"weather-wrapper\"><img alt=\"clear\" src=\"https://www.weather-forecast.com/assets/wxvicons/dayclear-654ca22e48cf3743939c27a0201e6ffe.svg\" /></div></td><td class=\"b-forecast__table-weather-cell\"><div class=\"weather-wrapper\"><img alt=\"clear\" src=\"https://www.weather-forecast.com/assets/wxvicons/dayclear-654ca22e48cf3743939c27a0201e6ffe.svg\" /></div></td><td class=\"b-forecast__table-weather-cell b-forecast__table-day-end\"><div class=\"weather-wrapper\"><img alt=\"clear\" src=\"https://www.weather-forecast.com/assets/wxvicons/nightclear-f42cfe07c6a21f708100f3c4679a3b8e.svg\" /></div></td><td class=\"b-forecast__table-weather-cell b-forecast__table-day-odd\"><div class=\"weather-wrapper\"><img alt=\"clear\" src=\"https://www.weather-forecast.com/assets/wxvicons/dayclear-654ca22e48cf3743939c27a0201e6ffe.svg\" /></div></td><td class=\"b-forecast__table-weather-cell b-forecast__table-day-odd\"><div class=\"weather-wrapper\"><img alt=\"clear\" src=\"https://www.weather-forecast.com/assets/wxvicons/dayclear-654ca22e48cf3743939c27a0201e6ffe.svg\" /></div></td><td class=\"b-forecast__table-weather-cell b-forecast__table-day-odd b-forecast__table-day-end\"><div class=\"weather-wrapper\"><img alt=\"clear\" src=\"https://www.weather-forecast.com/assets/wxvicons/nightclear-f42cfe07c6a21f708100f3c4679a3b8e.svg\" /></div></td><td class=\"b-forecast__table-weather-cell\"><div class=\"weather-wrapper\"><img alt=\"clear\" src=\"https://www.weather-forecast.com/assets/wxvicons/dayclear-654ca22e48cf3743939c27a0201e6ffe.svg\" /></div></td><td class=\"b-forecast__table-weather-cell\"><div class=\"weather-wrapper\"><img alt=\"clear\" src=\"https://www.weather-forecast.com/assets/wxvicons/dayclear-654ca22e48cf3743939c27a0201e6ffe.svg\" /></div></td><td class=\"b-forecast__table-weather-cell b-forecast__table-day-end\"><div class=\"weather-wrapper\"><img alt=\"clear\" src=\"https://www.weather-forecast.com/assets/wxvicons/nightclear-f42cfe07c6a21f708100f3c4679a3b8e.svg\" /></div></td><td class=\"b-forecast__table-weather-cell b-forecast__table-day-odd\"><div class=\"weather-wrapper\"><img alt=\"clear\" src=\"https://www.weather-forecast.com/assets/wxvicons/dayclear-654ca22e48cf3743939c27a0201e6ffe.svg\" /></div></td><td class=\"b-forecast__table-weather-cell b-forecast__table-day-odd\"><div class=\"weather-wrapper\"><img alt=\"clear\" src=\"https://www.weather-forecast.com/assets/wxvicons/dayclear-654ca22e48cf3743939c27a0201e6ffe.svg\" /></div></td><td class=\"b-forecast__table-weather-cell b-forecast__table-day-odd b-forecast__table-day-end\"><div class=\"weather-wrapper\"><img alt=\"clear\" src=\"https://www.weather-forecast.com/assets/wxvicons/nightclear-f42cfe07c6a21f708100f3c4679a3b8e.svg\" /></div></td><td class=\"b-forecast__table-weather-cell\"><div class=\"weather-wrapper\"><img alt=\"clear\" src=\"https://www.weather-forecast.com/assets/wxvicons/dayclear-654ca22e48cf3743939c27a0201e6ffe.svg\" /></div></td><td class=\"b-forecast__table-weather-cell\"><div class=\"weather-wrapper\"><img alt=\"clear\" src=\"https://www.weather-forecast.com/assets/wxvicons/dayclear-654ca22e48cf3743939c27a0201e6ffe.svg\" /></div></td><td class=\"b-forecast__table-weather-cell b-forecast__table-day-end\"><div class=\"weather-wrapper\"><img alt=\"clear\" src=\"https://www.weather-forecast.com/assets/wxvicons/nightclear-f42cfe07c6a21f708100f3c4679a3b8e.svg\" /></div></td><td class=\"b-forecast__table-weather-cell b-forecast__table-day-odd\"><div class=\"weather-wrapper\"><img alt=\"clear\" src=\"https://www.weather-forecast.com/assets/wxvicons/dayclear-654ca22e48cf3743939c27a0201e6ffe.svg\" /></div></td><td class=\"b-forecast__table-weather-cell b-forecast__table-day-odd\"><div class=\"weather-wrapper\"><img alt=\"clear\" src=\"https://www.weather-forecast.com/assets/wxvicons/dayclear-654ca22e48cf3743939c27a0201e6ffe.svg\" /></div></td><td class=\"b-forecast__table-weather-cell b-forecast__table-day-odd b-forecast__table-day-end\"><div class=\"weather-wrapper\"><img alt=\"clear\" src=\"https://www.weather-forecast.com/assets/wxvicons/nightclear-f42cfe07c6a21f708100f3c4679a3b8e.svg\" /></div></td><td class=\"b-forecast__table-weather-cell\"><div class=\"weather-wrapper\"><img alt=\"clear\" src=\"https://www.weather-forecast.com/assets/wxvicons/dayclear-654ca22e48cf3743939c27a0201e6ffe.svg\" /></div></td><td class=\"b-forecast__table-weather-cell\"><div class=\"weather-wrapper\"><img alt=\"clear\" src=\"https://www.weather-forecast.com/assets/wxvicons/dayclear-654ca22e48cf3743939c27a0201e6ffe.svg\" /></div></td><td class=\"b-forecast__table-weather-cell b-forecast__table-day-end\"><div class=\"weather-wrapper\"><img alt=\"clear\" src=\"https://www.weather-forecast.com/assets/wxvicons/nightclear-f42cfe07c6a21f708100f3c4679a3b8e.svg\" /></div></td><td class=\"b-forecast__table-weather-cell b-forecast__table-day-odd b-forecast__table-day-end\"><div class=\"weather-wrapper\"><img alt=\"clear\" src=\"https://www.weather-forecast.com/assets/wxvicons/dayclear-654ca22e48cf3743939c27a0201e6ffe.svg\" /></div></td></tr><tr class=\"b-forecast__table-wind\"><th class=\"b-forecast__table-header\"><div class=\"b-forecast__table-header-wrapper\"><div class=\"b-forecast__table-header-value b-forecast__table-float\">Wind <span class=\"windu b-forecast__table-header-units\">km/h</span></div></div></th><td><div class=\"b-forecast__table-wind-container\"><svg class=\"svg-icon wind-icon\" fill=\"rgb(0, 0, 0)\" height=\"38\" viewBox=\"-19 -19 38 38\" width=\"38\" xmlns=\"http://www.w3.org/2000/svg\"><circle cx=\"0\" cy=\"0\" r=\"10.5\"></circle><g transform=\"rotate(225)\"><polygon points=\"-7 -13.5 0 -19.5 7 -13.5\"></polygon><rect height=\"4\" width=\"4\" x=\"-2\" y=\"-13.5\"></rect></g><text class=\"wind-icon-val\" data-precise=\"5\" fill=\"rgb(255, 255, 255)\" text-anchor=\"middle\" x=\"0\" y=\"5\">5</text></svg></div></td><td class=\"b-forecast__table-day-end\"><div class=\"b-forecast__table-wind-container\"><svg class=\"svg-icon wind-icon\" fill=\"rgb(0, 0, 0)\" height=\"38\" viewBox=\"-19 -19 38 38\" width=\"38\" xmlns=\"http://www.w3.org/2000/svg\"><circle cx=\"0\" cy=\"0\" r=\"10.5\"></circle><g transform=\"rotate(270)\"><polygon points=\"-7 -13.5 0 -19.5 7 -13.5\"></polygon><rect height=\"4\" width=\"4\" x=\"-2\" y=\"-13.5\"></rect></g><text class=\"wind-icon-val\" data-precise=\"10\" fill=\"rgb(255, 255, 255)\" text-anchor=\"middle\" x=\"0\" y=\"5\">10</text></svg></div></td><td><div class=\"b-forecast__table-wind-container\"><svg class=\"svg-icon wind-icon\" fill=\"rgb(0, 0, 0)\" height=\"38\" viewBox=\"-19 -19 38 38\" width=\"38\" xmlns=\"http://www.w3.org/2000/svg\"><circle cx=\"0\" cy=\"0\" r=\"10.5\"></circle><g transform=\"rotate(247)\"><polygon points=\"-7 -13.5 0 -19.5 7 -13.5\"></polygon><rect height=\"4\" width=\"4\" x=\"-2\" y=\"-13.5\"></rect></g><text class=\"wind-icon-val\" data-precise=\"15\" fill=\"rgb(255, 255, 255)\" text-anchor=\"middle\" x=\"0\" y=\"5\">15</text></svg></div></td><td><div class=\"b-forecast__table-wind-container\"><svg class=\"svg-icon wind-icon\" fill=\"rgb(0, 0, 0)\" height=\"38\" viewBox=\"-19 -19 38 38\" width=\"38\" xmlns=\"http://www.w3.org/2000/svg\"><circle cx=\"0\" cy=\"0\" r=\"10.5\"></circle><g transform=\"rotate(225)\"><polygon points=\"-7 -13.5 0 -19.5 7 -13.5\"></polygon><rect height=\"4\" width=\"4\" x=\"-2\" y=\"-13.5\"></rect></g><text class=\"wind-icon-val\" data-precise=\"15\" fill=\"rgb(255, 255, 255)\" text-anchor=\"middle\" x=\"0\" y=\"5\">15</text></svg></div></td><td class=\"b-forecast__table-day-end\"><div class=\"b-forecast__table-wind-container\"><svg class=\"svg-icon wind-icon\" fill=\"rgb(0, 0, 0)\" height=\"38\" viewBox=\"-19 -19 38 38\" width=\"38\" xmlns=\"http://www.w3.org/2000/svg\"><circle cx=\"0\" cy=\"0\" r=\"10.5\"></circle><g transform=\"rotate(270)\"><polygon points=\"-7 -13.5 0 -19.5 7 -13.5\"></polygon><rect height=\"4\" width=\"4\" x=\"-2\" y=\"-13.5\"></rect></g><text class=\"wind-icon-val\" data-precise=\"10\" fill=\"rgb(255, 255, 255)\" text-anchor=\"middle\" x=\"0\" y=\"5\">10</text></svg></div></td><td><div class=\"b-forecast__table-wind-container\"><svg class=\"svg-icon wind-icon\" fill=\"rgb(0, 0, 0)\" height=\"38\" viewBox=\"-19 -19 38 38\" width=\"38\" xmlns=\"http://www.w3.org/2000/svg\"><circle cx=\"0\" cy=\"0\" r=\"10.5\"></circle><g transform=\"rotate(247)\"><polygon points=\"-7 -13.5 0 -19.5 7 -13.5\"></polygon><rect height=\"4\" width=\"4\" x=\"-2\" y=\"-13.5\"></rect></g><text class=\"wind-icon-val\" data-precise=\"20\" fill=\"rgb(0, 255, 0)\" text-anchor=\"middle\" x=\"0\" y=\"5\">20</text></svg></div></td><td><div class=\"b-forecast__table-wind-container\"><svg class=\"svg-icon wind-icon\" fill=\"rgb(0, 0, 0)\" height=\"38\" viewBox=\"-19 -19 38 38\" width=\"38\" xmlns=\"http://www.w3.org/2000/svg\"><circle cx=\"0\" cy=\"0\" r=\"10.5\"></circle><g transform=\"rotate(247)\"><polygon points=\"-7 -13.5 0 -19.5 7 -13.5\"></polygon><rect height=\"4\" width=\"4\" x=\"-2\" y=\"-13.5\"></rect></g><text class=\"wind-icon-val\" data-precise=\"15\" fill=\"rgb(255, 255, 255)\" text-anchor=\"middle\" x=\"0\" y=\"5\">15</text></svg></div></td><td class=\"b-forecast__table-day-end\"><div class=\"b-forecast__table-wind-container\"><svg class=\"svg-icon wind-icon\" fill=\"rgb(0, 0, 0)\" height=\"38\" viewBox=\"-19 -19 38 38\" width=\"38\" xmlns=\"http://www.w3.org/2000/svg\"><circle cx=\"0\" cy=\"0\" r=\"10.5\"></circle><g transform=\"rotate(270)\"><polygon points=\"-7 -13.5 0 -19.5 7 -13.5\"></polygon><rect height=\"4\" width=\"4\" x=\"-2\" y=\"-13.5\"></rect></g><text class=\"wind-icon-val\" data-precise=\"10\" fill=\"rgb(255, 255, 255)\" text-anchor=\"middle\" x=\"0\" y=\"5\">10</text></svg></div></td><td><div class=\"b-forecast__table-wind-container\"><svg class=\"svg-icon wind-icon\" fill=\"rgb(0, 0, 0)\" height=\"38\" viewBox=\"-19 -19 38 38\" width=\"38\" xmlns=\"http://www.w3.org/2000/svg\"><circle cx=\"0\" cy=\"0\" r=\"10.5\"></circle><g transform=\"rotate(247)\"><polygon points=\"-7 -13.5 0 -19.5 7 -13.5\"></polygon><rect height=\"4\" width=\"4\" x=\"-2\" y=\"-13.5\"></rect></g><text class=\"wind-icon-val\" data-precise=\"15\" fill=\"rgb(255, 255, 255)\" text-anchor=\"middle\" x=\"0\" y=\"5\">15</text></svg></div></td><td><div class=\"b-forecast__table-wind-container\"><svg class=\"svg-icon wind-icon\" fill=\"rgb(0, 0, 0)\" height=\"38\" viewBox=\"-19 -19 38 38\" width=\"38\" xmlns=\"http://www.w3.org/2000/svg\"><circle cx=\"0\" cy=\"0\" r=\"10.5\"></circle><g transform=\"rotate(247)\"><polygon points=\"-7 -13.5 0 -19.5 7 -13.5\"></polygon><rect height=\"4\" width=\"4\" x=\"-2\" y=\"-13.5\"></rect></g><text class=\"wind-icon-val\" data-precise=\"10\" fill=\"rgb(255, 255, 255)\" text-anchor=\"middle\" x=\"0\" y=\"5\">10</text></svg></div></td><td class=\"b-forecast__table-day-end\"><div class=\"b-forecast__table-wind-container\"><svg class=\"svg-icon wind-icon\" fill=\"rgb(0, 0, 0)\" height=\"38\" viewBox=\"-19 -19 38 38\" width=\"38\" xmlns=\"http://www.w3.org/2000/svg\"><circle cx=\"0\" cy=\"0\" r=\"10.5\"></circle><g transform=\"rotate(292)\"><polygon points=\"-7 -13.5 0 -19.5 7 -13.5\"></polygon><rect height=\"4\" width=\"4\" x=\"-2\" y=\"-13.5\"></rect></g><text class=\"wind-icon-val\" data-precise=\"5\" fill=\"rgb(255, 255, 255)\" text-anchor=\"middle\" x=\"0\" y=\"5\">5</text></svg></div></td><td><div class=\"b-forecast__table-wind-container\"><svg class=\"svg-icon wind-icon\" fill=\"rgb(0, 0, 0)\" height=\"38\" viewBox=\"-19 -19 38 38\" width=\"38\" xmlns=\"http://www.w3.org/2000/svg\"><circle cx=\"0\" cy=\"0\" r=\"10.5\"></circle><g transform=\"rotate(247)\"><polygon points=\"-7 -13.5 0 -19.5 7 -13.5\"></polygon><rect height=\"4\" width=\"4\" x=\"-2\" y=\"-13.5\"></rect></g><text class=\"wind-icon-val\" data-precise=\"15\" fill=\"rgb(255, 255, 255)\" text-anchor=\"middle\" x=\"0\" y=\"5\">15</text></svg></div></td><td><div class=\"b-forecast__table-wind-container\"><svg class=\"svg-icon wind-icon\" fill=\"rgb(0, 0, 0)\" height=\"38\" viewBox=\"-19 -19 38 38\" width=\"38\" xmlns=\"http://www.w3.org/2000/svg\"><circle cx=\"0\" cy=\"0\" r=\"10.5\"></circle><g transform=\"rotate(247)\"><polygon points=\"-7 -13.5 0 -19.5 7 -13.5\"></polygon><rect height=\"4\" width=\"4\" x=\"-2\" y=\"-13.5\"></rect></g><text class=\"wind-icon-val\" data-precise=\"5\" fill=\"rgb(255, 255, 255)\" text-anchor=\"middle\" x=\"0\" y=\"5\">5</text></svg></div></td><td class=\"b-forecast__table-day-end\"><div class=\"b-forecast__table-wind-container\"><svg class=\"svg-icon wind-icon\" fill=\"rgb(0, 0, 0)\" height=\"38\" viewBox=\"-19 -19 38 38\" width=\"38\" xmlns=\"http://www.w3.org/2000/svg\"><circle cx=\"0\" cy=\"0\" r=\"10.5\"></circle><g transform=\"rotate(292)\"><polygon points=\"-7 -13.5 0 -19.5 7 -13.5\"></polygon><rect height=\"4\" width=\"4\" x=\"-2\" y=\"-13.5\"></rect></g><text class=\"wind-icon-val\" data-precise=\"5\" fill=\"rgb(255, 255, 255)\" text-anchor=\"middle\" x=\"0\" y=\"5\">5</text></svg></div></td><td><div class=\"b-forecast__table-wind-container\"><svg class=\"svg-icon wind-icon\" fill=\"rgb(0, 0, 0)\" height=\"38\" viewBox=\"-19 -19 38 38\" width=\"38\" xmlns=\"http://www.w3.org/2000/svg\"><circle cx=\"0\" cy=\"0\" r=\"10.5\"></circle><g transform=\"rotate(247)\"><polygon points=\"-7 -13.5 0 -19.5 7 -13.5\"></polygon><rect height=\"4\" width=\"4\" x=\"-2\" y=\"-13.5\"></rect></g><text class=\"wind-icon-val\" data-precise=\"10\" fill=\"rgb(255, 255, 255)\" text-anchor=\"middle\" x=\"0\" y=\"5\">10</text></svg></div></td><td><div class=\"b-forecast__table-wind-container\"><svg class=\"svg-icon wind-icon\" fill=\"rgb(0, 0, 0)\" height=\"38\" viewBox=\"-19 -19 38 38\" width=\"38\" xmlns=\"http://www.w3.org/2000/svg\"><circle cx=\"0\" cy=\"0\" r=\"10.5\"></circle><g transform=\"rotate(225)\"><polygon points=\"-7 -13.5 0 -19.5 7 -13.5\"></polygon><rect height=\"4\" width=\"4\" x=\"-2\" y=\"-13.5\"></rect></g><text class=\"wind-icon-val\" data-precise=\"5\" fill=\"rgb(255, 255, 255)\" text-anchor=\"middle\" x=\"0\" y=\"5\">5</text></svg></div></td><td class=\"b-forecast__table-day-end\"><div class=\"b-forecast__table-wind-container\"><svg class=\"svg-icon wind-icon\" fill=\"rgb(0, 0, 0)\" height=\"38\" viewBox=\"-19 -19 38 38\" width=\"38\" xmlns=\"http://www.w3.org/2000/svg\"><circle cx=\"0\" cy=\"0\" r=\"10.5\"></circle><g transform=\"rotate(292)\"><polygon points=\"-7 -13.5 0 -19.5 7 -13.5\"></polygon><rect height=\"4\" width=\"4\" x=\"-2\" y=\"-13.5\"></rect></g><text class=\"wind-icon-val\" data-precise=\"5\" fill=\"rgb(255, 255, 255)\" text-anchor=\"middle\" x=\"0\" y=\"5\">5</text></svg></div></td><td><div class=\"b-forecast__table-wind-container\"><svg class=\"svg-icon wind-icon\" fill=\"rgb(0, 0, 0)\" height=\"38\" viewBox=\"-19 -19 38 38\" width=\"38\" xmlns=\"http://www.w3.org/2000/svg\"><circle cx=\"0\" cy=\"0\" r=\"10.5\"></circle><g transform=\"rotate(247)\"><polygon points=\"-7 -13.5 0 -19.5 7 -13.5\"></polygon><rect height=\"4\" width=\"4\" x=\"-2\" y=\"-13.5\"></rect></g><text class=\"wind-icon-val\" data-precise=\"15\" fill=\"rgb(255, 255, 255)\" text-anchor=\"middle\" x=\"0\" y=\"5\">15</text></svg></div></td><td><div class=\"b-forecast__table-wind-container\"><svg class=\"svg-icon wind-icon\" fill=\"rgb(0, 0, 0)\" height=\"38\" viewBox=\"-19 -19 38 38\" width=\"38\" xmlns=\"http://www.w3.org/2000/svg\"><circle cx=\"0\" cy=\"0\" r=\"10.5\"></circle><g transform=\"rotate(247)\"><polygon points=\"-7 -13.5 0 -19.5 7 -13.5\"></polygon><rect height=\"4\" width=\"4\" x=\"-2\" y=\"-13.5\"></rect></g><text class=\"wind-icon-val\" data-precise=\"10\" fill=\"rgb(255, 255, 255)\" text-anchor=\"middle\" x=\"0\" y=\"5\">10</text></svg></div></td><td class=\"b-forecast__table-day-end\"><div class=\"b-forecast__table-wind-container\"><svg class=\"svg-icon wind-icon\" fill=\"rgb(0, 0, 0)\" height=\"38\" viewBox=\"-19 -19 38 38\" width=\"38\" xmlns=\"http://www.w3.org/2000/svg\"><circle cx=\"0\" cy=\"0\" r=\"10.5\"></circle><g transform=\"rotate(270)\"><polygon points=\"-7 -13.5 0 -19.5 7 -13.5\"></polygon><rect height=\"4\" width=\"4\" x=\"-2\" y=\"-13.5\"></rect></g><text class=\"wind-icon-val\" data-precise=\"5\" fill=\"rgb(255, 255, 255)\" text-anchor=\"middle\" x=\"0\" y=\"5\">5</text></svg></div></td><td><div class=\"b-forecast__table-wind-container\"><svg class=\"svg-icon wind-icon\" fill=\"rgb(0, 0, 0)\" height=\"38\" viewBox=\"-19 -19 38 38\" width=\"38\" xmlns=\"http://www.w3.org/2000/svg\"><circle cx=\"0\" cy=\"0\" r=\"10.5\"></circle><g transform=\"rotate(247)\"><polygon points=\"-7 -13.5 0 -19.5 7 -13.5\"></polygon><rect height=\"4\" width=\"4\" x=\"-2\" y=\"-13.5\"></rect></g><text class=\"wind-icon-val\" data-precise=\"15\" fill=\"rgb(255, 255, 255)\" text-anchor=\"middle\" x=\"0\" y=\"5\">15</text></svg></div></td><td><div class=\"b-forecast__table-wind-container\"><svg class=\"svg-icon wind-icon\" fill=\"rgb(0, 0, 0)\" height=\"38\" viewBox=\"-19 -19 38 38\" width=\"38\" xmlns=\"http://www.w3.org/2000/svg\"><circle cx=\"0\" cy=\"0\" r=\"10.5\"></circle><g transform=\"rotate(247)\"><polygon points=\"-7 -13.5 0 -19.5 7 -13.5\"></polygon><rect height=\"4\" width=\"4\" x=\"-2\" y=\"-13.5\"></rect></g><text class=\"wind-icon-val\" data-precise=\"10\" fill=\"rgb(255, 255, 255)\" text-anchor=\"middle\" x=\"0\" y=\"5\">10</text></svg></div></td><td class=\"b-forecast__table-day-end\"><div class=\"b-forecast__table-wind-container\"><svg class=\"svg-icon wind-icon\" fill=\"rgb(0, 0, 0)\" height=\"38\" viewBox=\"-19 -19 38 38\" width=\"38\" xmlns=\"http://www.w3.org/2000/svg\"><circle cx=\"0\" cy=\"0\" r=\"10.5\"></circle><g transform=\"rotate(270)\"><polygon points=\"-7 -13.5 0 -19.5 7 -13.5\"></polygon><rect height=\"4\" width=\"4\" x=\"-2\" y=\"-13.5\"></rect></g><text class=\"wind-icon-val\" data-precise=\"5\" fill=\"rgb(255, 255, 255)\" text-anchor=\"middle\" x=\"0\" y=\"5\">5</text></svg></div></td><td><div class=\"b-forecast__table-wind-container\"><svg class=\"svg-icon wind-icon\" fill=\"rgb(0, 0, 0)\" height=\"38\" viewBox=\"-19 -19 38 38\" width=\"38\" xmlns=\"http://www.w3.org/2000/svg\"><circle cx=\"0\" cy=\"0\" r=\"10.5\"></circle><g transform=\"rotate(247)\"><polygon points=\"-7 -13.5 0 -19.5 7 -13.5\"></polygon><rect height=\"4\" width=\"4\" x=\"-2\" y=\"-13.5\"></rect></g><text class=\"wind-icon-val\" data-precise=\"15\" fill=\"rgb(255, 255, 255)\" text-anchor=\"middle\" x=\"0\" y=\"5\">15</text></svg></div></td><td><div class=\"b-forecast__table-wind-container\"><svg class=\"svg-icon wind-icon\" fill=\"rgb(0, 0, 0)\" height=\"38\" viewBox=\"-19 -19 38 38\" width=\"38\" xmlns=\"http://www.w3.org/2000/svg\"><circle cx=\"0\" cy=\"0\" r=\"10.5\"></circle><g transform=\"rotate(247)\"><polygon points=\"-7 -13.5 0 -19.5 7 -13.5\"></polygon><rect height=\"4\" width=\"4\" x=\"-2\" y=\"-13.5\"></rect></g><text class=\"wind-icon-val\" data-precise=\"10\" fill=\"rgb(255, 255, 255)\" text-anchor=\"middle\" x=\"0\" y=\"5\">10</text></svg></div></td><td class=\"b-forecast__table-day-end\"><div class=\"b-forecast__table-wind-container\"><svg class=\"svg-icon wind-icon\" fill=\"rgb(0, 0, 0)\" height=\"38\" viewBox=\"-19 -19 38 38\" width=\"38\" xmlns=\"http://www.w3.org/2000/svg\"><circle cx=\"0\" cy=\"0\" r=\"10.5\"></circle><g transform=\"rotate(292)\"><polygon points=\"-7 -13.5 0 -19.5 7 -13.5\"></polygon><rect height=\"4\" width=\"4\" x=\"-2\" y=\"-13.5\"></rect></g><text class=\"wind-icon-val\" data-precise=\"5\" fill=\"rgb(255, 255, 255)\" text-anchor=\"middle\" x=\"0\" y=\"5\">5</text></svg></div></td><td class=\"b-forecast__table-day-end\"><div class=\"b-forecast__table-wind-container\"><svg class=\"svg-icon wind-icon\" fill=\"rgb(0, 0, 0)\" height=\"38\" viewBox=\"-19 -19 38 38\" width=\"38\" xmlns=\"http://www.w3.org/2000/svg\"><circle cx=\"0\" cy=\"0\" r=\"10.5\"></circle><g transform=\"rotate(247)\"><polygon points=\"-7 -13.5 0 -19.5 7 -13.5\"></polygon><rect height=\"4\" width=\"4\" x=\"-2\" y=\"-13.5\"></rect></g><text class=\"wind-icon-val\" data-precise=\"15\" fill=\"rgb(255, 255, 255)\" text-anchor=\"middle\" x=\"0\" y=\"5\">15</text></svg></div></td></tr><tr class=\"b-forecast__table-summary\"><th class=\"b-forecast__table-header\"><div class=\"b-forecast__table-header-wrapper\"></div></th><td><div class=\"b-forecast__text-limit\">clear</div></td><td class=\"b-forecast__table-day-end\"><div class=\"b-forecast__text-limit\">clear</div></td><td><div class=\"b-forecast__text-limit\">clear</div></td><td><div class=\"b-forecast__text-limit\">clear</div></td><td class=\"b-forecast__table-day-end\"><div class=\"b-forecast__text-limit\">clear</div></td><td><div class=\"b-forecast__text-limit\">clear</div></td><td><div class=\"b-forecast__text-limit\">clear</div></td><td class=\"b-forecast__table-day-end\"><div class=\"b-forecast__text-limit\">clear</div></td><td><div class=\"b-forecast__text-limit\">clear</div></td><td><div class=\"b-forecast__text-limit\">clear</div></td><td class=\"b-forecast__table-day-end\"><div class=\"b-forecast__text-limit\">clear</div></td><td><div class=\"b-forecast__text-limit\">clear</div></td><td><div class=\"b-forecast__text-limit\">clear</div></td><td class=\"b-forecast__table-day-end\"><div class=\"b-forecast__text-limit\">clear</div></td><td><div class=\"b-forecast__text-limit\">clear</div></td><td><div class=\"b-forecast__text-limit\">clear</div></td><td class=\"b-forecast__table-day-end\"><div class=\"b-forecast__text-limit\">clear</div></td><td><div class=\"b-forecast__text-limit\">clear</div></td><td><div class=\"b-forecast__text-limit\">clear</div></td><td class=\"b-forecast__table-day-end\"><div class=\"b-forecast__text-limit\">clear</div></td><td><div class=\"b-forecast__text-limit\">clear</div></td><td><div class=\"b-forecast__text-limit\">clear</div></td><td class=\"b-forecast__table-day-end\"><div class=\"b-forecast__text-limit\">clear</div></td><td><div class=\"b-forecast__text-limit\">clear</div></td><td><div class=\"b-forecast__text-limit\">clear</div></td><td class=\"b-forecast__table-day-end\"><div class=\"b-forecast__text-limit\">clear</div></td><td class=\"b-forecast__table-day-end\"><div class=\"b-forecast__text-limit\">clear</div></td></tr><tr class=\"b-forecast__table-maps js-map-thumbs-row not_in_print\"><th class=\"b-forecast__table-header\" style=\"height: 9.1em\"><div class=\"b-forecast__table-header-wrapper\"><a href=\"/topographic-maps/assam\">See all maps</a></div></th><td class=\"b-forecast__table-day-end\" colspan=\"2\"><div class=\"b-forecast__table-maps-background\" style=\"background-image: url(https://assets.weather-forecast.com/maps/static/t_India.wind.12.cc23.jpg);\"></div><div class=\"b-forecast__table-maps-small-container\" onclick=\"top.location.href=&#39;/topographic-maps/assam?hr=12&#39;\" style=\"background-image: url(https://assets.weather-forecast.com/maps/static/t_India.wind.12.cc23.jpg); height: 9em;\"></div></td><td class=\"b-forecast__table-day-end b-forecast__table-day-odd\" colspan=\"3\"><div class=\"b-forecast__table-maps-background\" style=\"background-image: url(https://assets.weather-forecast.com/maps/static/t_India.wind.12.cc23.jpg);\"></div><div class=\"b-forecast__table-maps-container b-forecast__table-maps-container--full\" onclick=\"top.location.href=&#39;/topographic-maps/assam?hr=12&#39;\" style=\"background-image: url(https://assets.weather-forecast.com/maps/static/t_India.wind.12.cc23.jpg); height: 9em;\"></div></td><td class=\"b-forecast__table-day-end\" colspan=\"3\"><div class=\"b-forecast__table-maps-background\" style=\"background-image: url(https://assets.weather-forecast.com/maps/static/t_India.wind.36.cc23.jpg);\"></div><div class=\"b-forecast__table-maps-container b-forecast__table-maps-container--full\" onclick=\"top.location.href=&#39;/topographic-maps/assam?hr=36&#39;\" style=\"background-image: url(https://assets.weather-forecast.com/maps/static/t_India.wind.36.cc23.jpg); height: 9em;\"></div></td><td class=\"b-forecast__table-day-end b-forecast__table-day-odd\" colspan=\"3\"><div class=\"b-forecast__table-maps-background\" style=\"background-image: url(https://assets.weather-forecast.com/maps/static/t_India.wind.60.cc23.jpg);\"></div><div class=\"b-forecast__table-maps-container b-forecast__table-maps-container--full\" onclick=\"top.location.href=&#39;/topographic-maps/assam?hr=60&#39;\" style=\"background-image: url(https://assets.weather-forecast.com/maps/static/t_India.wind.60.cc23.jpg); height: 9em;\"></div></td><td class=\"b-forecast__table-day-end\" colspan=\"3\"><div class=\"b-forecast__table-maps-background\" style=\"background-image: url(https://assets.weather-forecast.com/maps/static/t_India.wind.84.cc23.jpg);\"></div><div class=\"b-forecast__table-maps-container b-forecast__table-maps-container--full\" onclick=\"top.location.href=&#39;/topographic-maps/assam?hr=84&#39;\" style=\"background-image: url(https://assets.weather-forecast.com/maps/static/t_India.wind.84.cc23.jpg); height: 9em;\"></div></td><td class=\"b-forecast__table-day-end b-forecast__table-day-odd\" colspan=\"3\"><div class=\"b-forecast__table-maps-background\" style=\"background-image: url(https://assets.weather-forecast.com/maps/static/t_India.wind.108.cc23.jpg);\"></div><div class=\"b-forecast__table-maps-container b-forecast__table-maps-container--full\" onclick=\"top.location.href=&#39;/topographic-maps/assam?hr=108&#39;\" style=\"background-image: url(https://assets.weather-forecast.com/maps/static/t_India.wind.108.cc23.jpg); height: 9em;\"></div></td><td class=\"b-forecast__table-day-end\" colspan=\"3\"><div class=\"b-forecast__table-maps-background\" style=\"background-image: url(https://assets.weather-forecast.com/maps/static/t_India.wind.132.cc23.jpg);\"></div><div class=\"b-forecast__table-maps-container b-forecast__table-maps-container--full\" onclick=\"top.location.href=&#39;/topographic-maps/assam?hr=132&#39;\" style=\"background-image: url(https://assets.weather-forecast.com/maps/static/t_India.wind.132.cc23.jpg); height: 9em;\"></div></td><td class=\"b-forecast__table-day-end b-forecast__table-day-odd\" colspan=\"3\"><div class=\"b-forecast__table-maps-background\" style=\"background-image: url(https://assets.weather-forecast.com/maps/static/t_India.wind.156.cc23.jpg);\"></div><div class=\"b-forecast__table-maps-container\" onclick=\"top.location.href=&#39;/topographic-maps/assam?hr=156&#39;\" style=\"background-image: url(https://assets.weather-forecast.com/maps/static/t_India.wind.156.cc23.jpg); height: 9em;\"></div></td><td class=\"b-forecast__table-day-end\" colspan=\"3\"><div class=\"b-forecast__table-maps-background\" style=\"background-image: url(https://assets.weather-forecast.com/maps/static/t_India.wind.180.cc23.jpg);\"></div><div class=\"b-forecast__table-maps-container\" onclick=\"top.location.href=&#39;/topographic-maps/assam?hr=180&#39;\" style=\"background-image: url(https://assets.weather-forecast.com/maps/static/t_India.wind.180.cc23.jpg); height: 9em;\"></div></td><td class=\"b-forecast__table-day-end b-forecast__table-day-odd\" colspan=\"1\"><div class=\"b-forecast__table-maps-background\" style=\"background-image: url(https://assets.weather-forecast.com/maps/static/t_India.wind.204.cc23.jpg);\"></div><div class=\"b-forecast__table-maps-container b-forecast__table-maps-container--last\" onclick=\"top.location.href=&#39;/topographic-maps/assam?hr=204&#39;\" style=\"background-image: url(https://assets.weather-forecast.com/maps/static/t_India.wind.204.cc23.jpg); height: 9em;\"></div></td></tr><tr class=\"b-forecast__table-rain\"><th class=\"b-forecast__table-header\"><div class=\"b-forecast__table-header-wrapper\"><div class=\"b-forecast__table-header-container b-forecast__table-float\"><div class=\"b-forecast__table-header-icon\"><i class=\"icon-rain\"></i></div><div class=\"b-forecast__table-header-value\"><span class=\"b-forecast__hide-for-small\">Rain </span><span class=\"rainu b-forecast__table-header-units\">mm</span></div></div></div></th><td><span class=\"rain b-forecast__table-value\">-</span></td><td class=\"b-forecast__table-day-end\"><span class=\"rain b-forecast__table-value\">-</span></td><td><span class=\"rain b-forecast__table-value\">-</span></td><td><span class=\"rain b-forecast__table-value\">-</span></td><td class=\"b-forecast__table-day-end\"><span class=\"rain b-forecast__table-value\">-</span></td><td><span class=\"rain b-forecast__table-value\">-</span></td><td><span class=\"rain b-forecast__table-value\">-</span></td><td class=\"b-forecast__table-day-end\"><span class=\"rain b-forecast__table-value\">-</span></td><td><span class=\"rain b-forecast__table-value\">-</span></td><td><span class=\"rain b-forecast__table-value\">-</span></td><td class=\"b-forecast__table-day-end\"><span class=\"rain b-forecast__table-value\">-</span></td><td><span class=\"rain b-forecast__table-value\">-</span></td><td><span class=\"rain b-forecast__table-value\">-</span></td><td class=\"b-forecast__table-day-end\"><span class=\"rain b-forecast__table-value\">-</span></td><td><span class=\"rain b-forecast__table-value\">-</span></td><td><span class=\"rain b-forecast__table-value\">-</span></td><td class=\"b-forecast__table-day-end\"><span class=\"rain b-forecast__table-value\">-</span></td><td><span class=\"rain b-forecast__table-value\">-</span></td><td><span class=\"rain b-forecast__table-value\">-</span></td><td class=\"b-forecast__table-day-end\"><span class=\"rain b-forecast__table-value\">-</span></td><td><span class=\"rain b-forecast__table-value\">-</span></td><td><span class=\"rain b-forecast__table-value\">-</span></td><td class=\"b-forecast__table-day-end\"><span class=\"rain b-forecast__table-value\">-</span></td><td><span class=\"rain b-forecast__table-value\">-</span></td><td><span class=\"rain b-forecast__table-value\">-</span></td><td class=\"b-forecast__table-day-end\"><span class=\"rain b-forecast__table-value\">-</span></td><td class=\"b-forecast__table-day-end\"><span class=\"rain b-forecast__table-value\">-</span></td></tr><tr class=\"b-forecast__table-snow\"><th class=\"b-forecast__table-header\"><div class=\"b-forecast__table-header-wrapper\"><div class=\"b-forecast__table-header-container b-forecast__table-float\"><div class=\"b-forecast__table-header-icon\"><i class=\"icon-snow\"></i></div><div class=\"b-forecast__table-header-value\"><span class=\"b-forecast__hide-for-small\">Snow </span><span class=\"snowu b-forecast__table-header-units\">cm</span></div></div></div></th><td><span class=\"snow b-forecast__table-value\">-</span></td><td class=\"b-forecast__table-day-end\"><span class=\"snow b-forecast__table-value\">-</span></td><td><span class=\"snow b-forecast__table-value\">-</span></td><td><span class=\"snow b-forecast__table-value\">-</span></td><td class=\"b-forecast__table-day-end\"><span class=\"snow b-forecast__table-value\">-</span></td><td><span class=\"snow b-forecast__table-value\">-</span></td><td><span class=\"snow b-forecast__table-value\">-</span></td><td class=\"b-forecast__table-day-end\"><span class=\"snow b-forecast__table-value\">-</span></td><td><span class=\"snow b-forecast__table-value\">-</span></td><td><span class=\"snow b-forecast__table-value\">-</span></td><td class=\"b-forecast__table-day-end\"><span class=\"snow b-forecast__table-value\">-</span></td><td><span class=\"snow b-forecast__table-value\">-</span></td><td><span class=\"snow b-forecast__table-value\">-</span></td><td class=\"b-forecast__table-day-end\"><span class=\"snow b-forecast__table-value\">-</span></td><td><span class=\"snow b-forecast__table-value\">-</span></td><td><span class=\"snow b-forecast__table-value\">-</span></td><td class=\"b-forecast__table-day-end\"><span class=\"snow b-forecast__table-value\">-</span></td><td><span class=\"snow b-forecast__table-value\">-</span></td><td><span class=\"snow b-forecast__table-value\">-</span></td><td class=\"b-forecast__table-day-end\"><span class=\"snow b-forecast__table-value\">-</span></td><td><span class=\"snow b-forecast__table-value\">-</span></td><td><span class=\"snow b-forecast__table-value\">-</span></td><td class=\"b-forecast__table-day-end\"><span class=\"snow b-forecast__table-value\">-</span></td><td><span class=\"snow b-forecast__table-value\">-</span></td><td><span class=\"snow b-forecast__table-value\">-</span></td><td class=\"b-forecast__table-day-end\"><span class=\"snow b-forecast__table-value\">-</span></td><td class=\"b-forecast__table-day-end\"><span class=\"snow b-forecast__table-value\">-</span></td></tr><tr class=\"b-forecast__table-max-temperature\"><th class=\"b-forecast__table-header\"><div class=\"b-forecast__table-header-wrapper\"><div class=\"b-forecast__table-header-container b-forecast__table-float\"><div class=\"b-forecast__table-header-icon\"><i class=\"icon-temp\"></i></div><div class=\"b-forecast__table-header-value\">High</div></div></div></th><td class=\"temp-color3\"><span class=\"temp b-forecast__table-value\">23</span></td><td class=\"temp-color4 b-forecast__table-day-end\"><span class=\"temp b-forecast__table-value\">16</span></td><td class=\"temp-color3\"><span class=\"temp b-forecast__table-value\">22</span></td><td class=\"temp-color3\"><span class=\"temp b-forecast__table-value\">23</span></td><td class=\"temp-color4 b-forecast__table-day-end\"><span class=\"temp b-forecast__table-value\">15</span></td><td class=\"temp-color3\"><span class=\"temp b-forecast__table-value\">22</span></td><td class=\"temp-color3\"><span class=\"temp b-forecast__table-value\">23</span></td><td class=\"temp-color4 b-forecast__table-day-end\"><span class=\"temp b-forecast__table-value\">16</span></td><td class=\"temp-color3\"><span class=\"temp b-forecast__table-value\">22</span></td><td class=\"temp-color3\"><span class=\"temp b-forecast__table-value\">24</span></td><td class=\"temp-color4 b-forecast__table-day-end\"><span class=\"temp b-forecast__table-value\">16</span></td><td class=\"temp-color3\"><span class=\"temp b-forecast__table-value\">22</span></td><td class=\"temp-color3\"><span class=\"temp b-forecast__table-value\">23</span></td><td class=\"temp-color4 b-forecast__table-day-end\"><span class=\"temp b-forecast__table-value\">16</span></td><td class=\"temp-color3\"><span class=\"temp b-forecast__table-value\">22</span></td><td class=\"temp-color3\"><span class=\"temp b-forecast__table-value\">23</span></td><td class=\"temp-color4 b-forecast__table-day-end\"><span class=\"temp b-forecast__table-value\">15</span></td><td class=\"temp-color3\"><span class=\"temp b-forecast__table-value\">22</span></td><td class=\"temp-color3\"><span class=\"temp b-forecast__table-value\">23</span></td><td class=\"temp-color4 b-forecast__table-day-end\"><span class=\"temp b-forecast__table-value\">15</span></td><td class=\"temp-color3\"><span class=\"temp b-forecast__table-value\">22</span></td><td class=\"temp-color3\"><span class=\"temp b-forecast__table-value\">24</span></td><td class=\"temp-color4 b-forecast__table-day-end\"><span class=\"temp b-forecast__table-value\">16</span></td><td class=\"temp-color3\"><span class=\"temp b-forecast__table-value\">23</span></td><td class=\"temp-color3\"><span class=\"temp b-forecast__table-value\">24</span></td><td class=\"temp-color4 b-forecast__table-day-end\"><span class=\"temp b-forecast__table-value\">16</span></td><td class=\"temp-color3 b-forecast__table-day-end\"><span class=\"temp b-forecast__table-value\">23</span></td></tr><tr class=\"b-forecast__table-min-temperature\"><th class=\"b-forecast__table-header\"><div class=\"b-forecast__table-header-wrapper\"><div class=\"b-forecast__table-header-container b-forecast__table-float\"><div class=\"b-forecast__table-header-icon\"><i class=\"icon-temp\"></i></div><div class=\"b-forecast__table-header-value\">Low</div></div></div></th><td class=\"temp-color4\"><span class=\"temp b-forecast__table-value\">18</span></td><td class=\"temp-color5 b-forecast__table-day-end\"><span class=\"temp b-forecast__table-value\">13</span></td><td class=\"temp-color4\"><span class=\"temp b-forecast__table-value\">17</span></td><td class=\"temp-color4\"><span class=\"temp b-forecast__table-value\">18</span></td><td class=\"temp-color5 b-forecast__table-day-end\"><span class=\"temp b-forecast__table-value\">12</span></td><td class=\"temp-color4\"><span class=\"temp b-forecast__table-value\">17</span></td><td class=\"temp-color4\"><span class=\"temp b-forecast__table-value\">18</span></td><td class=\"temp-color5 b-forecast__table-day-end\"><span class=\"temp b-forecast__table-value\">12</span></td><td class=\"temp-color4\"><span class=\"temp b-forecast__table-value\">17</span></td><td class=\"temp-color4\"><span class=\"temp b-forecast__table-value\">18</span></td><td class=\"temp-color5 b-forecast__table-day-end\"><span class=\"temp b-forecast__table-value\">12</span></td><td class=\"temp-color4\"><span class=\"temp b-forecast__table-value\">17</span></td><td class=\"temp-color4\"><span class=\"temp b-forecast__table-value\">18</span></td><td class=\"temp-color5 b-forecast__table-day-end\"><span class=\"temp b-forecast__table-value\">12</span></td><td class=\"temp-color4\"><span class=\"temp b-forecast__table-value\">17</span></td><td class=\"temp-color4\"><span class=\"temp b-forecast__table-value\">17</span></td><td class=\"temp-color5 b-forecast__table-day-end\"><span class=\"temp b-forecast__table-value\">12</span></td><td class=\"temp-color4\"><span class=\"temp b-forecast__table-value\">17</span></td><td class=\"temp-color4\"><span class=\"temp b-forecast__table-value\">18</span></td><td class=\"temp-color5 b-forecast__table-day-end\"><span class=\"temp b-forecast__table-value\">12</span></td><td class=\"temp-color4\"><span class=\"temp b-forecast__table-value\">17</span></td><td class=\"temp-color4\"><span class=\"temp b-forecast__table-value\">18</span></td><td class=\"temp-color5 b-forecast__table-day-end\"><span class=\"temp b-forecast__table-value\">12</span></td><td class=\"temp-color4\"><span class=\"temp b-forecast__table-value\">17</span></td><td class=\"temp-color4\"><span class=\"temp b-forecast__table-value\">18</span></td><td class=\"temp-color5 b-forecast__table-day-end\"><span class=\"temp b-forecast__table-value\">12</span></td><td class=\"temp-color4 b-forecast__table-day-end\"><span class=\"temp b-forecast__table-value\">17</span></td></tr><tr class=\"b-forecast__table-chill\"><th class=\"b-forecast__table-header\"><div class=\"b-forecast__table-header-wrapper\"><div class=\"b-forecast__table-header-container b-forecast__table-float\"><div class=\"b-forecast__table-header-value\">Chill&deg;<span class=\"tempu\">C</span></div></div></div></th><td><span class=\"temp b-forecast__table-value\">18</span></td><td class=\"b-forecast__table-day-end\"><span class=\"temp b-forecast__table-value\">12</span></td><td><span class=\"temp b-forecast__table-value\">17</span></td><td><span class=\"temp b-forecast__table-value\">17</span></td><td class=\"b-forecast__table-day-end\"><span class=\"temp b-forecast__table-value\">11</span></td><td><span class=\"temp b-forecast__table-value\">16</span></td><td><span class=\"temp b-forecast__table-value\">17</span></td><td class=\"b-forecast__table-day-end\"><span class=\"temp b-forecast__table-value\">11</span></td><td><span class=\"temp b-forecast__table-value\">17</span></td><td><span class=\"temp b-forecast__table-value\">18</span></td><td class=\"b-forecast__table-day-end\"><span class=\"temp b-forecast__table-value\">12</span></td><td><span class=\"temp b-forecast__table-value\">17</span></td><td><span class=\"temp b-forecast__table-value\">18</span></td><td class=\"b-forecast__table-day-end\"><span class=\"temp b-forecast__table-value\">12</span></td><td><span class=\"temp b-forecast__table-value\">17</span></td><td><span class=\"temp b-forecast__table-value\">17</span></td><td class=\"b-forecast__table-day-end\"><span class=\"temp b-forecast__table-value\">11</span></td><td><span class=\"temp b-forecast__table-value\">17</span></td><td><span class=\"temp b-forecast__table-value\">18</span></td><td class=\"b-forecast__table-day-end\"><span class=\"temp b-forecast__table-value\">11</span></td><td><span class=\"temp b-forecast__table-value\">16</span></td><td><span class=\"temp b-forecast__table-value\">18</span></td><td class=\"b-forecast__table-day-end\"><span class=\"temp b-forecast__table-value\">12</span></td><td><span class=\"temp b-forecast__table-value\">17</span></td><td><span class=\"temp b-forecast__table-value\">18</span></td><td class=\"b-forecast__table-day-end\"><span class=\"temp b-forecast__table-value\">12</span></td><td class=\"b-forecast__table-day-end\"><span class=\"temp b-forecast__table-value\">17</span></td></tr><tr class=\"b-forecast__table-humidity\"><th class=\"b-forecast__table-header\"><div class=\"b-forecast__table-header-wrapper\"><div class=\"b-forecast__table-header-value b-forecast__table-float b-forecast__hide-medium-up\">Hum. </div><div class=\"b-forecast__table-header-value b-forecast__table-float b-forecast__hide-for-small\">Humidity <span class=\"b-forecast__table-header-units\">%</span></div></div></th><td><span class=\"b-forecast__table-value\">54</span></td><td class=\"b-forecast__table-day-end\"><span class=\"b-forecast__table-value\">77</span></td><td><span class=\"b-forecast__table-value\">44</span></td><td><span class=\"b-forecast__table-value\">50</span></td><td class=\"b-forecast__table-day-end\"><span class=\"b-forecast__table-value\">67</span></td><td><span class=\"b-forecast__table-value\">39</span></td><td><span class=\"b-forecast__table-value\">44</span></td><td class=\"b-forecast__table-day-end\"><span class=\"b-forecast__table-value\">62</span></td><td><span class=\"b-forecast__table-value\">35</span></td><td><span class=\"b-forecast__table-value\">42</span></td><td class=\"b-forecast__table-day-end\"><span class=\"b-forecast__table-value\">60</span></td><td><span class=\"b-forecast__table-value\">35</span></td><td><span class=\"b-forecast__table-value\">37</span></td><td class=\"b-forecast__table-day-end\"><span class=\"b-forecast__table-value\">55</span></td><td><span class=\"b-forecast__table-value\">32</span></td><td><span class=\"b-forecast__table-value\">32</span></td><td class=\"b-forecast__table-day-end\"><span class=\"b-forecast__table-value\">50</span></td><td><span class=\"b-forecast__table-value\">33</span></td><td><span class=\"b-forecast__table-value\">41</span></td><td class=\"b-forecast__table-day-end\"><span class=\"b-forecast__table-value\">54</span></td><td><span class=\"b-forecast__table-value\">32</span></td><td><span class=\"b-forecast__table-value\">38</span></td><td class=\"b-forecast__table-day-end\"><span class=\"b-forecast__table-value\">54</span></td><td><span class=\"b-forecast__table-value\">30</span></td><td><span class=\"b-forecast__table-value\">35</span></td><td class=\"b-forecast__table-day-end\"><span class=\"b-forecast__table-value\">52</span></td><td class=\"b-forecast__table-day-end\"><span class=\"b-forecast__table-value\">30</span></td></tr><tr class=\"b-forecast__table-sunrise\"><th class=\"b-forecast__table-header\"><div class=\"b-forecast__table-header-wrapper\"><div class=\"b-forecast__table-header-image\"><img alt=\"Sunrise\" height=\"26\" src=\"https://www.weather-forecast.com/assets/forecast/sunrise-013b2703a2c02c47d0dd7f33156f9200.svg\" width=\"26\" /></div></div></th><td><span class=\"b-forecast__table-value\">-</span></td><td class=\"b-forecast__table-day-end\"><span class=\"b-forecast__table-value\">-</span></td><td><span class=\"b-forecast__table-value\">6:11</span></td><td><span class=\"b-forecast__table-value\">-</span></td><td class=\"b-forecast__table-day-end\"><span class=\"b-forecast__table-value\">-</span></td><td><span class=\"b-forecast__table-value\">6:11</span></td><td><span class=\"b-forecast__table-value\">-</span></td><td class=\"b-forecast__table-day-end\"><span class=\"b-forecast__table-value\">-</span></td><td><span class=\"b-forecast__table-value\">6:11</span></td><td><span class=\"b-forecast__table-value\">-</span></td><td class=\"b-forecast__table-day-end\"><span class=\"b-forecast__table-value\">-</span></td><td><span class=\"b-forecast__table-value\">6:11</span></td><td><span class=\"b-forecast__table-value\">-</span></td><td class=\"b-forecast__table-day-end\"><span class=\"b-forecast__table-value\">-</span></td><td><span class=\"b-forecast__table-value\">6:11</span></td><td><span class=\"b-forecast__table-value\">-</span></td><td class=\"b-forecast__table-day-end\"><span class=\"b-forecast__table-value\">-</span></td><td><span class=\"b-forecast__table-value\">6:11</span></td><td><span class=\"b-forecast__table-value\">-</span></td><td class=\"b-forecast__table-day-end\"><span class=\"b-forecast__table-value\">-</span></td><td><span class=\"b-forecast__table-value\">6:11</span></td><td><span class=\"b-forecast__table-value\">-</span></td><td class=\"b-forecast__table-day-end\"><span class=\"b-forecast__table-value\">-</span></td><td><span class=\"b-forecast__table-value\">6:11</span></td><td><span class=\"b-forecast__table-value\">-</span></td><td class=\"b-forecast__table-day-end\"><span class=\"b-forecast__table-value\">-</span></td><td class=\"b-forecast__table-day-end\"><span class=\"b-forecast__table-value\">6:11</span></td></tr><tr class=\"b-forecast__table-sunset\"><th class=\"b-forecast__table-header\"><div class=\"b-forecast__table-header-wrapper\"><div class=\"b-forecast__table-header-image\"><img alt=\"Sunset\" height=\"26\" src=\"https://www.weather-forecast.com/assets/forecast/sunset-6ed3df2a6b1538dd07920fccf58a3915.svg\" width=\"26\" /></div></div></th><td><span class=\"b-forecast__table-value\">4:47</span></td><td class=\"b-forecast__table-day-end\"><span class=\"b-forecast__table-value\">-</span></td><td><span class=\"b-forecast__table-value\">-</span></td><td><span class=\"b-forecast__table-value\">4:49</span></td><td class=\"b-forecast__table-day-end\"><span class=\"b-forecast__table-value\">-</span></td><td><span class=\"b-forecast__table-value\">-</span></td><td><span class=\"b-forecast__table-value\">4:50</span></td><td class=\"b-forecast__table-day-end\"><span class=\"b-forecast__table-value\">-</span></td><td><span class=\"b-forecast__table-value\">-</span></td><td><span class=\"b-forecast__table-value\">4:51</span></td><td class=\"b-forecast__table-day-end\"><span class=\"b-forecast__table-value\">-</span></td><td><span class=\"b-forecast__table-value\">-</span></td><td><span class=\"b-forecast__table-value\">4:51</span></td><td class=\"b-forecast__table-day-end\"><span class=\"b-forecast__table-value\">-</span></td><td><span class=\"b-forecast__table-value\">-</span></td><td><span class=\"b-forecast__table-value\">4:52</span></td><td class=\"b-forecast__table-day-end\"><span class=\"b-forecast__table-value\">-</span></td><td><span class=\"b-forecast__table-value\">-</span></td><td><span class=\"b-forecast__table-value\">4:52</span></td><td class=\"b-forecast__table-day-end\"><span class=\"b-forecast__table-value\">-</span></td><td><span class=\"b-forecast__table-value\">-</span></td><td><span class=\"b-forecast__table-value\">4:53</span></td><td class=\"b-forecast__table-day-end\"><span class=\"b-forecast__table-value\">-</span></td><td><span class=\"b-forecast__table-value\">-</span></td><td><span class=\"b-forecast__table-value\">4:53</span></td><td class=\"b-forecast__table-day-end\"><span class=\"b-forecast__table-value\">-</span></td><td class=\"b-forecast__table-day-end\"><span class=\"b-forecast__table-value\">-</span></td></tr></tbody></table></div></div></div></div></section><section class=\"row\"><div class=\"column\"><div class=\"hr\"></div></div></section><section class=\"row\"><div class=\"large-8 columns\"><section class=\"b-metar\"><div class=\"row\"><h2 class=\"b-metar__title columns\">Live weather stations near Guwahati</h2><div class=\"b-metar__subtitle columns\"><div class=\"show-for-large-up\">Guwahati Live Weather Today: Recent reports from weather stations near Guwahati</div></div><div class=\"b-metar__table-container columns\"><table class=\"b-metar-table\"><thead class=\"b-metar-table__header\"><tr class=\"b-metar-table__row\"><th>Weather Station</th><th>Temp.</th><th>Weather</th><th>Wind</th><th><div><div class=\"hide-for-large-up\">Cloud</div><div class=\"hide-for-large-up\">Visibility</div><div class=\"show-for-large-up\">Cloud&nbsp;/&nbsp;Visibility</div></div></th></tr></thead><tbody class=\"b-metar-table__body\"><tr class=\"b-metar-table__row\"><td class=\"b-metar-table__weather-station\"><div><strong class=\"b-metar-table__weather-station-name\"><a href=\"/weather-stations/Gauhati-Air-Force-Base\">Gauhati Air Force Base</a></strong> </div><div class=\"b-metar-table__weather-station-detail\"><span class=\"dist\">17</span> <span class=\"distu\">km</span> <span class=\"dir\">WSW</span></div><div class=\"b-metar-table__weather-station-elevation\"><span><span class=\"height\">54</span><span class=\"heightu\">m</span> alt.</span></div><div class=\"b-metar-table__weather-station-time\">2 hours ago</div></td><td class=\"b-metar-table__temperature\"><div class=\"b-metar-table__temperature-value temp-color3\"><span class=\"temp\">21</span>&deg;&thinsp;<span class=\"tempu\">C</span></div></td><td class=\"b-metar-table__weather\"><div class=\"b-metar-table__weather-container\"><div class=\"b-metar-table__weather-icon\"><div class=\"weather-wrapper\"><img alt=\"clear\" src=\"https://www.weather-forecast.com/assets/wxvicons/nightclear-f42cfe07c6a21f708100f3c4679a3b8e.svg\" /></div></div><span class=\"b-metar-table__weather-text\">Haze  dry and partly cloudy.</span></div></td><td class=\"b-metar-table__wind\"><div class=\"b-metar-table__wind-container\"><div class=\"b-metar-table__wind-icon\"><svg class=\"svg-icon wind-icon\" fill=\"rgb(0, 0, 0)\" height=\"38\" viewBox=\"-19 -19 38 38\" width=\"38\" xmlns=\"http://www.w3.org/2000/svg\"><circle cx=\"0\" cy=\"0\" r=\"10.5\"></circle><g transform=\"rotate(250)\"><polygon points=\"-7 -13.5 0 -19.5 7 -13.5\"></polygon><rect height=\"4\" width=\"4\" x=\"-2\" y=\"-13.5\"></rect></g><text class=\"wind-icon-val\" data-precise=\"7\" fill=\"rgb(255, 255, 255)\" text-anchor=\"middle\" x=\"0\" y=\"5\">7</text></svg></div><div class=\"b-metar-table__wind-text\"><div>Light winds from the ENE</div> <div class=\"b-metar-table__wind-detail\">(<span class=\"windp\" data-precise=\"7\">7</span> <span class=\"windu\">km/h</span> at 70&deg;).</div></div></div></td><td class=\"b-metar-table__additionally\"><div class=\"b-metar-table__additionally-container\"><div class=\"vis\"><span class=\"phrase\">2 km</span></div><div class=\"mid\">Mid: scattered</div><div class=\"high\">High: broken</div></div></td></tr><tr class=\"b-metar-table__row\"><td class=\"b-metar-table__weather-station\"><div><strong class=\"b-metar-table__weather-station-name\">Rangia</strong> </div><div class=\"b-metar-table__weather-station-detail\"><span class=\"dist\">36</span> <span class=\"distu\">km</span> <span class=\"dir\">NW</span></div><div class=\"b-metar-table__weather-station-elevation\"><span><span class=\"height\">58</span><span class=\"heightu\">m</span> alt.</span></div><div class=\"b-metar-table__weather-station-time\">2 hours ago</div></td><td class=\"b-metar-table__temperature\"><div class=\"b-metar-table__temperature-value temp-color3\"><span class=\"temp\">22.0</span>&deg;&thinsp;<span class=\"tempu\">C</span></div></td><td class=\"b-metar-table__weather\"><div class=\"b-metar-table__weather-container\"><div class=\"b-metar-table__weather-icon\"></div><span class=\"b-metar-table__weather-text\">-</span></div></td><td class=\"b-metar-table__wind\"><div class=\"b-metar-table__wind-container\"><div class=\"b-metar-table__wind-icon\"><svg class=\"svg-icon wind-icon\" fill=\"rgb(0, 0, 0)\" height=\"38\" viewBox=\"-19 -19 38 38\" width=\"38\" xmlns=\"http://www.w3.org/2000/svg\"><circle cx=\"0\" cy=\"0\" r=\"10.5\"></circle><g transform=\"rotate(450)\"><polygon points=\"-7 -13.5 0 -19.5 7 -13.5\"></polygon><rect height=\"4\" width=\"4\" x=\"-2\" y=\"-13.5\"></rect></g><text class=\"wind-icon-val\" data-precise=\"2\" fill=\"rgb(255, 255, 255)\" text-anchor=\"middle\" x=\"0\" y=\"5\">2</text></svg></div><div class=\"b-metar-table__wind-text\"><div>Calm</div> <div class=\"b-metar-table__wind-detail\">(<span class=\"windp\" data-precise=\"2\">2</span> <span class=\"windu\">km/h</span> at 270&deg;).</div></div></div></td><td class=\"b-metar-table__additionally\"><div class=\"b-metar-table__additionally-container\"><div class=\"vis\"><span class=\"phrase\">4 km</span></div><div class=\"mid\">Mid: clear</div></div></td></tr><tr class=\"b-metar-table__row\"><td class=\"b-metar-table__weather-station\"><div><strong class=\"b-metar-table__weather-station-name\">Shillong</strong> </div><div class=\"b-metar-table__weather-station-detail\"><span class=\"dist\">65</span> <span class=\"distu\">km</span> <span class=\"dir\">SSE</span></div><div class=\"b-metar-table__weather-station-elevation\"><span><span class=\"height\">1598</span><span class=\"heightu\">m</span> alt.</span></div><div class=\"b-metar-table__weather-station-time\">2 hours ago</div></td><td class=\"b-metar-table__temperature\"><div class=\"b-metar-table__temperature-value temp-color5\"><span class=\"temp\">10.4</span>&deg;&thinsp;<span class=\"tempu\">C</span></div></td><td class=\"b-metar-table__weather\"><div class=\"b-metar-table__weather-container\"><div class=\"b-metar-table__weather-icon\"></div><span class=\"b-metar-table__weather-text\">Mist</span></div></td><td class=\"b-metar-table__wind\"><div class=\"b-metar-table__wind-container\"><div class=\"b-metar-table__wind-icon\"><svg class=\"svg-icon wind-icon\" fill=\"rgb(0, 0, 0)\" height=\"38\" viewBox=\"-19 -19 38 38\" width=\"38\" xmlns=\"http://www.w3.org/2000/svg\"><circle cx=\"0\" cy=\"0\" r=\"10.5\"></circle><g transform=\"rotate(410)\"><polygon points=\"-7 -13.5 0 -19.5 7 -13.5\"></polygon><rect height=\"4\" width=\"4\" x=\"-2\" y=\"-13.5\"></rect></g><text class=\"wind-icon-val\" data-precise=\"4\" fill=\"rgb(255, 255, 255)\" text-anchor=\"middle\" x=\"0\" y=\"5\">4</text></svg></div><div class=\"b-metar-table__wind-text\"><div>Calm</div> <div class=\"b-metar-table__wind-detail\">(<span class=\"windp\" data-precise=\"4\">4</span> <span class=\"windu\">km/h</span> at 230&deg;).</div></div></div></td><td class=\"b-metar-table__additionally\"><div class=\"b-metar-table__additionally-container\"><div class=\"vis\"><span class=\"phrase\">2 km</span></div><div class=\"mid\">Mid: mostly cloudy</div></div></td></tr><tr class=\"b-metar-table__row\"><td class=\"b-metar-table__weather-station\"><div><strong class=\"b-metar-table__weather-station-name\">Chaparmukh</strong> </div><div class=\"b-metar-table__weather-station-detail\"><span class=\"dist\">76</span> <span class=\"distu\">km</span> <span class=\"dir\">E</span></div><div class=\"b-metar-table__weather-station-elevation\"><span><span class=\"height\">64</span><span class=\"heightu\">m</span> alt.</span></div><div class=\"b-metar-table__weather-station-time\">2 hours ago</div></td><td class=\"b-metar-table__temperature\"><div class=\"b-metar-table__temperature-value temp-color4\"><span class=\"temp\">16.0</span>&deg;&thinsp;<span class=\"tempu\">C</span></div></td><td class=\"b-metar-table__weather\"><div class=\"b-metar-table__weather-container\"><div class=\"b-metar-table__weather-icon\"></div><span class=\"b-metar-table__weather-text\">-</span></div></td><td class=\"b-metar-table__wind\"><div class=\"b-metar-table__wind-container\"><div class=\"b-metar-table__wind-icon\"><svg class=\"svg-icon wind-icon\" fill=\"rgb(0, 0, 0)\" height=\"38\" viewBox=\"-19 -19 38 38\" width=\"38\" xmlns=\"http://www.w3.org/2000/svg\"><circle cx=\"0\" cy=\"0\" r=\"10.5\"></circle><g transform=\"rotate(200)\"><polygon points=\"-7 -13.5 0 -19.5 7 -13.5\"></polygon><rect height=\"4\" width=\"4\" x=\"-2\" y=\"-13.5\"></rect></g><text class=\"wind-icon-val\" data-precise=\"4\" fill=\"rgb(255, 255, 255)\" text-anchor=\"middle\" x=\"0\" y=\"5\">4</text></svg></div><div class=\"b-metar-table__wind-text\"><div>Calm</div> <div class=\"b-metar-table__wind-detail\">(<span class=\"windp\" data-precise=\"4\">4</span> <span class=\"windu\">km/h</span> at 20&deg;).</div></div></div></td><td class=\"b-metar-table__additionally\"><div class=\"b-metar-table__additionally-container\"><div class=\"vis\"><span class=\"phrase\">2 km</span></div><div class=\"mid\">Mid: overcast</div></div></td></tr></tbody></table></div><div class=\"b-metar__note columns\"><p class=\"b-metar__note-text\">* NOTE: not all weather stations near Guwahati update at the same time and we only show reports from the nearest stations <span class=\"read-more-small\"><span class=\"read-more-content\">that are deemed current. Weather reports submitted by any ship (SYNOP) that is close to Guwahati within an acceptable time window are also included.</span></span></p></div></div></section></div><div class=\"small-12 large-4 columns hide-for-small-only map-cont-on-combined\"><h3>Assam Weather Map</h3><!--[if lte IE 8]>\\n  <style type=\"text/css\">\\n    .half-map-cont .wxicon {\\n      background-image: url(https://www.weather-forecast.com/assets/smallweathericons/sprite-067-7ff690be9aeac51a1972c7c7ad1d4d0d.png);\\n    }\\n  </style>\\n<![endif]-->\\n\\n<h2 class=\"list-side__header\">Assam Weather Map</h2>\\n<div class=\"basic\"><div id=\"scrollBox\"><div class=\"rtn\" id=\"mapcontainer\"><div class=\"zoom-control\"><a class=\"plus inactive zoom\" href=\"\">+</a><a class=\"minus zoom\" href=\"/maps/India\">-</a></div><div class=\"play-control\"><div class=\"frame-back inactive\" href=\"\"><div class=\"bar\"></div><div class=\"triangle triangle-left\"></div></div><div class=\"frame-forward\" href=\"\"><div class=\"triangle triangle-right\"></div><div class=\"bar\"></div></div><div style=\"clear: both;\"></div></div><img alt=\"\" id=\"mapimg\" name=\"mapimg\" src=\"/images/blank.gif\" /><table border=\"0\" cellpadding=\"0\" cellspacing=\"0\" class=\"not_in_print\" id=\"loaderContainer\" onclick=\"return false;\"><tr><td align=\"center\" valign=\"middle\"><table border=\"0\" cellspacing=\"2\" id=\"progressTable\" width=\"446\"><tr><td colspan=\"28\" style=\"font-size:16px;font-weight:bold;\">Preloading...</td></tr><tr><td class=\"progressBlank\"></td><td class=\"progressBlank\"></td><td class=\"progressBlank\"></td><td class=\"progressBlank\"></td><td class=\"progressBlank\"></td><td class=\"progressBlank\"></td><td class=\"progressBlank\"></td><td class=\"progressBlank\"></td><td class=\"progressBlank\"></td><td class=\"progressBlank\"></td><td class=\"progressBlank\"></td><td class=\"progressBlank\"></td><td class=\"progressBlank\"></td><td class=\"progressBlank\"></td><td class=\"progressBlank\"></td><td class=\"progressBlank\"></td><td class=\"progressBlank\"></td><td class=\"progressBlank\"></td><td class=\"progressBlank\"></td><td class=\"progressBlank\"></td><td class=\"progressBlank\"></td><td class=\"progressBlank\"></td><td class=\"progressBlank\"></td><td class=\"progressBlank\"></td><td class=\"progressBlank\"></td><td class=\"progressBlank\"></td><td class=\"progressBlank\"></td><td class=\"progressBlank\"></td><td class=\"progressBlank\"></td><td class=\"progressBlank\"></td><td class=\"progressBlank\"></td><td class=\"progressBlank\"></td><td class=\"progressBlank\"></td><td class=\"progressBlank\"></td><td class=\"progressBlank\"></td><td class=\"progressBlank\"></td><td class=\"progressBlank\"></td><td class=\"progressBlank\"></td><td class=\"progressBlank\"></td><td class=\"progressBlank\"></td></tr></table><table border=\"0\" cellspacing=\"2\" id=\"loaderTable\" width=\"446\"><tr><td align=\"center\" style=\"font-size:16px;font-weight:bold;\">Loading...</td></tr></table></td></tr></table><div style=\"position: absolute; left:0px; top:0px;\"><img alt=\"\" border=\"0\" galleryimg=\"no\" src=\"/images/blank.gif\" style=\"position: absolute; left:0px; top:0px; z-index:1;\" /></div><div class=\"img_over_cont\" style=\"position: absolute; left:0px; top:0px; right: 0; bottom: 0;\"><img alt=\"\" border=\"0\" galleryimg=\"no\" id=\"img_over\" name=\"img_over\" src=\"/images/blank.gif\" style=\"position: absolute; left:0px; top:0px; z-index:1; visibility:hidden;\" /></div><div id=\"crossU\"></div><div id=\"crossD\"></div><div id=\"crossL\"></div><div id=\"crossR\"></div></div></div><div class=\"symbols_name_div\"></div><div class=\"name_div\"></div></div>\\n</div></section><section class=\"row\"><div class=\"column\"><div class=\"hr\"></div></div></section><div class=\"centered-b b-with-large-whitespace\">\\n<!-- /1013347/Venatus_WeatherForecast/UnitG -->\\n<div id=\\'div-gpt-ad-1541506951016-0\\'>\\n<script>\\ngoogletag.cmd.push(function() { googletag.display(\\'div-gpt-ad-1541506951016-0\\'); });\\n</script>\\n</div>\\n</div><section class=\"row\" id=\"location-map-on-combined\"><div class=\"large-4 columns\"><h3>Guwahati Location map</h3><div id=\"leaflet-map-cont\"></div></div><div class=\"large-8 columns photos-on-combined\"><h2>Guwahati Weather Photos</h2><div class=\"photos like-row\">\\n    View\\n      <a href=\"/regions/State-of-Assam/photos\">all photos from <b>Assam</b> (35)</a> |\\n      <a href=\"/countries/India/photos\">photos from <b>India</b> (1919)</a> |\\n  <a href=\"/photos\">Photo gallery home</a>\\n\\n\\n  <p><img class=\"pre-icon\" src=\"https://www.weather-forecast.com/assets/up-symbol-5113fcd5ae4c3c9edc008ae7dbbb80d3.png\" alt=\"Upload symbol\" width=\"16\" height=\"16\" border=\"0\"/>Upload a <a href=\"/locations/Guwahati/photos/new\"><b>Guwahati</b> Weather Image</a> | <a href=\"/photos/new\">Upload for another city</a></p>\\n\\n  <div class=\"gallery photos short\"><ul class=\"small-block-grid-2 medium-block-grid-3 large-block-grid-4\"><li class=\"img\"><a href=\"/locations/Guwahati/photos/2953\"><img alt=\"Sunset-I, Guwahati\" class=\"gallery\" src=\"https://www.weather-forecast.com/system/images/2953/thumb_gallery/Guwahati.jpg\" /></a><br /><div class=\"stars\"><div class=\"star_bar\"><div style=\"width: 92px;\"></div></div></div><p class=\"ph-name\">Sunset-I.</p></li><li class=\"img\"><a href=\"/locations/Guwahati/photos/2242\"><img alt=\"aguwai jao, Guwahati\" class=\"gallery\" src=\"https://www.weather-forecast.com/system/images/2242/thumb_gallery/Guwahati.jpg\" /></a><br /><div class=\"stars\"><div class=\"star_bar\"><div style=\"width: 87px;\"></div></div></div><p class=\"ph-name\">Aguwai jao.</p></li><li class=\"img\"><a href=\"/locations/Guwahati/photos/8948\"><img alt=\"Guwahati flood\" class=\"gallery\" src=\"https://www.weather-forecast.com/system/images/8948/thumb_gallery/Guwahati.jpg\" /></a><br /><div class=\"stars\"><div class=\"star_bar\"><div style=\"width: 86px;\"></div></div></div><p class=\"ph-name\">Guwahati flood.</p></li><li class=\"img\"><a href=\"/locations/Guwahati/photos/2238\"><img alt=\"opekhya, Guwahati\" class=\"gallery\" src=\"https://www.weather-forecast.com/system/images/2238/thumb_gallery/Guwahati.jpg\" /></a><br /><div class=\"stars\"><div class=\"star_bar\"><div style=\"width: 75px;\"></div></div></div><p class=\"ph-name\">Opekhya.</p></li><li class=\"img\"><a href=\"/locations/Guwahati/photos/12751\"><img alt=\"Bhangagarh&#x27;s plight, Guwahati\" class=\"gallery\" src=\"https://www.weather-forecast.com/system/images/12751/thumb_gallery/Guwahati.jpg\" /></a><br /><div class=\"stars\"><div class=\"star_bar\"><div style=\"width: 67px;\"></div></div></div><p class=\"ph-name\">Bhangagarh&#39;s plight.</p></li><li class=\"img\"><a href=\"/locations/Guwahati/photos/2239\"><img alt=\"rong., Guwahati\" class=\"gallery\" src=\"https://www.weather-forecast.com/system/images/2239/thumb_gallery/Guwahati.jpg\" /></a><br /><div class=\"stars\"><div class=\"star_bar\"><div style=\"width: 67px;\"></div></div></div><p class=\"ph-name\">Rong.</p></li><li class=\"img\"><a href=\"/locations/Guwahati/photos/2237\"><img alt=\"rong, Guwahati\" class=\"gallery\" src=\"https://www.weather-forecast.com/system/images/2237/thumb_gallery/Guwahati.jpg\" /></a><br /><div class=\"stars\"><div class=\"star_bar\"><div style=\"width: 66px;\"></div></div></div><p class=\"ph-name\">Rong.</p></li><li class=\"img\"><a href=\"/locations/Guwahati/photos/21360\"><img alt=\"Guwahati\" class=\"gallery\" src=\"https://www.weather-forecast.com/system/images/21360/thumb_gallery/07-07-16_Guwahati-_Flash_flood_at_Anil_Nagar.jpg\" /></a><br /><div class=\"stars\"><div class=\"star_bar\"><div style=\"width: 64px;\"></div></div></div></li></ul></div>\\n\\n    <a href=\"/locations/Guwahati/photos\">See more Guwahati weather photos</a>\\n</div>\\n</div></section><section class=\"row\"><div class=\"column\"><div class=\"hr\"></div></div></section><section class=\"row\"><div class=\"static-location-map small-12 large-4 columns\"><img alt=\"Guwahati Location Map\" class=\"static-location-map__main\" id=\"placeholder\" src=\"https://www.weather-forecast.com/locationmaps/Guwahati.10.gif\" /><div class=\"static-location-map__links\" id=\"locationmap_links\"><a href=\"https://www.weather-forecast.com/locationmaps/Guwahati.8.gif\" onclick=\"return showPic(this); return false;\"><img alt=\"Guwahati Regional Map\" src=\"https://www.weather-forecast.com/t_locationmaps/t_Dispur.8.gif\" /></a><a class=\"current\" href=\"https://www.weather-forecast.com/locationmaps/Guwahati.10.gif\" onclick=\"return showPic(this)\"><img alt=\"Guwahati Local Map\" src=\"https://www.weather-forecast.com/t_locationmaps/t_Dispur.10.gif\" /></a><a href=\"https://www.weather-forecast.com/locationmaps/Guwahati.12.gif\" onclick=\"return showPic(this)\"><img alt=\"Guwahati Street Map\" src=\"https://www.weather-forecast.com/t_locationmaps/t_Dispur.12.gif\" /></a></div></div><div class=\"small-12 large-8 columns\">\\n<table class=\"other_places guide\" cellspacing=\"0\">\\n  <tr>\\n    <td colspan=\"4\" style=\"text-align: center; color: #363; font-size: 20px; line-height: 1.6em;\">\\n        Weather forecast for places near Guwahati:\\n    </td>\\n  </tr>\\n  <tr>\\n    <th><b>Place Name</b></th>\\n    <th><b>1&ndash;3 Day Summary</b></th>\\n    <th><b>4&ndash;6 Day Summary</b></th>\\n    <th><b>7&ndash;9 Day Summary</b></th>\\n  </tr>\\n      <tr>\\n        <td bgcolor=\"#99CC99\" height=\"25\"><a href=\"/locations/Rangia/forecasts/latest\">\\n          <b>Rangia</b></a>\\n          <br/>\\n          <span class=\"dist\">38</span>&nbsp;<span class=\"distu\">km</span>\\n        </td>\\n\\n        <td bgcolor=\"#99CC99\" height=\"25\"><span class=\"phrase\">Mostly dry.</span></td>\\n        <td bgcolor=\"#99CC99\" height=\"25\"><span class=\"phrase\">Mostly dry.</span></td>\\n        <td bgcolor=\"#99CC99\" height=\"25\"><span class=\"phrase\">Mostly dry.</span></td>\\n      </tr>\\n      <tr>\\n        <td bgcolor=\"#CCCCCC\" height=\"25\"><a href=\"/locations/Shillong/forecasts/latest\">\\n          <b>Shillong</b></a>\\n          <br/>\\n          <span class=\"dist\">65</span>&nbsp;<span class=\"distu\">km</span>\\n        </td>\\n\\n        <td bgcolor=\"#CCCCCC\" height=\"25\"><span class=\"phrase\">Mostly dry.</span></td>\\n        <td bgcolor=\"#CCCCCC\" height=\"25\"><span class=\"phrase\">Mostly dry.</span></td>\\n        <td bgcolor=\"#CCCCCC\" height=\"25\"><span class=\"phrase\">Mostly dry.</span></td>\\n      </tr>\\n      <tr>\\n        <td bgcolor=\"#99CC99\" height=\"25\"><a href=\"/locations/Barpeta/forecasts/latest\">\\n          <b>Barpeta</b></a>\\n          <br/>\\n          <span class=\"dist\">79</span>&nbsp;<span class=\"distu\">km</span>\\n        </td>\\n\\n        <td bgcolor=\"#99CC99\" height=\"25\"><span class=\"phrase\">Mostly dry.</span></td>\\n        <td bgcolor=\"#99CC99\" height=\"25\"><span class=\"phrase\">Mostly dry.</span></td>\\n        <td bgcolor=\"#99CC99\" height=\"25\"><span class=\"phrase\">Mostly dry.</span></td>\\n      </tr>\\n      <tr>\\n        <td bgcolor=\"#CCCCCC\" height=\"25\"><a href=\"/locations/Nongstoin/forecasts/latest\">\\n          <b>Nongstoin</b></a>\\n          <br/>\\n          <span class=\"dist\">86</span>&nbsp;<span class=\"distu\">km</span>\\n        </td>\\n\\n        <td bgcolor=\"#CCCCCC\" height=\"25\"><span class=\"phrase\">Mostly dry.</span></td>\\n        <td bgcolor=\"#CCCCCC\" height=\"25\"><span class=\"phrase\">Mostly dry.</span></td>\\n        <td bgcolor=\"#CCCCCC\" height=\"25\"><span class=\"phrase\">Mostly dry.</span></td>\\n      </tr>\\n</table>\\n</div></section></main><div style=\"margin: 5px auto; text-align: center;\">\\n\\n  <!-- /1013347/Venatus_WeatherForecast/UnitK -->\\n  <div id=\\'UnitK\\'>\\n  <script>\\n  googletag.cmd.push(function() { googletag.display(\\'UnitK\\'); });\\n  </script>\\n  </div>\\n\\n</div><div id=\"sfooter\">\\n  <div class=\"linear-share show-for-small\">\\n    <h5 class=\"show-for-medium-up\">Share</h5>\\n<ul>\\n  <li><a href=\"https://www.facebook.com/wxforecast\"><img src=\"/images/fb.png\" /><span>Like us</span></a></li>\\n  <li><a href=\"https://twitter.com/meteo365\"><img src=\"/images/t.png\"/><span>Follow us</span></a></li>\\n  <li><a href=\"https://plus.google.com/+weatherforecastcom\" rel=\"publisher\"><img src=\"/images/g.png\" /><span>Add us</span></a></li>\\n</ul>\\n\\n  </div>\\n\\n  <div class=\"footer-logo-links show-for-large-up\">\\n    <ul>\\n        <li><a rel=\"nofollow\" href=\"http://www.surf-forecast.com\"><img alt=\"Surf-Forecast logo\" height=\"41\" src=\"https://www.weather-forecast.com/images/surf.png\" width=\"130\" /></a></li>\\n        <li><a rel=\"nofollow\" href=\"http://www.snow-forecast.com\"><img alt=\"Snow-Forecast logo\" height=\"37\" src=\"https://www.weather-forecast.com/images/snow.png\" width=\"130\" /></a></li>\\n        <li><a rel=\"nofollow\" href=\"https://www.mountain-forecast.com\"><img alt=\"Mountain-Forecast logo\" height=\"37\" src=\"https://www.weather-forecast.com/images/mountain.png\" width=\"130\" /></a></li>\\n        <li><a rel=\"nofollow\" href=\"https://www.tide-forecast.com\"><img alt=\"Tide-Forecast logo\" height=\"37\" src=\"https://www.weather-forecast.com/images/tide.png\" width=\"130\" /></a></li>\\n    </ul>\\n  </div>\\n\\n  <div class=\"footer-links\">\\n    <div class=\"row\">\\n      <div class=\"medium-4 columns\">\\n        <h5>Company</h5>\\n        <ul>\\n          <li><a href=\"/pages/contact\">Contact us</a></li>\\n          <li><a rel=\"nofollow\" href=\"/pages/terms\">Terms</a></li>\\n          <li><a rel=\"nofollow\" href=\"/pages/privacy\">Privacy</a></li>\\n          <li><a rel=\"nofollow\" href=\"/pages/cookie_policy\">Cookie Policy</a></li>\\n        </ul>\\n      </div>\\n\\n\\n      <div class=\"medium-4 columns\">\\n      <h5>Weather Photos</h5>\\n        <ul>\\n          <li><a href=\"/albums/5/photos\">Cloud Formations</a></li>\\n          <li><a href=\"/albums/18/photos\">Autumn Colours</a></li>\\n          <li><a href=\"/albums/3/photos\">Lightning</a></li>\\n          <li><a href=\"/albums/12/photos\">Rainbows &amp; Reflections</a></li>\\n          <li><a href=\"/albums/1/photos\">Snow, Ice &amp; Frost</a></li>\\n          <li><a href=\"/albums/2/photos\">Sunrises &amp; Sunsets</a></li>\\n          <li><a href=\"/albums/6/photos\">Rain &amp; Floods</a></li>\\n        </ul>\\n      </div>\\n\\n      <div class=\"medium-4 columns show-for-medium-up\">\\n        <h5 class=\"show-for-medium-up\">Share</h5>\\n<ul>\\n  <li><a href=\"https://www.facebook.com/wxforecast\"><img src=\"/images/fb.png\" /><span>Like us</span></a></li>\\n  <li><a href=\"https://twitter.com/meteo365\"><img src=\"/images/t.png\"/><span>Follow us</span></a></li>\\n  <li><a href=\"https://plus.google.com/+weatherforecastcom\" rel=\"publisher\"><img src=\"/images/g.png\" /><span>Add us</span></a></li>\\n</ul>\\n\\n      </div>\\n    </div>\\n\\n\\n    <div style=\"width:100%; text-align:center; clear: both;\">\\n      <p>&copy; 2019 Meteo365.com</p>\\n    </div>\\n  </div>\\n\\n </div>\\n<script src=\"https://www.weather-forecast.com/assets/application-5b14ce6cea0499ea873a8f099e082534.js\" type=\"text/javascript\"></script>\\n<!-- /1013347/Venatus_WeatherForecast/UnitO -->\\n<div id=\\'div-gpt-ad-1541509279503-0\\'>\\n<script>\\ngoogletag.cmd.push(function() { googletag.display(\\'div-gpt-ad-1541509279503-0\\'); });\\n</script>\\n</div>\\n<script type=\"text/javascript\">var server_time = 1547127796;\\nvar now = new Date();\\nvar time_correction = server_time - now.getTime() / 1000;\\nvar secdiff = 19800;\\nupdateLocalTime();</script><script type=\"text/javascript\">$(\".img_over_cont\").click(function() {\\n  window.location.href = \"/topographic-maps/assam\";\\n});</script><script type=\"text/javascript\">$(\".zoom-control a.zoom, .also-see-detailed a.zoom\").click(function() {\\n  if (this.href) {\\n    window.location.href=FCMAPS.mapPathPreservingMode(this.href);\\n  }\\n  return false;\\n});</script><script type=\"text/javascript\">$(\".play-control .frame-back\").click(function() {\\n  FCMAPS.advanceByFrames(-1);\\n});\\n$(\".play-control .frame-forward\").click(function() {\\n  FCMAPS.advanceByFrames(1);\\n});</script><script type=\"text/javascript\">var filenames = [];</script><script type=\"text/javascript\">\\n  var params = {};\\n  $(document).ready(function () {\\n    $(\".basic_controls .dyn_thumb_controls .mode a\").click(function() {\\n      // var a_element = $(\"a\", $(this).parents(\"td\")[0])[0];\\n      FCMAPS.setMapModeFromUrl(this.href);\\n      if (history && history.replaceState) {\\n        history.replaceState(null, \"\", this.href);\\n      }\\n      $(\".dyn_thumb_controls .selected\").removeClass(\"selected\").addClass(\"not_selected\");\\n\\n      var currentCont = $(\".not_selected\", $(this).parentsUntil(\".btncontblock, .dyn_thumb_controls\", \"tr\"))[0];\\n      $(currentCont).addClass(\"selected\").removeClass(\"not_selected\");\\n\\n      $(this).parents(\"li.not_selected\").addClass(\"selected\").removeClass(\"not_selected\");\\n      return false;\\n    });\\n    $(\".advanced_controls .dyn_thumb_controls .mode a\").click(function() {\\n      FCMAPS.setMapModeFromUrl(this.href, false);\\n      var controls_group = $(this).parents(\".dyn_thumb_controls\");\\n      controls_group.find(\".selected\").removeClass(\"selected\").addClass(\"not_selected\");\\n      $($(\".not_selected\", $(this).parents(\"tr\"))[0]).addClass(\"selected\").removeClass(\"not_selected\");\\n      return false;\\n    });\\n    params.map_mode = {\"default\":{\"type\":\"marine\",\"over\":\"none\",\"symbols\":\"cities.forecast.weather\",\"hr\":\"6\"},\"current\":{\"type\":\"marine\",\"over\":\"none\",\"symbols\":\"cities.forecast.weather\",\"hr\":\"6\"}};\\n    params.basic = true;\\n    FCMAPS.detailed = true;\\n    FCMAPS.scale = 0.67;\\n    FCMAPS.width = 601;\\n    FCMAPS.height = 448;\\n    FCMAPS.thumb_filename = \"India\";\\n    FCMAPS.titles_for_symbols = {\\n      \"cities.forecast.weather\": \" \",\\n      \"cities.forecast.wind\": \"Wind Forecast\",\\n      \"cities.forecast.temp\": \"Temperature Forecast\",\\n      \"snow.forecast.weather.top\": \"Weather Forecast (Top Lift at Resorts)\",\\n      \"snow.forecast.weather.mid\": \"Weather Forecast (Mid Mountain)\",\\n      \"snow.forecast.weather.bot\": \"Weather Forecast (Bottom Lift at Resorts)\",\\n      \"isgoodpiste\": \"Resorts with Good Piste Conditions Reported\",\\n      \"ispowder\": \"Resorts with Powder Reported\",\\n      \"isnewsnow\": \"Resorts with New Snow Reported\",\\n      \"isnewsnow\": \"Resorts with New Snow Reported\",\\n      \"summary.upper_depth\": \"Snow Depths at the Resort Top Lift\",\\n      \"summary.lower_depth\": \"Snow Depths at the Resort Bottom Lift\",\\n      \"summary.fresh_snow_depth\": \"Resorts with Fresh Snow Reported\",\\n      \"summary.lastsnowed\": \"Number of Days Since Last Snow\",\\n      \"livecams\": \"Resort Webcams\",\\n      \"isfullyopen\": \"Resorts that are Fully Open\",\\n      \"runstoresort\": \"Runs to Resort Open\",\\n      \"liveweather\": \"Weather Now\",\\n      \"livetemp\": \"Temperature Now\",\\n      \"livewind\": \"Wind Now\",\\n      \"livecitycams\": \"City Webcams\",\\n      \"livesurfcams\": \"Beach Webcams\",\\n      \"liveswell\": \"Wave Buoys\"\\n    }\\n    FCMAPS.time_descriptions = [\\'Thursday 10 Jan 5:30pm\\', \\'Thursday 10 Jan 11:30pm\\', \\'Friday 11 Jan 5:30am\\', \\'Friday 11 Jan 11:30am\\', \\'Friday 11 Jan 5:30pm\\', \\'Friday 11 Jan 11:30pm\\', \\'Saturday 12 Jan 5:30am\\', \\'Saturday 12 Jan 11:30am\\', \\'Saturday 12 Jan 5:30pm\\', \\'Saturday 12 Jan 11:30pm\\', \\'Sunday 13 Jan 5:30am\\', \\'Sunday 13 Jan 11:30am\\', \\'Sunday 13 Jan 5:30pm\\', \\'Sunday 13 Jan 11:30pm\\', \\'Monday 14 Jan 5:30am\\', \\'Monday 14 Jan 11:30am\\', \\'Monday 14 Jan 5:30pm\\', \\'Monday 14 Jan 11:30pm\\', \\'Tuesday 15 Jan 5:30am\\', \\'Tuesday 15 Jan 11:30am\\', \\'Tuesday 15 Jan 5:30pm\\', \\'Tuesday 15 Jan 11:30pm\\', \\'Wednesday 16 Jan 5:30am\\', \\'Wednesday 16 Jan 11:30am\\', \\'Wednesday 16 Jan 5:30pm\\', \\'Wednesday 16 Jan 11:30pm\\', \\'Thursday 17 Jan 5:30am\\', \\'Thursday 17 Jan 11:30am\\', \\'Thursday 17 Jan 5:30pm\\', \\'Thursday 17 Jan 11:30pm\\', \\'Friday 18 Jan 5:30am\\', \\'Friday 18 Jan 11:30am\\', \\'Friday 18 Jan 5:30pm\\', \\'Friday 18 Jan 11:30pm\\', \\'Saturday 19 Jan 5:30am\\', \\'Saturday 19 Jan 11:30am\\', \\'Saturday 19 Jan 5:30pm\\', \\'Saturday 19 Jan 11:30pm\\', \\'Sunday 20 Jan 5:30am\\', \\'Sunday 20 Jan 11:30am\\'];\\n    FCMAPS.timezone_descr = \\'IST\\';\\n    FCMAPS.thumbs_to_preload = [ \"lapse\", \"cloud\", \"weather_pressure\", \"wind\", \"prec\" ];\\n    FCMAPS.initMap1();\\n    FCMAPS.initialSwitch();\\n\\n    \\n\\n    \\n\\n    $(\\'#map-loc-namebox\\').auto_complete_loc({\\n      url: \\'/topographic-maps/assam/ac_location_name?query=__VALUE__\\',\\n      immediate_submit: false,\\n      loc_id: \\'map_loc_id\\',\\n      default_text: \\'Guwahati\\',\\n      use_first_entry: true,\\n      callback_on_choice: function(result) {\\n        eval(\"FCMAPS.putCross(\"+result+\")\");\\n      }\\n    });\\n    $(\"input[name=\\'airports\\']\").click(function() {\\n      if ($(this).attr(\\'data-class\\') == \\'rtn\\') {\\n        $(\\'#mapcontainer\\').addClass(\\'rtn\\');\\n      } else {\\n        $(\\'#mapcontainer\\').removeClass(\\'rtn\\');\\n      }\\n      FCMAPS.setAirports(this.value);\\n    });\\n  });\\n\\n  \\n\\n  var filename = \"assam\";\\n  var main_filename = \"assam\";\\n  var guests_code=\".cc23\";\\n  var members_code=\"\";\\n  var map_hosts=[\\'https://assets.weather-forecast.com\\'];\\n  var static_map_hosts=[\\'https://assets.weather-forecast.com\\'];\\n  var symbol_path = \"/maps/topographic/\";\\n  var map_path = \"/maps/topographic/\";\\n  var default_type_for_anim = \"prec\";\\n  var max_guest_hours = 240;\\n  var last_hr = 240;\\n\\n  var units = \\'metric\\';\\n  noClick = false;\\n</script><script type=\"text/javascript\">var map;\\nvar ajaxRequest;\\nvar plotlist;\\nvar plotlayers=[];\\n\\nfunction initmap() {\\n  // set up the map\\n  map = new L.Map(\\'leaflet-map-cont\\', { gestureHandling: true });\\n\\n  // create the tile layer with correct attribution\\n  var osmUrl=\\'https://{s}.tile.openstreetmap.org/{z}/{x}/{y}.png\\';\\n  var osmAttrib=\\'Map data \\xc2\\xa9 <a href=\"http://openstreetmap.org\">OpenStreetMap</a>\\';\\n  var osm = new L.TileLayer(osmUrl, {minZoom: 8, maxZoom: 12, attribution: osmAttrib});\\n\\n  // start the map in South-East England\\n  map.setView(new L.LatLng(26.13, 91.75),7);\\n  map.addLayer(osm);\\n  var marker = L.marker([26.13, 91.75]).addTo(map);\\n}\\ninitmap();</script>  <script typt=\"text/javascript\">\\n    $(document).ready(function () {\\n      var url_str = \\'/locations/ac_location_name?query=__VALUE__\\';\\n      var default_text_str = \\'ENTER A CITY OR COUNTRY:\\';\\n      $(\\'#location\\').auto_complete_loc({url: url_str, default_text: default_text_str, loc_id: \\'location_loc_id\\', prevent_empty_submit: true});\\n    });\\n  </script>\\n<script type=\"text/javascript\">if (typeof init_uj == \"function\") {\\n  init_uj();\\n}</script></body></html>'"
      ]
     },
     "execution_count": 4,
     "metadata": {},
     "output_type": "execute_result"
    }
   ],
   "source": [
    "data"
   ]
  },
  {
   "cell_type": "code",
   "execution_count": 4,
   "metadata": {},
   "outputs": [],
   "source": [
    "data1=data.decode('utf-8')\n",
    "#file1=open('file1.txt','w+')\n",
    "#file1.write(data1)\n",
    "#file1.close()"
   ]
  },
  {
   "cell_type": "code",
   "execution_count": 5,
   "metadata": {},
   "outputs": [],
   "source": [
    "m=re.search('span class=\"phrase\">',data1)\n",
    "start= m.end()\n",
    "end = start + 300\n",
    "newstr= data1[start:end]\n"
   ]
  },
  {
   "cell_type": "code",
   "execution_count": 6,
   "metadata": {},
   "outputs": [
    {
     "data": {
      "text/plain": [
       "'Mostly dry. Warm (max 24&deg;C on Tue afternoon, min 11&deg;C on Thu night). Wind will be generally light'"
      ]
     },
     "execution_count": 6,
     "metadata": {},
     "output_type": "execute_result"
    }
   ],
   "source": [
    "m=re.search('</span>',newstr)\n",
    "end = m.start()-1\n",
    "newstr1=newstr[0:end]\n",
    "newstr1"
   ]
  },
  {
   "cell_type": "code",
   "execution_count": 1,
   "metadata": {},
   "outputs": [],
   "source": [
    "#https://www.weather-forecast.com/locations/Guwahati/forecasts/latest"
   ]
  },
  {
   "cell_type": "code",
   "execution_count": 21,
   "metadata": {},
   "outputs": [
    {
     "name": "stdout",
     "output_type": "stream",
     "text": [
      "['kerr']\n"
     ]
    }
   ],
   "source": [
    "import re\n",
    "src=\"hakerrank\"\n",
    "target=\"k[qwertyuiopasdfghjklzxcvbnm]rr\"\n",
    "s=re.findall(target,src)\n",
    "print(s)\n",
    "#len(s[0])"
   ]
  },
  {
   "cell_type": "code",
   "execution_count": 22,
   "metadata": {},
   "outputs": [
    {
     "data": {
      "text/plain": [
       "-1"
      ]
     },
     "execution_count": 22,
     "metadata": {},
     "output_type": "execute_result"
    }
   ],
   "source": [
    "src.find(target,0,len(src))"
   ]
  },
  {
   "cell_type": "code",
   "execution_count": null,
   "metadata": {},
   "outputs": [],
   "source": [
    "for i in range(len(src)):\n",
    "    "
   ]
  }
 ],
 "metadata": {
  "kernelspec": {
   "display_name": "Python 3",
   "language": "python",
   "name": "python3"
  },
  "language_info": {
   "codemirror_mode": {
    "name": "ipython",
    "version": 3
   },
   "file_extension": ".py",
   "mimetype": "text/x-python",
   "name": "python",
   "nbconvert_exporter": "python",
   "pygments_lexer": "ipython3",
   "version": "3.6.5"
  }
 },
 "nbformat": 4,
 "nbformat_minor": 2
}
